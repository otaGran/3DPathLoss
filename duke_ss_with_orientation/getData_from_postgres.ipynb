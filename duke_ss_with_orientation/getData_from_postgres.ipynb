{
 "cells": [
  {
   "cell_type": "code",
   "execution_count": 21,
   "metadata": {
    "ExecuteTime": {
     "end_time": "2023-08-03T16:08:48.066522Z",
     "start_time": "2023-08-03T16:08:45.727134Z"
    }
   },
   "outputs": [
    {
     "name": "stdout",
     "output_type": "stream",
     "text": [
      "[55.28700380270865, 155.21494239789422, 52.42495988008196, 78.01999413424838, 69.69835802688246]\n",
      "[36.00112734, 36.00105809, 36.00198757, 36.00123582, 36.00207911]\n",
      "[-78.93929168, -78.93896998, -78.9380465, -78.93855986, -78.93796977]\n",
      "4\n"
     ]
    }
   ],
   "source": [
    "from decimal import Decimal\n",
    "import json\n",
    "import psycopg2\n",
    "\n",
    "mid_lat, mid_long = 36.00192134954784, -78.937821464194\n",
    "\n",
    "\n",
    "def rows_to_dict(rowsss, cccursor):\n",
    "    columns = [desc[0] for desc in cccursor.description]\n",
    "    result = []\n",
    "    for rrr in rowsss:\n",
    "        result.append(dict(zip(columns, rrr)))\n",
    "    return result\n",
    "\n",
    "\n",
    "def combine_dicts_to_dict_of_lists(dict_list):\n",
    "    result = {}\n",
    "    for dictionary in dict_list:\n",
    "        for key, value in dictionary.items():\n",
    "            if key not in result:\n",
    "                result[key] = []\n",
    "            result[key].append(value)\n",
    "    for key in result.keys():\n",
    "        if isinstance(result[key][0], Decimal):\n",
    "            for iii, item in enumerate(result[key]):\n",
    "                result[key][iii] = float(item)\n",
    "    return result\n",
    "\n",
    "\n",
    "def get_data_dict():\n",
    "    connection = psycopg2.connect(database=db_name, user=db_user,\n",
    "                                  password=db_password, host=db_host, port=db_port)\n",
    "    cursor = connection.cursor()\n",
    "\n",
    "    cursor.execute(\"SELECT latitude as latitude, longitude as longitude, \"\n",
    "                   \"rssi as rssi, azimuth as azimuth FROM \\\"SigCapDetails\\\" \"\n",
    "                   \"WHERE \\\"mPci\\\"=20 \"#and \\\"uid\\\">2518 \"\n",
    "                   \"and \\\"recordTimeStamp\\\" between '2023-08-01' and '2023-08-31'\")\n",
    "    rows = cursor.fetchall()\n",
    "\n",
    "    df_ret = combine_dicts_to_dict_of_lists(rows_to_dict(rows, cursor))\n",
    "    cursor.close()\n",
    "    connection.close()\n",
    "    return df_ret\n",
    "\n",
    "\n",
    "with open(\"SQLpwd.json\", 'r') as file:\n",
    "    credential = json.load(file)\n",
    "db_host = credential['db_host']\n",
    "db_port = credential['db_port']\n",
    "db_name = credential['db_name']\n",
    "db_user = credential['db_user']\n",
    "db_password = credential['db_password']\n",
    "\n",
    "df_SigCapDetails = get_data_dict()\n",
    "print(df_SigCapDetails['azimuth'][0:5])\n",
    "print(df_SigCapDetails['latitude'][0:5])\n",
    "print(df_SigCapDetails['longitude'][0:5])\n",
    "print(len(list(df_SigCapDetails)))"
   ]
  },
  {
   "cell_type": "code",
   "execution_count": 22,
   "metadata": {
    "ExecuteTime": {
     "end_time": "2023-08-03T16:09:21.851442Z",
     "start_time": "2023-08-03T16:09:21.843503Z"
    }
   },
   "outputs": [],
   "source": [
    "from dotenv import load_dotenv\n",
    "import os\n",
    "import pandas as pd\n",
    "import numpy as np\n",
    "\n",
    "load_dotenv()\n",
    "API_KEY = os.getenv(\"API_KEY\")"
   ]
  },
  {
   "cell_type": "code",
   "execution_count": 23,
   "metadata": {
    "ExecuteTime": {
     "end_time": "2023-08-03T16:09:22.974137Z",
     "start_time": "2023-08-03T16:09:22.962539Z"
    }
   },
   "outputs": [
    {
     "data": {
      "text/html": "<style>\n        .bk-notebook-logo {\n            display: block;\n            width: 20px;\n            height: 20px;\n            background-image: url(data:image/png;base64,iVBORw0KGgoAAAANSUhEUgAAABQAAAAUCAYAAACNiR0NAAAABHNCSVQICAgIfAhkiAAAAAlwSFlzAAALEgAACxIB0t1+/AAAABx0RVh0U29mdHdhcmUAQWRvYmUgRmlyZXdvcmtzIENTNui8sowAAAOkSURBVDiNjZRtaJVlGMd/1/08zzln5zjP1LWcU9N0NkN8m2CYjpgQYQXqSs0I84OLIC0hkEKoPtiH3gmKoiJDU7QpLgoLjLIQCpEsNJ1vqUOdO7ppbuec5+V+rj4ctwzd8IIbbi6u+8f1539dt3A78eXC7QizUF7gyV1fD1Yqg4JWz84yffhm0qkFqBogB9rM8tZdtwVsPUhWhGcFJngGeWrPzHm5oaMmkfEg1usvLFyc8jLRqDOMru7AyC8saQr7GG7f5fvDeH7Ej8CM66nIF+8yngt6HWaKh7k49Soy9nXurCi1o3qUbS3zWfrYeQDTB/Qj6kX6Ybhw4B+bOYoLKCC9H3Nu/leUTZ1JdRWkkn2ldcCamzrcf47KKXdAJllSlxAOkRgyHsGC/zRday5Qld9DyoM4/q/rUoy/CXh3jzOu3bHUVZeU+DEn8FInkPBFlu3+nW3Nw0mk6vCDiWg8CeJaxEwuHS3+z5RgY+YBR6V1Z1nxSOfoaPa4LASWxxdNp+VWTk7+4vzaou8v8PN+xo+KY2xsw6une2frhw05CTYOmQvsEhjhWjn0bmXPjpE1+kplmmkP3suftwTubK9Vq22qKmrBhpY4jvd5afdRA3wGjFAgcnTK2s4hY0/GPNIb0nErGMCRxWOOX64Z8RAC4oCXdklmEvcL8o0BfkNK4lUg9HTl+oPlQxdNo3Mg4Nv175e/1LDGzZen30MEjRUtmXSfiTVu1kK8W4txyV6BMKlbgk3lMwYCiusNy9fVfvvwMxv8Ynl6vxoByANLTWplvuj/nF9m2+PDtt1eiHPBr1oIfhCChQMBw6Aw0UulqTKZdfVvfG7VcfIqLG9bcldL/+pdWTLxLUy8Qq38heUIjh4XlzZxzQm19lLFlr8vdQ97rjZVOLf8nclzckbcD4wxXMidpX30sFd37Fv/GtwwhzhxGVAprjbg0gCAEeIgwCZyTV2Z1REEW8O4py0wsjeloKoMr6iCY6dP92H6Vw/oTyICIthibxjm/DfN9lVz8IqtqKYLUXfoKVMVQVVJOElGjrnnUt9T9wbgp8AyYKaGlqingHZU/uG2NTZSVqwHQTWkx9hxjkpWDaCg6Ckj5qebgBVbT3V3NNXMSiWSDdGV3hrtzla7J+duwPOToIg42ChPQOQjspnSlp1V+Gjdged7+8UN5CRAV7a5EdFNwCjEaBR27b3W890TE7g24NAP/mMDXRWrGoFPQI9ls/MWO2dWFAar/xcOIImbbpA3zgAAAABJRU5ErkJggg==);\n        }\n    </style>\n    <div>\n        <a href=\"https://bokeh.org\" target=\"_blank\" class=\"bk-notebook-logo\"></a>\n        <span id=\"fd2cc1ab-b3c7-4646-81a7-db2fd657fb74\">Loading BokehJS ...</span>\n    </div>\n"
     },
     "metadata": {},
     "output_type": "display_data"
    },
    {
     "data": {
      "application/javascript": "(function(root) {\n  function now() {\n    return new Date();\n  }\n\n  const force = true;\n\n  if (typeof root._bokeh_onload_callbacks === \"undefined\" || force === true) {\n    root._bokeh_onload_callbacks = [];\n    root._bokeh_is_loading = undefined;\n  }\n\nconst JS_MIME_TYPE = 'application/javascript';\n  const HTML_MIME_TYPE = 'text/html';\n  const EXEC_MIME_TYPE = 'application/vnd.bokehjs_exec.v0+json';\n  const CLASS_NAME = 'output_bokeh rendered_html';\n\n  /**\n   * Render data to the DOM node\n   */\n  function render(props, node) {\n    const script = document.createElement(\"script\");\n    node.appendChild(script);\n  }\n\n  /**\n   * Handle when an output is cleared or removed\n   */\n  function handleClearOutput(event, handle) {\n    const cell = handle.cell;\n\n    const id = cell.output_area._bokeh_element_id;\n    const server_id = cell.output_area._bokeh_server_id;\n    // Clean up Bokeh references\n    if (id != null && id in Bokeh.index) {\n      Bokeh.index[id].model.document.clear();\n      delete Bokeh.index[id];\n    }\n\n    if (server_id !== undefined) {\n      // Clean up Bokeh references\n      const cmd_clean = \"from bokeh.io.state import curstate; print(curstate().uuid_to_server['\" + server_id + \"'].get_sessions()[0].document.roots[0]._id)\";\n      cell.notebook.kernel.execute(cmd_clean, {\n        iopub: {\n          output: function(msg) {\n            const id = msg.content.text.trim();\n            if (id in Bokeh.index) {\n              Bokeh.index[id].model.document.clear();\n              delete Bokeh.index[id];\n            }\n          }\n        }\n      });\n      // Destroy server and session\n      const cmd_destroy = \"import bokeh.io.notebook as ion; ion.destroy_server('\" + server_id + \"')\";\n      cell.notebook.kernel.execute(cmd_destroy);\n    }\n  }\n\n  /**\n   * Handle when a new output is added\n   */\n  function handleAddOutput(event, handle) {\n    const output_area = handle.output_area;\n    const output = handle.output;\n\n    // limit handleAddOutput to display_data with EXEC_MIME_TYPE content only\n    if ((output.output_type != \"display_data\") || (!Object.prototype.hasOwnProperty.call(output.data, EXEC_MIME_TYPE))) {\n      return\n    }\n\n    const toinsert = output_area.element.find(\".\" + CLASS_NAME.split(' ')[0]);\n\n    if (output.metadata[EXEC_MIME_TYPE][\"id\"] !== undefined) {\n      toinsert[toinsert.length - 1].firstChild.textContent = output.data[JS_MIME_TYPE];\n      // store reference to embed id on output_area\n      output_area._bokeh_element_id = output.metadata[EXEC_MIME_TYPE][\"id\"];\n    }\n    if (output.metadata[EXEC_MIME_TYPE][\"server_id\"] !== undefined) {\n      const bk_div = document.createElement(\"div\");\n      bk_div.innerHTML = output.data[HTML_MIME_TYPE];\n      const script_attrs = bk_div.children[0].attributes;\n      for (let i = 0; i < script_attrs.length; i++) {\n        toinsert[toinsert.length - 1].firstChild.setAttribute(script_attrs[i].name, script_attrs[i].value);\n        toinsert[toinsert.length - 1].firstChild.textContent = bk_div.children[0].textContent\n      }\n      // store reference to server id on output_area\n      output_area._bokeh_server_id = output.metadata[EXEC_MIME_TYPE][\"server_id\"];\n    }\n  }\n\n  function register_renderer(events, OutputArea) {\n\n    function append_mime(data, metadata, element) {\n      // create a DOM node to render to\n      const toinsert = this.create_output_subarea(\n        metadata,\n        CLASS_NAME,\n        EXEC_MIME_TYPE\n      );\n      this.keyboard_manager.register_events(toinsert);\n      // Render to node\n      const props = {data: data, metadata: metadata[EXEC_MIME_TYPE]};\n      render(props, toinsert[toinsert.length - 1]);\n      element.append(toinsert);\n      return toinsert\n    }\n\n    /* Handle when an output is cleared or removed */\n    events.on('clear_output.CodeCell', handleClearOutput);\n    events.on('delete.Cell', handleClearOutput);\n\n    /* Handle when a new output is added */\n    events.on('output_added.OutputArea', handleAddOutput);\n\n    /**\n     * Register the mime type and append_mime function with output_area\n     */\n    OutputArea.prototype.register_mime_type(EXEC_MIME_TYPE, append_mime, {\n      /* Is output safe? */\n      safe: true,\n      /* Index of renderer in `output_area.display_order` */\n      index: 0\n    });\n  }\n\n  // register the mime type if in Jupyter Notebook environment and previously unregistered\n  if (root.Jupyter !== undefined) {\n    const events = require('base/js/events');\n    const OutputArea = require('notebook/js/outputarea').OutputArea;\n\n    if (OutputArea.prototype.mime_types().indexOf(EXEC_MIME_TYPE) == -1) {\n      register_renderer(events, OutputArea);\n    }\n  }\n  if (typeof (root._bokeh_timeout) === \"undefined\" || force === true) {\n    root._bokeh_timeout = Date.now() + 5000;\n    root._bokeh_failed_load = false;\n  }\n\n  const NB_LOAD_WARNING = {'data': {'text/html':\n     \"<div style='background-color: #fdd'>\\n\"+\n     \"<p>\\n\"+\n     \"BokehJS does not appear to have successfully loaded. If loading BokehJS from CDN, this \\n\"+\n     \"may be due to a slow or bad network connection. Possible fixes:\\n\"+\n     \"</p>\\n\"+\n     \"<ul>\\n\"+\n     \"<li>re-rerun `output_notebook()` to attempt to load from CDN again, or</li>\\n\"+\n     \"<li>use INLINE resources instead, as so:</li>\\n\"+\n     \"</ul>\\n\"+\n     \"<code>\\n\"+\n     \"from bokeh.resources import INLINE\\n\"+\n     \"output_notebook(resources=INLINE)\\n\"+\n     \"</code>\\n\"+\n     \"</div>\"}};\n\n  function display_loaded() {\n    const el = document.getElementById(\"fd2cc1ab-b3c7-4646-81a7-db2fd657fb74\");\n    if (el != null) {\n      el.textContent = \"BokehJS is loading...\";\n    }\n    if (root.Bokeh !== undefined) {\n      if (el != null) {\n        el.textContent = \"BokehJS \" + root.Bokeh.version + \" successfully loaded.\";\n      }\n    } else if (Date.now() < root._bokeh_timeout) {\n      setTimeout(display_loaded, 100)\n    }\n  }\n\n  function run_callbacks() {\n    try {\n      root._bokeh_onload_callbacks.forEach(function(callback) {\n        if (callback != null)\n          callback();\n      });\n    } finally {\n      delete root._bokeh_onload_callbacks\n    }\n    console.debug(\"Bokeh: all callbacks have finished\");\n  }\n\n  function load_libs(css_urls, js_urls, callback) {\n    if (css_urls == null) css_urls = [];\n    if (js_urls == null) js_urls = [];\n\n    root._bokeh_onload_callbacks.push(callback);\n    if (root._bokeh_is_loading > 0) {\n      console.debug(\"Bokeh: BokehJS is being loaded, scheduling callback at\", now());\n      return null;\n    }\n    if (js_urls == null || js_urls.length === 0) {\n      run_callbacks();\n      return null;\n    }\n    console.debug(\"Bokeh: BokehJS not loaded, scheduling load and callback at\", now());\n    root._bokeh_is_loading = css_urls.length + js_urls.length;\n\n    function on_load() {\n      root._bokeh_is_loading--;\n      if (root._bokeh_is_loading === 0) {\n        console.debug(\"Bokeh: all BokehJS libraries/stylesheets loaded\");\n        run_callbacks()\n      }\n    }\n\n    function on_error(url) {\n      console.error(\"failed to load \" + url);\n    }\n\n    for (let i = 0; i < css_urls.length; i++) {\n      const url = css_urls[i];\n      const element = document.createElement(\"link\");\n      element.onload = on_load;\n      element.onerror = on_error.bind(null, url);\n      element.rel = \"stylesheet\";\n      element.type = \"text/css\";\n      element.href = url;\n      console.debug(\"Bokeh: injecting link tag for BokehJS stylesheet: \", url);\n      document.body.appendChild(element);\n    }\n\n    for (let i = 0; i < js_urls.length; i++) {\n      const url = js_urls[i];\n      const element = document.createElement('script');\n      element.onload = on_load;\n      element.onerror = on_error.bind(null, url);\n      element.async = false;\n      element.src = url;\n      console.debug(\"Bokeh: injecting script tag for BokehJS library: \", url);\n      document.head.appendChild(element);\n    }\n  };\n\n  function inject_raw_css(css) {\n    const element = document.createElement(\"style\");\n    element.appendChild(document.createTextNode(css));\n    document.body.appendChild(element);\n  }\n\n  const js_urls = [\"https://cdn.bokeh.org/bokeh/release/bokeh-3.1.1.min.js\", \"https://cdn.bokeh.org/bokeh/release/bokeh-gl-3.1.1.min.js\", \"https://cdn.bokeh.org/bokeh/release/bokeh-widgets-3.1.1.min.js\", \"https://cdn.bokeh.org/bokeh/release/bokeh-tables-3.1.1.min.js\", \"https://cdn.bokeh.org/bokeh/release/bokeh-mathjax-3.1.1.min.js\"];\n  const css_urls = [];\n\n  const inline_js = [    function(Bokeh) {\n      Bokeh.set_log_level(\"info\");\n    },\nfunction(Bokeh) {\n    }\n  ];\n\n  function run_inline_js() {\n    if (root.Bokeh !== undefined || force === true) {\n          for (let i = 0; i < inline_js.length; i++) {\n      inline_js[i].call(root, root.Bokeh);\n    }\nif (force === true) {\n        display_loaded();\n      }} else if (Date.now() < root._bokeh_timeout) {\n      setTimeout(run_inline_js, 100);\n    } else if (!root._bokeh_failed_load) {\n      console.log(\"Bokeh: BokehJS failed to load within specified timeout.\");\n      root._bokeh_failed_load = true;\n    } else if (force !== true) {\n      const cell = $(document.getElementById(\"fd2cc1ab-b3c7-4646-81a7-db2fd657fb74\")).parents('.cell').data().cell;\n      cell.output_area.append_execute_result(NB_LOAD_WARNING)\n    }\n  }\n\n  if (root._bokeh_is_loading === 0) {\n    console.debug(\"Bokeh: BokehJS loaded, going straight to plotting\");\n    run_inline_js();\n  } else {\n    load_libs(css_urls, js_urls, function() {\n      console.debug(\"Bokeh: BokehJS plotting callback run at\", now());\n      run_inline_js();\n    });\n  }\n}(window));",
      "application/vnd.bokehjs_load.v0+json": "(function(root) {\n  function now() {\n    return new Date();\n  }\n\n  const force = true;\n\n  if (typeof root._bokeh_onload_callbacks === \"undefined\" || force === true) {\n    root._bokeh_onload_callbacks = [];\n    root._bokeh_is_loading = undefined;\n  }\n\n\n  if (typeof (root._bokeh_timeout) === \"undefined\" || force === true) {\n    root._bokeh_timeout = Date.now() + 5000;\n    root._bokeh_failed_load = false;\n  }\n\n  const NB_LOAD_WARNING = {'data': {'text/html':\n     \"<div style='background-color: #fdd'>\\n\"+\n     \"<p>\\n\"+\n     \"BokehJS does not appear to have successfully loaded. If loading BokehJS from CDN, this \\n\"+\n     \"may be due to a slow or bad network connection. Possible fixes:\\n\"+\n     \"</p>\\n\"+\n     \"<ul>\\n\"+\n     \"<li>re-rerun `output_notebook()` to attempt to load from CDN again, or</li>\\n\"+\n     \"<li>use INLINE resources instead, as so:</li>\\n\"+\n     \"</ul>\\n\"+\n     \"<code>\\n\"+\n     \"from bokeh.resources import INLINE\\n\"+\n     \"output_notebook(resources=INLINE)\\n\"+\n     \"</code>\\n\"+\n     \"</div>\"}};\n\n  function display_loaded() {\n    const el = document.getElementById(\"fd2cc1ab-b3c7-4646-81a7-db2fd657fb74\");\n    if (el != null) {\n      el.textContent = \"BokehJS is loading...\";\n    }\n    if (root.Bokeh !== undefined) {\n      if (el != null) {\n        el.textContent = \"BokehJS \" + root.Bokeh.version + \" successfully loaded.\";\n      }\n    } else if (Date.now() < root._bokeh_timeout) {\n      setTimeout(display_loaded, 100)\n    }\n  }\n\n  function run_callbacks() {\n    try {\n      root._bokeh_onload_callbacks.forEach(function(callback) {\n        if (callback != null)\n          callback();\n      });\n    } finally {\n      delete root._bokeh_onload_callbacks\n    }\n    console.debug(\"Bokeh: all callbacks have finished\");\n  }\n\n  function load_libs(css_urls, js_urls, callback) {\n    if (css_urls == null) css_urls = [];\n    if (js_urls == null) js_urls = [];\n\n    root._bokeh_onload_callbacks.push(callback);\n    if (root._bokeh_is_loading > 0) {\n      console.debug(\"Bokeh: BokehJS is being loaded, scheduling callback at\", now());\n      return null;\n    }\n    if (js_urls == null || js_urls.length === 0) {\n      run_callbacks();\n      return null;\n    }\n    console.debug(\"Bokeh: BokehJS not loaded, scheduling load and callback at\", now());\n    root._bokeh_is_loading = css_urls.length + js_urls.length;\n\n    function on_load() {\n      root._bokeh_is_loading--;\n      if (root._bokeh_is_loading === 0) {\n        console.debug(\"Bokeh: all BokehJS libraries/stylesheets loaded\");\n        run_callbacks()\n      }\n    }\n\n    function on_error(url) {\n      console.error(\"failed to load \" + url);\n    }\n\n    for (let i = 0; i < css_urls.length; i++) {\n      const url = css_urls[i];\n      const element = document.createElement(\"link\");\n      element.onload = on_load;\n      element.onerror = on_error.bind(null, url);\n      element.rel = \"stylesheet\";\n      element.type = \"text/css\";\n      element.href = url;\n      console.debug(\"Bokeh: injecting link tag for BokehJS stylesheet: \", url);\n      document.body.appendChild(element);\n    }\n\n    for (let i = 0; i < js_urls.length; i++) {\n      const url = js_urls[i];\n      const element = document.createElement('script');\n      element.onload = on_load;\n      element.onerror = on_error.bind(null, url);\n      element.async = false;\n      element.src = url;\n      console.debug(\"Bokeh: injecting script tag for BokehJS library: \", url);\n      document.head.appendChild(element);\n    }\n  };\n\n  function inject_raw_css(css) {\n    const element = document.createElement(\"style\");\n    element.appendChild(document.createTextNode(css));\n    document.body.appendChild(element);\n  }\n\n  const js_urls = [\"https://cdn.bokeh.org/bokeh/release/bokeh-3.1.1.min.js\", \"https://cdn.bokeh.org/bokeh/release/bokeh-gl-3.1.1.min.js\", \"https://cdn.bokeh.org/bokeh/release/bokeh-widgets-3.1.1.min.js\", \"https://cdn.bokeh.org/bokeh/release/bokeh-tables-3.1.1.min.js\", \"https://cdn.bokeh.org/bokeh/release/bokeh-mathjax-3.1.1.min.js\"];\n  const css_urls = [];\n\n  const inline_js = [    function(Bokeh) {\n      Bokeh.set_log_level(\"info\");\n    },\nfunction(Bokeh) {\n    }\n  ];\n\n  function run_inline_js() {\n    if (root.Bokeh !== undefined || force === true) {\n          for (let i = 0; i < inline_js.length; i++) {\n      inline_js[i].call(root, root.Bokeh);\n    }\nif (force === true) {\n        display_loaded();\n      }} else if (Date.now() < root._bokeh_timeout) {\n      setTimeout(run_inline_js, 100);\n    } else if (!root._bokeh_failed_load) {\n      console.log(\"Bokeh: BokehJS failed to load within specified timeout.\");\n      root._bokeh_failed_load = true;\n    } else if (force !== true) {\n      const cell = $(document.getElementById(\"fd2cc1ab-b3c7-4646-81a7-db2fd657fb74\")).parents('.cell').data().cell;\n      cell.output_area.append_execute_result(NB_LOAD_WARNING)\n    }\n  }\n\n  if (root._bokeh_is_loading === 0) {\n    console.debug(\"Bokeh: BokehJS loaded, going straight to plotting\");\n    run_inline_js();\n  } else {\n    load_libs(css_urls, js_urls, function() {\n      console.debug(\"Bokeh: BokehJS plotting callback run at\", now());\n      run_inline_js();\n    });\n  }\n}(window));"
     },
     "metadata": {},
     "output_type": "display_data"
    }
   ],
   "source": [
    "from bokeh.io import output_notebook\n",
    "from bokeh.plotting import figure, show, gmap\n",
    "from bokeh.models import ColumnDataSource, LogColorMapper, LinearColorMapper, HoverTool, GMapOptions, WheelZoomTool, ArrowHead\n",
    "from bokeh.models import ColorBar\n",
    "import bokeh.palettes as palettes\n",
    "output_notebook()"
   ]
  },
  {
   "cell_type": "code",
   "execution_count": 29,
   "metadata": {
    "ExecuteTime": {
     "end_time": "2023-08-03T16:12:55.947359Z",
     "start_time": "2023-08-03T16:12:55.852223Z"
    }
   },
   "outputs": [
    {
     "name": "stdout",
     "output_type": "stream",
     "text": [
      "    latitude  longitude  rssi     azimuth\n",
      "0  36.001127 -78.939292   -89   55.287004\n",
      "1  36.001058 -78.938970   -91  155.214942\n",
      "2  36.001988 -78.938046   -69   52.424960\n",
      "3  36.001236 -78.938560   -81   78.019994\n",
      "4  36.002079 -78.937970   -65   69.698358\n",
      "267\n"
     ]
    },
    {
     "data": {
      "text/html": "\n  <div id=\"be6b0959-8652-41b9-b36c-531d744d59c4\" data-root-id=\"p2088\" style=\"display: contents;\"></div>\n"
     },
     "metadata": {},
     "output_type": "display_data"
    },
    {
     "data": {
      "application/javascript": "(function(root) {\n  function embed_document(root) {\n  const docs_json = {\"a9fbe29f-0fa8-4f19-b43a-63341af8114c\":{\"version\":\"3.1.1\",\"title\":\"Bokeh Application\",\"defs\":[],\"roots\":[{\"type\":\"object\",\"name\":\"GMap\",\"id\":\"p2088\",\"attributes\":{\"width\":800,\"x_range\":{\"type\":\"object\",\"name\":\"Range1d\",\"id\":\"p2089\"},\"y_range\":{\"type\":\"object\",\"name\":\"Range1d\",\"id\":\"p2090\"},\"x_scale\":{\"type\":\"object\",\"name\":\"LinearScale\",\"id\":\"p2096\"},\"y_scale\":{\"type\":\"object\",\"name\":\"LinearScale\",\"id\":\"p2095\"},\"title\":{\"type\":\"object\",\"name\":\"Title\",\"id\":\"p2093\",\"attributes\":{\"text\":\"rssi SigCapDetails\",\"text_color\":\"#E0E0E0\",\"text_font\":\"Helvetica\",\"text_font_size\":\"1.15em\"}},\"outline_line_color\":\"#E0E0E0\",\"outline_line_alpha\":0.25,\"renderers\":[{\"type\":\"object\",\"name\":\"GlyphRenderer\",\"id\":\"p2124\",\"attributes\":{\"data_source\":{\"type\":\"object\",\"name\":\"ColumnDataSource\",\"id\":\"p2114\",\"attributes\":{\"selected\":{\"type\":\"object\",\"name\":\"Selection\",\"id\":\"p2115\",\"attributes\":{\"indices\":[],\"line_indices\":[]}},\"selection_policy\":{\"type\":\"object\",\"name\":\"UnionRenderers\",\"id\":\"p2116\"},\"data\":{\"type\":\"map\",\"entries\":[[\"index\",{\"type\":\"ndarray\",\"array\":{\"type\":\"bytes\",\"data\":\"AAAAAAEAAAACAAAAAwAAAAQAAAAFAAAABgAAAAcAAAAIAAAACQAAAAoAAAALAAAADAAAAA0AAAAOAAAADwAAABAAAAARAAAAEgAAABMAAAAUAAAAFQAAABYAAAAXAAAAGAAAABkAAAAaAAAAGwAAABwAAAAdAAAAHgAAAB8AAAAgAAAAIQAAACIAAAAjAAAAJAAAACUAAAAmAAAAJwAAACgAAAApAAAAKgAAACsAAAAsAAAALQAAAC4AAAAvAAAAMAAAADEAAAAyAAAAMwAAADQAAAA1AAAANgAAADcAAAA4AAAAOQAAADoAAAA7AAAAPAAAAD0AAAA+AAAAPwAAAEAAAABBAAAAQgAAAEMAAABEAAAARQAAAEYAAABHAAAASAAAAEkAAABKAAAASwAAAEwAAABNAAAATgAAAE8AAABQAAAAUQAAAFIAAABTAAAAVAAAAFUAAABWAAAAVwAAAFgAAABZAAAAWgAAAFsAAABcAAAAXQAAAF4AAABfAAAAYAAAAGEAAABiAAAAYwAAAGQAAABlAAAAZgAAAGcAAABoAAAAaQAAAGoAAABrAAAAbAAAAG0AAABuAAAAbwAAAHAAAABxAAAAcgAAAHMAAAB0AAAAdQAAAHYAAAB3AAAAeAAAAHkAAAB6AAAAewAAAHwAAAB9AAAAfgAAAH8AAACAAAAAgQAAAIIAAACDAAAAhAAAAIUAAACGAAAAhwAAAIgAAACJAAAAigAAAIsAAACMAAAAjQAAAI4AAACPAAAAkAAAAJEAAACSAAAAkwAAAJQAAACVAAAAlgAAAJcAAACYAAAAmQAAAJoAAACbAAAAnAAAAJ0AAACeAAAAnwAAAKAAAAChAAAAogAAAKMAAACkAAAApQAAAKYAAACnAAAAqAAAAKkAAACqAAAAqwAAAKwAAACtAAAArgAAAK8AAACwAAAAsQAAALIAAACzAAAAtAAAALUAAAC2AAAAtwAAALgAAAC5AAAAugAAALsAAAC8AAAAvQAAAL4AAAC/AAAAwAAAAMEAAADCAAAAwwAAAMQAAADFAAAAxgAAAMcAAADIAAAAyQAAAMoAAADLAAAAzAAAAM0AAADOAAAAzwAAANAAAADRAAAA0gAAANMAAADUAAAA1QAAANYAAADXAAAA2AAAANkAAADaAAAA2wAAANwAAADdAAAA3gAAAN8AAADgAAAA4QAAAOIAAADjAAAA5AAAAOUAAADmAAAA5wAAAOgAAADpAAAA6gAAAOsAAADsAAAA7QAAAO4AAADvAAAA8AAAAPEAAADyAAAA8wAAAPQAAAD1AAAA9gAAAPcAAAD4AAAA+QAAAPoAAAD7AAAA/AAAAP0AAAD+AAAA/wAAAAABAAABAQAAAgEAAAMBAAAEAQAABQEAAAYBAAAHAQAACAEAAAkBAAAKAQAA\"},\"shape\":[267],\"dtype\":\"int32\",\"order\":\"little\"}],[\"latitude\",{\"type\":\"ndarray\",\"array\":{\"type\":\"bytes\",\"data\":\"OjfQ8CQAQkAe+earIgBCQAIT8iBBAEJA6z3PfigAQkA2utYgRABCQNFDyNQ4AEJAzQZXSBIAQkAw8jZfOgBCQG91rXszAEJAuvK8yEIAQkAYZyUQIwBCQEWr5ns+AEJACfs09j4AQkDGBgO2IABCQC9j0CovAEJAXCBB8WMAQkD90NQENABCQD1YUjBbAEJAx/3cCkAAQkADELGgNABCQBEwgBEwAEJAMDFUzUUAQkAaECkfZQBCQNkrZmMpAEJA7vwurmkAQkBKNqoVHgBCQN2uG98sAEJAsTn/XTwAQkC1go2INQBCQN25SW8sAEJA0eDfNSIAQkClrJW/MQBCQG8Y3EEyAEJAInJVNDEAQkAiclU0MQBCQKh4dfErAEJACdEQREwAQkBvGNxBMgBCQONcu5tEAEJAPVhSMFsAQkCNCnteGgBCQAdOKthOAEJAPdBtNhQAQkC3njq5UwBCQIl9fu8hAEJAFhtvAj4AQkCggYG1JABCQNzc81cjAEJA18lTNUUAQkDEdr1VUwBCQFv7rzE3AEJACEUMnjYAQkBWbAaXEgBCQBimQn4uAEJAAxCxoDQAQkAHFH9OIABCQBDnwPY8AEJAGhDG9CkAQkAb4FntJwBCQDw0yRsiAEJAxHa9VVMAQkAe4t2ZIgBCQARrg7AmAEJAMPI2XzoAQkDy79ADYQBCQCzSBlgSAEJAwr3XtWIAQkACE/IgQQBCQIoU0jMgAEJA8u/QA2EAQkDGBgO2IABCQLE5/108AEJAaY844EoAQkCH5AG4GwBCQFoxdbogAEJAWealSUYAQkDakF5YJwBCQCJyVTQxAEJAG+BZ7ScAQkDwjZ3HEwBCQEqeZ8NMAEJACfs09j4AQkDPQgq3XwBCQGRxYrwkAEJAIfN112EAQkAwxSzmLQBCQAnREERMAEJAKNTTR2AAQkDakF5YJwBCQJjB94I/AEJAOs3h3iUAQkCybWoDJABCQDa61iBEAEJAKNTTR2AAQkA2utYgRABCQGRxYrwkAEJA9bHMbCEAQkDxE4OXSwBCQD1YUjBbAEJAEeink0cAQkDCvde1YgBCQNozU3McAEJAZYpaFiMAQkARMIARMABCQDo30PAkAEJAFhtvAj4AQkAAdX/MOQBCQM9CCrdfAEJA/hqcyhoAQkBliloWIwBCQNFDyNQ4AEJAoIGBtSQAQkCYwfeCPwBCQKCBgbUkAEJAs4z9+lsAQkC68rzIQgBCQM0GV0gSAEJApaGIPRsAQkARMIARMABCQLFkllYmAEJAn9oJxCUAQkDy79ADYQBCQM/67xwlAEJAJobLx0EAQkASyhTWOgBCQMXhL9ohAEJAglRpDyQAQkAR6KeTRwBCQOnz7hshAEJAs4z9+lsAQkBvda17MwBCQLWCjYg1AEJAvVQJojAAQkDyMMQcSgBCQM9CCrdfAEJALMFeOEIAQkApmmJpOwBCQMs2y8BcAEJAsiyY+CMAQkDu/C6uaQBCQMdKipdAAEJAEOfA9jwAQkAw8jZfOgBCQFv7rzE3AEJAW/uvMTcAQkDxE4OXSwBCQEw/uG0lAEJAMMUs5i0AQkBDwZSaIABCQBHop5NHAEJAvXK9bSYAQkCYwfeCPwBCQM0GV0gSAEJAglRpDyQAQkASyhTWOgBCQBxQJbkyAEJAUssgiD0AQkAnzVENHABCQFLLIIg9AEJAZHFivCQAQkCa+FkbGQBCQJBds6ZDAEJApayVvzEAQkDGBgO2IABCQMdKipdAAEJAuvK8yEIAQkDxE4OXSwBCQHB393wkAEJAwOI2O04AQkA6N9DwJABCQHB393wkAEJA/bnsAB0AQkBSyyCIPQBCQL3ohgEmAEJAUssgiD0AQkBypJZaLQBCQAnREERMAEJAXCBB8WMAQkASyhTWOgBCQG0xBYwqAEJAB04q2E4AQkAAdX/MOQBCQCmaYmk7AEJA0eDfNSIAQkAXHkXnRgBCQMf93ApAAEJACEUMnjYAQkBkcWK8JABCQMYGA7YgAEJAf/eOGhMAQkDF4S/aIQBCQFYMmSMSAEJA35Dj2hIAQkAYpkJ+LgBCQIWZdGMTAEJAPVhSMFsAQkBvda17MwBCQMDiNjtOAEJAvVQJojAAQkBtMQWMKgBCQDo30PAkAEJAxeEv2iEAQkA2utYgRABCQDAxVM1FAEJAxHSljiMAQkDA0Uz/KwBCQP3Q1AQ0AEJApayVvzEAQkDLNsvAXABCQLWCjYg1AEJACNwlNysAQkCa+FkbGQBCQBHop5NHAEJAsWSWViYAQkCxZJZWJgBCQC9j0CovAEJAVmwGlxIAQkB/944aEwBCQBMMKTc4AEJAHvnmqyIAQkApmmJpOwBCQLIsmPgjAEJAxHSljiMAQkCRufCLZABCQMZH1cAgAEJAmX7soiYAQkAaEMb0KQBCQMdKipdAAEJAJ81RDRwAQkCzjP36WwBCQIJUaQ8kAEJARjrJdyUAQkAh83XXYQBCQAIT8iBBAEJAJkNlLjYAQkCzMSN6IQBCQKWlj0xJAEJAsiyY+CMAQkAnzVENHABCQDo30PAkAEJARjrJdyUAQkBY/+cwXwBCQNstbkhIAEJA8jDEHEoAQkClrJW/MQBCQPLoiHQmAEJAINrgpx4AQkCFmXRjEwBCQCzBXjhCAEJAjQp7XhoAQkAYZyUQIwBCQL3ohgEmAEJAaY844EoAQkAswV44QgBCQL1yvW0mAEJAglRpDyQAQkAXHkXnRgBCQH/3jhoTAEJAxHSljiMAQkDbLW5ISABCQCaGy8dBAEJA8uiIdCYAQkBY/+cwXwBCQIJUaQ8kAEJAx0qKl0AAQkAYZyUQIwBCQLFkllYmAEJA\"},\"shape\":[267],\"dtype\":\"float64\",\"order\":\"little\"}],[\"longitude\",{\"type\":\"ndarray\",\"array\":{\"type\":\"bytes\",\"data\":\"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\"},\"shape\":[267],\"dtype\":\"float64\",\"order\":\"little\"}],[\"rssi\",{\"type\":\"ndarray\",\"array\":{\"type\":\"bytes\",\"data\":\"p////6X///+7////r////7////+9////l////73///+1////v////5n///+9////vf///6v///+r////mf///7X///+Z////u////7X///+n////vf///5n///+v////of///5n///+r////t////7X///+Z////pf///6f///+n////p////6f///+t////w////6f///+/////mf///5f///+7////m////7n///+r////vf///6X///+x////vf///7X///+1////tf///5f///+r////tf///6v///+3////rf///6////+Z////tf///6v///+f////vf///5n///+Z////mf///7v///+r////mf///6v///+3////w////5f///+v////vf///6////+n////r////5n////D////vf///6n///+x////mf///6v////D////mf///6////+9////n////7H///+/////mf///7////+x////mf///8P///+Z////vf///5n///+X////pf///6f///+n////vf///73///+p////l////6X///+9////pf///73///+l////mf///7////+X////l////6f///+f////sf///5n///+l////u////73///+l////p////73///+v////mf///7X///+1////p////8P///+p////v////7f///+X////pf///6H///+7////t////73///+1////tf///8P///+n////q////6////+9////r////73///+X////p////73///+1////vf///5f///+9////sf///5v///+/////p////6v///+7////v////8P///+l////vf///6f///+l////l////73///+r////vf///6v////D////mf///73///+t////u////73///+3////pf///73///+7////tf///7H///+r////l////6X///+Z////l////6v///+X////mf///7X///+9////p////63///+n////pf///7////+9////pf///5v///+1////p////5f///+1////rf///5v///+9////n////5////+r////l////5f///+1////pf///7f///+l////pf///5f///+X////n////63///+7////l////5n///+n////n////5n///+7////tf///6////+9////pf///5f///+n////n////6n///+9////w////6f///+r////l////5f///+/////l////5n///+r////w////7////+v////p////73///+X////pf///73///+7////q////6n///+n////u////5n///+f////\"},\"shape\":[267],\"dtype\":\"int32\",\"order\":\"little\"}],[\"azimuth\",{\"type\":\"ndarray\",\"array\":{\"type\":\"bytes\",\"data\":\"CztlirykS0BYL+HO4GZjQDSI2RVlNkpAWi16lUeBU0D+lt3lsWxRQK70qBqYTkNAxvO2BKf5ZcBUjVVI3shQQB+Xl1op8lBAx7VfPbENTECykrDLjqREwBfQkP69E1BAm1zf1dt/TkBKTwAaC7E8QCNVsB/9UUFAZMiO/SQw77/6VQVyJC5WQHA6Uu0ErDrAsTE+yz0gUUDGMI/+1MhQQBd1l7az5UZA5kS0f8v7UUCc3HqrisgqwB13xyseQEtAOFXis7T1OcD0VEs/f0hWwNYXiw3tS09ALawMhcajU0C8duJhyA1QQGeAIuLGCFXAQI2azRpZYkCi1KE9ZdBIQGLPG798I0lA09n0DcllOUDT2fQNyWU5QItwPeP7ykpAHrvPFuGAOcBizxu/fCNJQHkGmr7tgktAcDpS7QSsOsCfDud09vxcwPAGXl8tgybAk5u//rFVXcAS2hzGvolPwHxBgnzba0FAEIGFx2VhSEAQDXRMLR1iQBFjSJ9PJzhAix7Mt16CRUAIhv9TETxMwNKAKwsN1E1AJFGZRQysSEBNIfWBkyhkwCyEIG/xPUhAxjCP/tTIUEA9FiW5toBeQPPZl8VAc09AQecu6zIjRUC9LuDtibdSQC7VWJecu0HACIb/UxE8TMC/3yJPq8xDQHZgmufbw15AVI1VSN7IUEA+Q+0CESkPwNvMGgfip2XAy7h+n905LUA0iNkVZTZKQGYfcuJ5bUdAPkPtAhEpD8BKTwAaC7E8QC2sDIXGo1NAx6awWr5UMcB1Vz2ohUVYwI78/BEA9WBAPJUKQ5KePUAi3AQWOpBQQNPZ9A3JZTlAvS7g7Ym3UkCnUThoPi9kwGTnuGVZ3j7Am1zf1dt/TkBi3zbXEg5SwLkDkeIW9jtA8w2NY0cE3j9xfSHxcFZMQB67zxbhgDnA1EroJ9H3McAi3AQWOpBQQDVnQU1LoENASzdj/e66YkAzHDuR8Ys1QP6W3eWxbFFA1EroJ9H3McD+lt3lsWxRQLkDkeIW9jtAc87R1p1AQsDOztOU+sEVQHA6Uu0ErDrAQJN9EeZLSkDLuH6f3TktQGsyl6lOq1bAmX3zyT/HY0AXdZe2s+VGQAs7ZYq8pEtAEIGFx2VhSECL7jXky7xQQGLfNtcSDlLAZpgOJ2l1YsCZffPJP8djQK70qBqYTkNAEA10TC0dYkA1Z0FNS6BDQBANdEwtHWJA7QsdnOE7N8DHtV89sQ1MQMbztgSn+WXAhLC9Ws7AXsAXdZe2s+VGQJEGrNJsnWFAVo3FDTR3OUA+Q+0CESkPwBphML5YdmJAwGjLqFMzTED1KdJoqOhQQJpH78HDo2JAAa2JBmUPVUBAk30R5ktKQDTfaaJ0imJA7QsdnOE7N8Afl5daKfJQQLx24mHIDVBAGXEUK5HPQkDRgSgqzHUpwGLfNtcSDlLAKWjqbG3lUECUhIwpwiZSQIcMQiJMASPA7RuQVkn2YkA4VeKztPU5wCqkGiBz1lJA89mXxUBzT0BUjVVI3shQQNKAKwsN1E1A0oArCw3UTUDOztOU+sEVQFgqWwbJ0VdAcX0h8XBWTEAUbA5hFB1hQECTfRHmS0pAEy2OkWjIRkA1Z0FNS6BDQMbztgSn+WXAAa2JBmUPVUD1KdJoqOhQQDhoOfUr2FFAqyHRR908VECy1xPfBexWwKsh0UfdPFRAuQOR4hb2O0BB6vu0QtNXwPq0zgkhQ1NAotShPWXQSEBKTwAaC7E8QCqkGiBz1lJAx7VfPbENTEDOztOU+sEVQCUW3YHM2GJAHOE+I5h5N8ALO2WKvKRLQCUW3YHM2GJALQD/Q+XSV8CrIdFH3TxUQL87OlNE1E1AqyHRR908VEBjm2LpDYdLQB67zxbhgDnAZMiO/SQw77/1KdJoqOhQQFkmD2/xBEZA8AZeXy2DJsCL7jXky7xQQJSEjCnCJlJAQI2azRpZYkDidbEZPTQ/QLExPss9IFFAJFGZRQysSEC5A5HiFvY7QEpPABoLsTxAQhdpkpCfZcCaR+/Bw6NiQHSNxZVuBmZArTqL+9ayZMAshCBv8T1IQMJv1A7/TWXAcDpS7QSsOsAfl5daKfJQQBzhPiOYeTfAGXEUK5HPQkBZJg9v8QRGQAs7ZYq8pEtAmkfvwcOjYkD+lt3lsWxRQOZEtH/L+1FAveXFbc3UY0C3HXwMMs5UwPpVBXIkLlZAotShPWXQSECHDEIiTAEjwLx24mHIDVBAVLy9yS4/QkBB6vu0QtNXwECTfRHmS0pAkQas0mydYUCRBqzSbJ1hQCNVsB/9UUFATSH1gZMoZMBCF2mSkJ9lwPS8qAodJVxAWC/hzuBmY0CUhIwpwiZSQO0bkFZJ9mJAveXFbc3UY0DJf2AJgpUZQFTn7e9ZDEXAwxOaJXudYUBB5y7rMiNFQCqkGiBz1lJAstcT3wXsVsDtCx2c4Ts3wAGtiQZlD1VAL6tT+XgxYkDzDY1jRwTePzSI2RVlNkpAyeXr1s8MUEDsjoVo8rdgQE2CoK2TGDPA7RuQVkn2YkCy1xPfBexWwAs7ZYq8pEtAL6tT+XgxYkAsX/48VkdQwGG0+2TAsb+/0YEoKsx1KcCi1KE9ZdBIQCTOtR6ROl1A0VJumh9IVcDCb9QO/01lwClo6mxt5VBAnw7ndPb8XMCykrDLjqREwL87OlNE1E1Ax6awWr5UMcApaOpsbeVQQBMtjpFoyEZAAa2JBmUPVUDidbEZPTQ/QEIXaZKQn2XAveXFbc3UY0BhtPtkwLG/v8Boy6hTM0xAJM61HpE6XUAsX/48VkdQwAGtiQZlD1VAKqQaIHPWUkCykrDLjqREwJEGrNJsnWFA\"},\"shape\":[267],\"dtype\":\"float64\",\"order\":\"little\"}]]}}},\"view\":{\"type\":\"object\",\"name\":\"CDSView\",\"id\":\"p2125\",\"attributes\":{\"filter\":{\"type\":\"object\",\"name\":\"AllIndices\",\"id\":\"p2126\"}}},\"glyph\":{\"type\":\"object\",\"name\":\"Circle\",\"id\":\"p2121\",\"attributes\":{\"x\":{\"type\":\"field\",\"field\":\"longitude\"},\"y\":{\"type\":\"field\",\"field\":\"latitude\"},\"size\":{\"type\":\"value\",\"value\":7},\"line_color\":{\"type\":\"field\",\"field\":\"azimuth\",\"transform\":{\"type\":\"object\",\"name\":\"LinearColorMapper\",\"id\":\"p2117\",\"attributes\":{\"palette\":[\"#000003\",\"#07051D\",\"#170B3B\",\"#2E0A5A\",\"#450A69\",\"#5B116E\",\"#70196E\",\"#85206A\",\"#9B2864\",\"#AF315B\",\"#C43C4E\",\"#D54940\",\"#E55B30\",\"#F06F1F\",\"#F7850E\",\"#FB9E07\",\"#FBB71C\",\"#F6D33F\",\"#F1EB6C\",\"#FCFEA4\"]}}},\"fill_color\":{\"type\":\"field\",\"field\":\"azimuth\",\"transform\":{\"id\":\"p2117\"}},\"hatch_color\":{\"type\":\"field\",\"field\":\"azimuth\",\"transform\":{\"id\":\"p2117\"}}}},\"nonselection_glyph\":{\"type\":\"object\",\"name\":\"Circle\",\"id\":\"p2122\",\"attributes\":{\"x\":{\"type\":\"field\",\"field\":\"longitude\"},\"y\":{\"type\":\"field\",\"field\":\"latitude\"},\"size\":{\"type\":\"value\",\"value\":7},\"line_color\":{\"type\":\"field\",\"field\":\"azimuth\",\"transform\":{\"id\":\"p2117\"}},\"line_alpha\":{\"type\":\"value\",\"value\":0.1},\"fill_color\":{\"type\":\"field\",\"field\":\"azimuth\",\"transform\":{\"id\":\"p2117\"}},\"fill_alpha\":{\"type\":\"value\",\"value\":0.1},\"hatch_color\":{\"type\":\"field\",\"field\":\"azimuth\",\"transform\":{\"id\":\"p2117\"}},\"hatch_alpha\":{\"type\":\"value\",\"value\":0.1}}},\"muted_glyph\":{\"type\":\"object\",\"name\":\"Circle\",\"id\":\"p2123\",\"attributes\":{\"x\":{\"type\":\"field\",\"field\":\"longitude\"},\"y\":{\"type\":\"field\",\"field\":\"latitude\"},\"size\":{\"type\":\"value\",\"value\":7},\"line_color\":{\"type\":\"field\",\"field\":\"azimuth\",\"transform\":{\"id\":\"p2117\"}},\"line_alpha\":{\"type\":\"value\",\"value\":0.2},\"fill_color\":{\"type\":\"field\",\"field\":\"azimuth\",\"transform\":{\"id\":\"p2117\"}},\"fill_alpha\":{\"type\":\"value\",\"value\":0.2},\"hatch_color\":{\"type\":\"field\",\"field\":\"azimuth\",\"transform\":{\"id\":\"p2117\"}},\"hatch_alpha\":{\"type\":\"value\",\"value\":0.2}}}}}],\"toolbar\":{\"type\":\"object\",\"name\":\"Toolbar\",\"id\":\"p2097\",\"attributes\":{\"tools\":[{\"type\":\"object\",\"name\":\"HoverTool\",\"id\":\"p2087\",\"attributes\":{\"renderers\":\"auto\",\"tooltips\":[[\"azimuth\",\"@azimuth{0.0}\"]]}},{\"type\":\"object\",\"name\":\"PanTool\",\"id\":\"p2110\"},{\"type\":\"object\",\"name\":\"WheelZoomTool\",\"id\":\"p2129\"}]}},\"left\":[{\"type\":\"object\",\"name\":\"LinearAxis\",\"id\":\"p2106\",\"attributes\":{\"ticker\":{\"type\":\"object\",\"name\":\"MercatorTicker\",\"id\":\"p2105\",\"attributes\":{\"mantissas\":[1,2,5],\"dimension\":\"lat\"}},\"formatter\":{\"type\":\"object\",\"name\":\"MercatorTickFormatter\",\"id\":\"p2104\",\"attributes\":{\"dimension\":\"lat\"}},\"axis_label\":\"\",\"axis_label_standoff\":10,\"axis_label_text_color\":\"#E0E0E0\",\"axis_label_text_font\":\"Helvetica\",\"axis_label_text_font_size\":\"1.25em\",\"axis_label_text_font_style\":\"normal\",\"major_label_policy\":{\"type\":\"object\",\"name\":\"AllLabels\",\"id\":\"p2109\"},\"major_label_text_color\":\"#E0E0E0\",\"major_label_text_font\":\"Helvetica\",\"major_label_text_font_size\":\"1.025em\",\"axis_line_color\":\"#E0E0E0\",\"axis_line_alpha\":0,\"major_tick_line_color\":\"#E0E0E0\",\"major_tick_line_alpha\":0,\"minor_tick_line_color\":\"#E0E0E0\",\"minor_tick_line_alpha\":0}}],\"right\":[{\"type\":\"object\",\"name\":\"ColorBar\",\"id\":\"p2127\",\"attributes\":{\"location\":[0,0],\"title_text_color\":\"#E0E0E0\",\"title_text_font\":\"Helvetica\",\"title_text_font_size\":\"1.025em\",\"title_text_font_style\":\"normal\",\"major_label_policy\":{\"type\":\"object\",\"name\":\"NoOverlap\",\"id\":\"p2128\"},\"major_label_text_color\":\"#E0E0E0\",\"major_label_text_font\":\"Helvetica\",\"major_label_text_font_size\":\"1.025em\",\"major_tick_line_alpha\":0,\"bar_line_alpha\":0,\"background_fill_color\":\"#15191C\",\"color_mapper\":{\"id\":\"p2117\"}}}],\"below\":[{\"type\":\"object\",\"name\":\"LinearAxis\",\"id\":\"p2100\",\"attributes\":{\"ticker\":{\"type\":\"object\",\"name\":\"MercatorTicker\",\"id\":\"p2099\",\"attributes\":{\"mantissas\":[1,2,5],\"dimension\":\"lon\"}},\"formatter\":{\"type\":\"object\",\"name\":\"MercatorTickFormatter\",\"id\":\"p2098\",\"attributes\":{\"dimension\":\"lon\"}},\"axis_label\":\"\",\"axis_label_standoff\":10,\"axis_label_text_color\":\"#E0E0E0\",\"axis_label_text_font\":\"Helvetica\",\"axis_label_text_font_size\":\"1.25em\",\"axis_label_text_font_style\":\"normal\",\"major_label_policy\":{\"type\":\"object\",\"name\":\"AllLabels\",\"id\":\"p2103\"},\"major_label_text_color\":\"#E0E0E0\",\"major_label_text_font\":\"Helvetica\",\"major_label_text_font_size\":\"1.025em\",\"axis_line_color\":\"#E0E0E0\",\"axis_line_alpha\":0,\"major_tick_line_color\":\"#E0E0E0\",\"major_tick_line_alpha\":0,\"minor_tick_line_color\":\"#E0E0E0\",\"minor_tick_line_alpha\":0}}],\"background_fill_color\":\"#20262B\",\"border_fill_color\":\"#15191C\",\"map_options\":{\"type\":\"object\",\"name\":\"GMapOptions\",\"id\":\"p2086\",\"attributes\":{\"lat\":36.00192134954784,\"lng\":-78.937821464194,\"zoom\":17,\"map_type\":\"satellite\"}},\"api_key\":{\"type\":\"bytes\",\"data\":\"QUl6YVN5QVFra3JPbnB2X05EckVkWUpvUXJmR056M2p5RXJJZkVn\"}}}],\"callbacks\":{\"type\":\"map\"}}};\n  const render_items = [{\"docid\":\"a9fbe29f-0fa8-4f19-b43a-63341af8114c\",\"roots\":{\"p2088\":\"be6b0959-8652-41b9-b36c-531d744d59c4\"},\"root_ids\":[\"p2088\"]}];\n  root.Bokeh.embed.embed_items_notebook(docs_json, render_items);\n  }\n  if (root.Bokeh !== undefined) {\n    embed_document(root);\n  } else {\n    let attempts = 0;\n    const timer = setInterval(function(root) {\n      if (root.Bokeh !== undefined) {\n        clearInterval(timer);\n        embed_document(root);\n      } else {\n        attempts++;\n        if (attempts > 100) {\n          clearInterval(timer);\n          console.log(\"Bokeh: ERROR: Unable to run BokehJS code because BokehJS library is missing\");\n        }\n      }\n    }, 10, root)\n  }\n})(window);",
      "application/vnd.bokehjs_exec.v0+json": ""
     },
     "metadata": {
      "application/vnd.bokehjs_exec.v0+json": {
       "id": "p2088"
      }
     },
     "output_type": "display_data"
    }
   ],
   "source": [
    "def plot_gmap_Duke_ss(inner_field, title, df_source, mid_lat=mid_lat, mid_long=mid_long,\n",
    "                      zoom=17, circle_size=4):\n",
    "    df_source = pd.DataFrame(list(zip(*[df_source[kkey] for kkey in list(df_source)])),\n",
    "                             columns=list(df_source))\n",
    "    # df_source = pd.DataFrame(list(zip(df_source['longitude'], df_source['latitude'],\n",
    "    #                                   df_source['rssi'])), columns=['longitude', 'latitude', 'rssi'])\n",
    "    print(df_source.head())\n",
    "    print(len(df_source['longitude']))\n",
    "    inner_gmap_options = GMapOptions(\n",
    "    lat=mid_lat,\n",
    "    lng=mid_long,\n",
    "    map_type='satellite',\n",
    "    zoom=zoom\n",
    "    )\n",
    "    inner_hover = HoverTool(\n",
    "        tooltips=[\n",
    "            (inner_field, '@' + inner_field + '{0.0}'),\n",
    "        ]\n",
    "    )\n",
    "\n",
    "    inner_p = gmap(\n",
    "        API_KEY,\n",
    "        inner_gmap_options,\n",
    "        title=title,\n",
    "        width=800,\n",
    "        height=600,\n",
    "        tools=[inner_hover, 'pan']\n",
    "    )\n",
    "    inner_source = ColumnDataSource(df_source)\n",
    "\n",
    "    inner_color_mapper = LinearColorMapper(palette=palettes.inferno(20))\n",
    "    inner_p.circle('longitude', 'latitude', source=inner_source,\n",
    "              color={'field': inner_field, 'transform': inner_color_mapper},\n",
    "              size=circle_size)\n",
    "    inner_color_bar = ColorBar(color_mapper=inner_color_mapper, location=(0, 0))\n",
    "    inner_p.add_layout(inner_color_bar, 'right')\n",
    "    inner_p.add_tools(WheelZoomTool())\n",
    "    return inner_p\n",
    "\n",
    "\n",
    "p1 = plot_gmap_Duke_ss(inner_field='azimuth',\n",
    "                         title='rssi SigCapDetails',\n",
    "                         df_source=df_SigCapDetails, circle_size=7)\n",
    "show(p1)"
   ]
  },
  {
   "cell_type": "code",
   "execution_count": 18,
   "metadata": {
    "ExecuteTime": {
     "end_time": "2023-08-03T16:07:00.507838Z",
     "start_time": "2023-08-03T16:07:00.435857Z"
    }
   },
   "outputs": [
    {
     "name": "stdout",
     "output_type": "stream",
     "text": [
      "   longitude   latitude  rssi\n",
      "0 -78.937821  36.001921   -40\n",
      "1 -78.937721  36.002021   -50\n"
     ]
    },
    {
     "data": {
      "text/html": "\n  <div id=\"acf7fdde-6038-4114-b088-f1688314f688\" data-root-id=\"p1402\" style=\"display: contents;\"></div>\n"
     },
     "metadata": {},
     "output_type": "display_data"
    },
    {
     "data": {
      "application/javascript": "(function(root) {\n  function embed_document(root) {\n  const docs_json = {\"96720090-8593-438f-87f4-58eccb462369\":{\"version\":\"3.1.1\",\"title\":\"Bokeh Application\",\"defs\":[],\"roots\":[{\"type\":\"object\",\"name\":\"GMap\",\"id\":\"p1402\",\"attributes\":{\"width\":800,\"x_range\":{\"type\":\"object\",\"name\":\"Range1d\",\"id\":\"p1403\"},\"y_range\":{\"type\":\"object\",\"name\":\"Range1d\",\"id\":\"p1404\"},\"x_scale\":{\"type\":\"object\",\"name\":\"LinearScale\",\"id\":\"p1410\"},\"y_scale\":{\"type\":\"object\",\"name\":\"LinearScale\",\"id\":\"p1409\"},\"title\":{\"type\":\"object\",\"name\":\"Title\",\"id\":\"p1407\",\"attributes\":{\"text\":\"rssi SigCapDetails\",\"text_color\":\"#E0E0E0\",\"text_font\":\"Helvetica\",\"text_font_size\":\"1.15em\"}},\"outline_line_color\":\"#E0E0E0\",\"outline_line_alpha\":0.25,\"renderers\":[{\"type\":\"object\",\"name\":\"GlyphRenderer\",\"id\":\"p1438\",\"attributes\":{\"data_source\":{\"type\":\"object\",\"name\":\"ColumnDataSource\",\"id\":\"p1428\",\"attributes\":{\"selected\":{\"type\":\"object\",\"name\":\"Selection\",\"id\":\"p1429\",\"attributes\":{\"indices\":[],\"line_indices\":[]}},\"selection_policy\":{\"type\":\"object\",\"name\":\"UnionRenderers\",\"id\":\"p1430\"},\"data\":{\"type\":\"map\",\"entries\":[[\"index\",{\"type\":\"ndarray\",\"array\":{\"type\":\"bytes\",\"data\":\"AAAAAAEAAAA=\"},\"shape\":[2],\"dtype\":\"int32\",\"order\":\"little\"}],[\"longitude\",{\"type\":\"ndarray\",\"array\":{\"type\":\"bytes\",\"data\":\"zoxRRAW8U8AcXuOgA7xTwA==\"},\"shape\":[2],\"dtype\":\"float64\",\"order\":\"little\"}],[\"latitude\",{\"type\":\"ndarray\",\"array\":{\"type\":\"bytes\",\"data\":\"cLxy9T4AQkDUGU88QgBCQA==\"},\"shape\":[2],\"dtype\":\"float64\",\"order\":\"little\"}],[\"rssi\",{\"type\":\"ndarray\",\"array\":{\"type\":\"bytes\",\"data\":\"2P///87///8=\"},\"shape\":[2],\"dtype\":\"int32\",\"order\":\"little\"}]]}}},\"view\":{\"type\":\"object\",\"name\":\"CDSView\",\"id\":\"p1439\",\"attributes\":{\"filter\":{\"type\":\"object\",\"name\":\"AllIndices\",\"id\":\"p1440\"}}},\"glyph\":{\"type\":\"object\",\"name\":\"Circle\",\"id\":\"p1435\",\"attributes\":{\"x\":{\"type\":\"field\",\"field\":\"longitude\"},\"y\":{\"type\":\"field\",\"field\":\"latitude\"},\"size\":{\"type\":\"value\",\"value\":7},\"line_color\":{\"type\":\"field\",\"field\":\"rssi\",\"transform\":{\"type\":\"object\",\"name\":\"LinearColorMapper\",\"id\":\"p1431\",\"attributes\":{\"palette\":[\"#000003\",\"#07051D\",\"#170B3B\",\"#2E0A5A\",\"#450A69\",\"#5B116E\",\"#70196E\",\"#85206A\",\"#9B2864\",\"#AF315B\",\"#C43C4E\",\"#D54940\",\"#E55B30\",\"#F06F1F\",\"#F7850E\",\"#FB9E07\",\"#FBB71C\",\"#F6D33F\",\"#F1EB6C\",\"#FCFEA4\"]}}},\"fill_color\":{\"type\":\"field\",\"field\":\"rssi\",\"transform\":{\"id\":\"p1431\"}},\"hatch_color\":{\"type\":\"field\",\"field\":\"rssi\",\"transform\":{\"id\":\"p1431\"}}}},\"nonselection_glyph\":{\"type\":\"object\",\"name\":\"Circle\",\"id\":\"p1436\",\"attributes\":{\"x\":{\"type\":\"field\",\"field\":\"longitude\"},\"y\":{\"type\":\"field\",\"field\":\"latitude\"},\"size\":{\"type\":\"value\",\"value\":7},\"line_color\":{\"type\":\"field\",\"field\":\"rssi\",\"transform\":{\"id\":\"p1431\"}},\"line_alpha\":{\"type\":\"value\",\"value\":0.1},\"fill_color\":{\"type\":\"field\",\"field\":\"rssi\",\"transform\":{\"id\":\"p1431\"}},\"fill_alpha\":{\"type\":\"value\",\"value\":0.1},\"hatch_color\":{\"type\":\"field\",\"field\":\"rssi\",\"transform\":{\"id\":\"p1431\"}},\"hatch_alpha\":{\"type\":\"value\",\"value\":0.1}}},\"muted_glyph\":{\"type\":\"object\",\"name\":\"Circle\",\"id\":\"p1437\",\"attributes\":{\"x\":{\"type\":\"field\",\"field\":\"longitude\"},\"y\":{\"type\":\"field\",\"field\":\"latitude\"},\"size\":{\"type\":\"value\",\"value\":7},\"line_color\":{\"type\":\"field\",\"field\":\"rssi\",\"transform\":{\"id\":\"p1431\"}},\"line_alpha\":{\"type\":\"value\",\"value\":0.2},\"fill_color\":{\"type\":\"field\",\"field\":\"rssi\",\"transform\":{\"id\":\"p1431\"}},\"fill_alpha\":{\"type\":\"value\",\"value\":0.2},\"hatch_color\":{\"type\":\"field\",\"field\":\"rssi\",\"transform\":{\"id\":\"p1431\"}},\"hatch_alpha\":{\"type\":\"value\",\"value\":0.2}}}}}],\"toolbar\":{\"type\":\"object\",\"name\":\"Toolbar\",\"id\":\"p1411\",\"attributes\":{\"tools\":[{\"type\":\"object\",\"name\":\"HoverTool\",\"id\":\"p1401\",\"attributes\":{\"renderers\":\"auto\",\"tooltips\":[[\"rssi\",\"@rssi{0.0}\"]]}},{\"type\":\"object\",\"name\":\"PanTool\",\"id\":\"p1424\"},{\"type\":\"object\",\"name\":\"WheelZoomTool\",\"id\":\"p1443\"}]}},\"left\":[{\"type\":\"object\",\"name\":\"LinearAxis\",\"id\":\"p1420\",\"attributes\":{\"ticker\":{\"type\":\"object\",\"name\":\"MercatorTicker\",\"id\":\"p1419\",\"attributes\":{\"mantissas\":[1,2,5],\"dimension\":\"lat\"}},\"formatter\":{\"type\":\"object\",\"name\":\"MercatorTickFormatter\",\"id\":\"p1418\",\"attributes\":{\"dimension\":\"lat\"}},\"axis_label\":\"\",\"axis_label_standoff\":10,\"axis_label_text_color\":\"#E0E0E0\",\"axis_label_text_font\":\"Helvetica\",\"axis_label_text_font_size\":\"1.25em\",\"axis_label_text_font_style\":\"normal\",\"major_label_policy\":{\"type\":\"object\",\"name\":\"AllLabels\",\"id\":\"p1423\"},\"major_label_text_color\":\"#E0E0E0\",\"major_label_text_font\":\"Helvetica\",\"major_label_text_font_size\":\"1.025em\",\"axis_line_color\":\"#E0E0E0\",\"axis_line_alpha\":0,\"major_tick_line_color\":\"#E0E0E0\",\"major_tick_line_alpha\":0,\"minor_tick_line_color\":\"#E0E0E0\",\"minor_tick_line_alpha\":0}}],\"right\":[{\"type\":\"object\",\"name\":\"ColorBar\",\"id\":\"p1441\",\"attributes\":{\"location\":[0,0],\"title_text_color\":\"#E0E0E0\",\"title_text_font\":\"Helvetica\",\"title_text_font_size\":\"1.025em\",\"title_text_font_style\":\"normal\",\"major_label_policy\":{\"type\":\"object\",\"name\":\"NoOverlap\",\"id\":\"p1442\"},\"major_label_text_color\":\"#E0E0E0\",\"major_label_text_font\":\"Helvetica\",\"major_label_text_font_size\":\"1.025em\",\"major_tick_line_alpha\":0,\"bar_line_alpha\":0,\"background_fill_color\":\"#15191C\",\"color_mapper\":{\"id\":\"p1431\"}}}],\"below\":[{\"type\":\"object\",\"name\":\"LinearAxis\",\"id\":\"p1414\",\"attributes\":{\"ticker\":{\"type\":\"object\",\"name\":\"MercatorTicker\",\"id\":\"p1413\",\"attributes\":{\"mantissas\":[1,2,5],\"dimension\":\"lon\"}},\"formatter\":{\"type\":\"object\",\"name\":\"MercatorTickFormatter\",\"id\":\"p1412\",\"attributes\":{\"dimension\":\"lon\"}},\"axis_label\":\"\",\"axis_label_standoff\":10,\"axis_label_text_color\":\"#E0E0E0\",\"axis_label_text_font\":\"Helvetica\",\"axis_label_text_font_size\":\"1.25em\",\"axis_label_text_font_style\":\"normal\",\"major_label_policy\":{\"type\":\"object\",\"name\":\"AllLabels\",\"id\":\"p1417\"},\"major_label_text_color\":\"#E0E0E0\",\"major_label_text_font\":\"Helvetica\",\"major_label_text_font_size\":\"1.025em\",\"axis_line_color\":\"#E0E0E0\",\"axis_line_alpha\":0,\"major_tick_line_color\":\"#E0E0E0\",\"major_tick_line_alpha\":0,\"minor_tick_line_color\":\"#E0E0E0\",\"minor_tick_line_alpha\":0}}],\"background_fill_color\":\"#20262B\",\"border_fill_color\":\"#15191C\",\"map_options\":{\"type\":\"object\",\"name\":\"GMapOptions\",\"id\":\"p1400\",\"attributes\":{\"lat\":36.00192134954784,\"lng\":-78.937821464194,\"zoom\":16,\"map_type\":\"satellite\"}},\"api_key\":{\"type\":\"bytes\",\"data\":\"QUl6YVN5QVFra3JPbnB2X05EckVkWUpvUXJmR056M2p5RXJJZkVn\"}}}],\"callbacks\":{\"type\":\"map\"}}};\n  const render_items = [{\"docid\":\"96720090-8593-438f-87f4-58eccb462369\",\"roots\":{\"p1402\":\"acf7fdde-6038-4114-b088-f1688314f688\"},\"root_ids\":[\"p1402\"]}];\n  root.Bokeh.embed.embed_items_notebook(docs_json, render_items);\n  }\n  if (root.Bokeh !== undefined) {\n    embed_document(root);\n  } else {\n    let attempts = 0;\n    const timer = setInterval(function(root) {\n      if (root.Bokeh !== undefined) {\n        clearInterval(timer);\n        embed_document(root);\n      } else {\n        attempts++;\n        if (attempts > 100) {\n          clearInterval(timer);\n          console.log(\"Bokeh: ERROR: Unable to run BokehJS code because BokehJS library is missing\");\n        }\n      }\n    }, 10, root)\n  }\n})(window);",
      "application/vnd.bokehjs_exec.v0+json": ""
     },
     "metadata": {
      "application/vnd.bokehjs_exec.v0+json": {
       "id": "p1402"
      }
     },
     "output_type": "display_data"
    }
   ],
   "source": [
    "dict_test = {'latitude': [mid_lat, mid_lat + 0.0001], 'longitude': [mid_long, mid_long + 0.0001],\n",
    "             'rssi': [-40, -50]}\n",
    "df_test = pd.DataFrame.from_dict(dict_test)\n",
    "p2 = plot_gmap_Duke_ss(inner_field='rssi',\n",
    "                         title='rssi SigCapDetails',\n",
    "                         df_source=df_test, circle_size=7)\n",
    "show(p2)"
   ]
  },
  {
   "cell_type": "code",
   "execution_count": 6,
   "metadata": {
    "ExecuteTime": {
     "end_time": "2023-06-07T19:33:00.201252Z",
     "start_time": "2023-06-07T19:33:00.034895Z"
    }
   },
   "outputs": [
    {
     "data": {
      "text/html": [
       "\n",
       "  <div id=\"b94e6adc-df6e-4a38-8c43-4dcd94435508\" data-root-id=\"p1258\" style=\"display: contents;\"></div>\n"
      ]
     },
     "metadata": {},
     "output_type": "display_data"
    },
    {
     "data": {
      "application/javascript": [
       "(function(root) {\n",
       "  function embed_document(root) {\n",
       "  const docs_json = {\"062f35c7-b319-4cce-9bb3-a498a56651cc\":{\"version\":\"3.1.1\",\"title\":\"Bokeh Application\",\"defs\":[],\"roots\":[{\"type\":\"object\",\"name\":\"Plot\",\"id\":\"p1258\",\"attributes\":{\"width\":150,\"height\":35,\"x_range\":{\"type\":\"object\",\"name\":\"Range1d\",\"id\":\"p1256\"},\"y_range\":{\"type\":\"object\",\"name\":\"Range1d\",\"id\":\"p1257\",\"attributes\":{\"start\":-0.5,\"end\":0.5}},\"x_scale\":{\"type\":\"object\",\"name\":\"LinearScale\",\"id\":\"p1262\"},\"y_scale\":{\"type\":\"object\",\"name\":\"LinearScale\",\"id\":\"p1264\"},\"title\":{\"type\":\"object\",\"name\":\"Title\",\"id\":\"p1261\"},\"outline_line_color\":null,\"toolbar\":{\"type\":\"object\",\"name\":\"Toolbar\",\"id\":\"p1263\"},\"toolbar_location\":null,\"center\":[{\"type\":\"object\",\"name\":\"Arrow\",\"id\":\"p1266\",\"attributes\":{\"source\":{\"type\":\"object\",\"name\":\"ColumnDataSource\",\"id\":\"p1268\",\"attributes\":{\"selected\":{\"type\":\"object\",\"name\":\"Selection\",\"id\":\"p1269\",\"attributes\":{\"indices\":[],\"line_indices\":[]}},\"selection_policy\":{\"type\":\"object\",\"name\":\"UnionRenderers\",\"id\":\"p1270\"},\"data\":{\"type\":\"map\"}}},\"x_start\":{\"type\":\"value\",\"value\":0.2},\"y_start\":{\"type\":\"value\",\"value\":0},\"x_end\":{\"type\":\"value\",\"value\":0.2},\"y_end\":{\"type\":\"value\",\"value\":-0.1},\"end\":{\"type\":\"object\",\"name\":\"VeeHead\",\"id\":\"p1265\",\"attributes\":{\"size\":{\"type\":\"value\",\"value\":10},\"line_color\":{\"type\":\"value\",\"value\":\"blue\"},\"line_alpha\":{\"type\":\"value\",\"value\":0.8},\"line_width\":{\"type\":\"value\",\"value\":2},\"line_dash\":{\"type\":\"value\",\"value\":\"solid\"}}}}}],\"min_border_top\":0,\"min_border_bottom\":0,\"min_border_left\":0,\"min_border_right\":0}}],\"callbacks\":{\"type\":\"map\"}}};\n",
       "  const render_items = [{\"docid\":\"062f35c7-b319-4cce-9bb3-a498a56651cc\",\"roots\":{\"p1258\":\"b94e6adc-df6e-4a38-8c43-4dcd94435508\"},\"root_ids\":[\"p1258\"]}];\n",
       "  root.Bokeh.embed.embed_items_notebook(docs_json, render_items);\n",
       "  }\n",
       "  if (root.Bokeh !== undefined) {\n",
       "    embed_document(root);\n",
       "  } else {\n",
       "    let attempts = 0;\n",
       "    const timer = setInterval(function(root) {\n",
       "      if (root.Bokeh !== undefined) {\n",
       "        clearInterval(timer);\n",
       "        embed_document(root);\n",
       "      } else {\n",
       "        attempts++;\n",
       "        if (attempts > 100) {\n",
       "          clearInterval(timer);\n",
       "          console.log(\"Bokeh: ERROR: Unable to run BokehJS code because BokehJS library is missing\");\n",
       "        }\n",
       "      }\n",
       "    }, 10, root)\n",
       "  }\n",
       "})(window);"
      ],
      "application/vnd.bokehjs_exec.v0+json": ""
     },
     "metadata": {
      "application/vnd.bokehjs_exec.v0+json": {
       "id": "p1258"
      }
     },
     "output_type": "display_data"
    }
   ],
   "source": [
    "from bokeh.models import (Arrow, Label, NormalHead, OpenHead,\n",
    "                          Plot, Range1d, TeeHead, VeeHead)\n",
    "from bokeh.plotting import show\n",
    "\n",
    "ARROW_HEADS = [VeeHead]#[TeeHead, OpenHead, NormalHead, VeeHead]\n",
    "HEIGHT = 35 * len(ARROW_HEADS)\n",
    "\n",
    "p = Plot(width=150, height=HEIGHT,\n",
    "         x_range=Range1d(0,1), y_range=Range1d(-0.5, len(ARROW_HEADS) - 0.5),\n",
    "         toolbar_location=None, outline_line_color=None, min_border_left=0,\n",
    "         min_border_right=0, min_border_top=0, min_border_bottom=0)\n",
    "\n",
    "for i, style in enumerate(ARROW_HEADS):\n",
    "    arrow = Arrow(x_start=0.2, y_start=i, x_end=0.2, y_end=i-0.1, end=style(\n",
    "        line_width=2, line_color='blue', line_alpha=0.8,\n",
    "                             size=10,\n",
    "                             line_dash='solid'\n",
    "    ))\n",
    "    p.add_layout(arrow)\n",
    "\n",
    "\n",
    "show(p)"
   ]
  },
  {
   "cell_type": "code",
   "execution_count": 35,
   "metadata": {
    "ExecuteTime": {
     "end_time": "2023-08-03T16:16:52.292313Z",
     "start_time": "2023-08-03T16:16:51.817992Z"
    }
   },
   "outputs": [
    {
     "name": "stdout",
     "output_type": "stream",
     "text": [
      "   longitude   latitude  rssi     azimuth  azimuth_start  azimuth_end\n",
      "0 -78.939292  36.001127   -89   55.287004            0.0          0.0\n",
      "1 -78.938970  36.001058   -91  155.214942            0.0          0.0\n",
      "2 -78.938046  36.001988   -69   52.424960            0.0          0.0\n",
      "3 -78.938560  36.001236   -81   78.019994            0.0          0.0\n",
      "4 -78.937970  36.002079   -65   69.698358            0.0          0.0\n",
      "   longitude   latitude  rssi     azimuth  azimuth_start  azimuth_end\n",
      "0 -78.939292  36.001127   -89   55.287004      29.712996    39.712996\n",
      "1 -78.938970  36.001058   -91  155.214942     -70.214942   -60.214942\n",
      "2 -78.938046  36.001988   -69   52.424960      32.575040    42.575040\n",
      "3 -78.938560  36.001236   -81   78.019994       6.980006    16.980006\n",
      "4 -78.937970  36.002079   -65   69.698358      15.301642    25.301642\n"
     ]
    },
    {
     "name": "stderr",
     "output_type": "stream",
     "text": [
      "/var/folders/sd/_4gcyf1x307dwdn_5_g9jqy80000gn/T/ipykernel_20940/3282871818.py:22: SettingWithCopyWarning: \n",
      "A value is trying to be set on a copy of a slice from a DataFrame\n",
      "\n",
      "See the caveats in the documentation: https://pandas.pydata.org/pandas-docs/stable/user_guide/indexing.html#returning-a-view-versus-a-copy\n",
      "  df_source['azimuth_end'][idx] = 90 - ((df_source['azimuth'][idx]) - ang_sep/2)\n",
      "/var/folders/sd/_4gcyf1x307dwdn_5_g9jqy80000gn/T/ipykernel_20940/3282871818.py:23: SettingWithCopyWarning: \n",
      "A value is trying to be set on a copy of a slice from a DataFrame\n",
      "\n",
      "See the caveats in the documentation: https://pandas.pydata.org/pandas-docs/stable/user_guide/indexing.html#returning-a-view-versus-a-copy\n",
      "  df_source['azimuth_start'][idx] = 90 - ((df_source['azimuth'][idx]) + ang_sep/2)\n",
      "/var/folders/sd/_4gcyf1x307dwdn_5_g9jqy80000gn/T/ipykernel_20940/3282871818.py:25: SettingWithCopyWarning: \n",
      "A value is trying to be set on a copy of a slice from a DataFrame\n",
      "\n",
      "See the caveats in the documentation: https://pandas.pydata.org/pandas-docs/stable/user_guide/indexing.html#returning-a-view-versus-a-copy\n",
      "  df_source['azimuth_end'][idx] = -270 - ((df_source['azimuth'][idx]) - ang_sep/2)\n",
      "/var/folders/sd/_4gcyf1x307dwdn_5_g9jqy80000gn/T/ipykernel_20940/3282871818.py:26: SettingWithCopyWarning: \n",
      "A value is trying to be set on a copy of a slice from a DataFrame\n",
      "\n",
      "See the caveats in the documentation: https://pandas.pydata.org/pandas-docs/stable/user_guide/indexing.html#returning-a-view-versus-a-copy\n",
      "  df_source['azimuth_start'][idx] = -270 - ((df_source['azimuth'][idx]) + ang_sep/2)\n"
     ]
    },
    {
     "data": {
      "text/html": "\n  <div id=\"a16c9214-0e0b-421a-a481-f1a429c9d40d\" data-root-id=\"p3206\" style=\"display: contents;\"></div>\n"
     },
     "metadata": {},
     "output_type": "display_data"
    },
    {
     "data": {
      "application/javascript": "(function(root) {\n  function embed_document(root) {\n  const docs_json = {\"8923f8db-e14a-4454-8e82-9ac5d3c3c9ac\":{\"version\":\"3.1.1\",\"title\":\"Bokeh Application\",\"defs\":[],\"roots\":[{\"type\":\"object\",\"name\":\"GMap\",\"id\":\"p3206\",\"attributes\":{\"width\":800,\"x_range\":{\"type\":\"object\",\"name\":\"Range1d\",\"id\":\"p3207\"},\"y_range\":{\"type\":\"object\",\"name\":\"Range1d\",\"id\":\"p3208\"},\"x_scale\":{\"type\":\"object\",\"name\":\"LinearScale\",\"id\":\"p3214\"},\"y_scale\":{\"type\":\"object\",\"name\":\"LinearScale\",\"id\":\"p3213\"},\"title\":{\"type\":\"object\",\"name\":\"Title\",\"id\":\"p3211\",\"attributes\":{\"text\":\"rssi\",\"text_color\":\"#E0E0E0\",\"text_font\":\"Helvetica\",\"text_font_size\":\"1.15em\"}},\"outline_line_color\":\"#E0E0E0\",\"outline_line_alpha\":0.25,\"renderers\":[{\"type\":\"object\",\"name\":\"GlyphRenderer\",\"id\":\"p3242\",\"attributes\":{\"data_source\":{\"type\":\"object\",\"name\":\"ColumnDataSource\",\"id\":\"p3232\",\"attributes\":{\"selected\":{\"type\":\"object\",\"name\":\"Selection\",\"id\":\"p3233\",\"attributes\":{\"indices\":[],\"line_indices\":[]}},\"selection_policy\":{\"type\":\"object\",\"name\":\"UnionRenderers\",\"id\":\"p3234\"},\"data\":{\"type\":\"map\",\"entries\":[[\"index\",{\"type\":\"ndarray\",\"array\":{\"type\":\"bytes\",\"data\":\"AAAAAAEAAAACAAAAAwAAAAQAAAAFAAAABgAAAAcAAAAIAAAACQAAAAoAAAALAAAADAAAAA0AAAAOAAAADwAAABAAAAARAAAAEgAAABMAAAAUAAAAFQAAABYAAAAXAAAAGAAAABkAAAAaAAAAGwAAABwAAAAdAAAAHgAAAB8AAAAgAAAAIQAAACIAAAAjAAAAJAAAACUAAAAmAAAAJwAAACgAAAApAAAAKgAAACsAAAAsAAAALQAAAC4AAAAvAAAAMAAAADEAAAAyAAAAMwAAADQAAAA1AAAANgAAADcAAAA4AAAAOQAAADoAAAA7AAAAPAAAAD0AAAA+AAAAPwAAAEAAAABBAAAAQgAAAEMAAABEAAAARQAAAEYAAABHAAAASAAAAEkAAABKAAAASwAAAEwAAABNAAAATgAAAE8AAABQAAAAUQAAAFIAAABTAAAAVAAAAFUAAABWAAAAVwAAAFgAAABZAAAAWgAAAFsAAABcAAAAXQAAAF4AAABfAAAAYAAAAGEAAABiAAAAYwAAAGQAAABlAAAAZgAAAGcAAABoAAAAaQAAAGoAAABrAAAAbAAAAG0AAABuAAAAbwAAAHAAAABxAAAAcgAAAHMAAAB0AAAAdQAAAHYAAAB3AAAAeAAAAHkAAAB6AAAAewAAAHwAAAB9AAAAfgAAAH8AAACAAAAAgQAAAIIAAACDAAAAhAAAAIUAAACGAAAAhwAAAIgAAACJAAAAigAAAIsAAACMAAAAjQAAAI4AAACPAAAAkAAAAJEAAACSAAAAkwAAAJQAAACVAAAAlgAAAJcAAACYAAAAmQAAAJoAAACbAAAAnAAAAJ0AAACeAAAAnwAAAKAAAAChAAAAogAAAKMAAACkAAAApQAAAKYAAACnAAAAqAAAAKkAAACqAAAAqwAAAKwAAACtAAAArgAAAK8AAACwAAAAsQAAALIAAACzAAAAtAAAALUAAAC2AAAAtwAAALgAAAC5AAAAugAAALsAAAC8AAAAvQAAAL4AAAC/AAAAwAAAAMEAAADCAAAAwwAAAMQAAADFAAAAxgAAAMcAAADIAAAAyQAAAMoAAADLAAAAzAAAAM0AAADOAAAAzwAAANAAAADRAAAA0gAAANMAAADUAAAA1QAAANYAAADXAAAA2AAAANkAAADaAAAA2wAAANwAAADdAAAA3gAAAN8AAADgAAAA4QAAAOIAAADjAAAA5AAAAOUAAADmAAAA5wAAAOgAAADpAAAA6gAAAOsAAADsAAAA7QAAAO4AAADvAAAA8AAAAPEAAADyAAAA8wAAAPQAAAD1AAAA9gAAAPcAAAD4AAAA+QAAAPoAAAD7AAAA/AAAAP0AAAD+AAAA/wAAAAABAAABAQAAAgEAAAMBAAAEAQAABQEAAAYBAAAHAQAACAEAAAkBAAAKAQAA\"},\"shape\":[267],\"dtype\":\"int32\",\"order\":\"little\"}],[\"longitude\",{\"type\":\"ndarray\",\"array\":{\"type\":\"bytes\",\"data\":\"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\"},\"shape\":[267],\"dtype\":\"float64\",\"order\":\"little\"}],[\"latitude\",{\"type\":\"ndarray\",\"array\":{\"type\":\"bytes\",\"data\":\"OjfQ8CQAQkAe+earIgBCQAIT8iBBAEJA6z3PfigAQkA2utYgRABCQNFDyNQ4AEJAzQZXSBIAQkAw8jZfOgBCQG91rXszAEJAuvK8yEIAQkAYZyUQIwBCQEWr5ns+AEJACfs09j4AQkDGBgO2IABCQC9j0CovAEJAXCBB8WMAQkD90NQENABCQD1YUjBbAEJAx/3cCkAAQkADELGgNABCQBEwgBEwAEJAMDFUzUUAQkAaECkfZQBCQNkrZmMpAEJA7vwurmkAQkBKNqoVHgBCQN2uG98sAEJAsTn/XTwAQkC1go2INQBCQN25SW8sAEJA0eDfNSIAQkClrJW/MQBCQG8Y3EEyAEJAInJVNDEAQkAiclU0MQBCQKh4dfErAEJACdEQREwAQkBvGNxBMgBCQONcu5tEAEJAPVhSMFsAQkCNCnteGgBCQAdOKthOAEJAPdBtNhQAQkC3njq5UwBCQIl9fu8hAEJAFhtvAj4AQkCggYG1JABCQNzc81cjAEJA18lTNUUAQkDEdr1VUwBCQFv7rzE3AEJACEUMnjYAQkBWbAaXEgBCQBimQn4uAEJAAxCxoDQAQkAHFH9OIABCQBDnwPY8AEJAGhDG9CkAQkAb4FntJwBCQDw0yRsiAEJAxHa9VVMAQkAe4t2ZIgBCQARrg7AmAEJAMPI2XzoAQkDy79ADYQBCQCzSBlgSAEJAwr3XtWIAQkACE/IgQQBCQIoU0jMgAEJA8u/QA2EAQkDGBgO2IABCQLE5/108AEJAaY844EoAQkCH5AG4GwBCQFoxdbogAEJAWealSUYAQkDakF5YJwBCQCJyVTQxAEJAG+BZ7ScAQkDwjZ3HEwBCQEqeZ8NMAEJACfs09j4AQkDPQgq3XwBCQGRxYrwkAEJAIfN112EAQkAwxSzmLQBCQAnREERMAEJAKNTTR2AAQkDakF5YJwBCQJjB94I/AEJAOs3h3iUAQkCybWoDJABCQDa61iBEAEJAKNTTR2AAQkA2utYgRABCQGRxYrwkAEJA9bHMbCEAQkDxE4OXSwBCQD1YUjBbAEJAEeink0cAQkDCvde1YgBCQNozU3McAEJAZYpaFiMAQkARMIARMABCQDo30PAkAEJAFhtvAj4AQkAAdX/MOQBCQM9CCrdfAEJA/hqcyhoAQkBliloWIwBCQNFDyNQ4AEJAoIGBtSQAQkCYwfeCPwBCQKCBgbUkAEJAs4z9+lsAQkC68rzIQgBCQM0GV0gSAEJApaGIPRsAQkARMIARMABCQLFkllYmAEJAn9oJxCUAQkDy79ADYQBCQM/67xwlAEJAJobLx0EAQkASyhTWOgBCQMXhL9ohAEJAglRpDyQAQkAR6KeTRwBCQOnz7hshAEJAs4z9+lsAQkBvda17MwBCQLWCjYg1AEJAvVQJojAAQkDyMMQcSgBCQM9CCrdfAEJALMFeOEIAQkApmmJpOwBCQMs2y8BcAEJAsiyY+CMAQkDu/C6uaQBCQMdKipdAAEJAEOfA9jwAQkAw8jZfOgBCQFv7rzE3AEJAW/uvMTcAQkDxE4OXSwBCQEw/uG0lAEJAMMUs5i0AQkBDwZSaIABCQBHop5NHAEJAvXK9bSYAQkCYwfeCPwBCQM0GV0gSAEJAglRpDyQAQkASyhTWOgBCQBxQJbkyAEJAUssgiD0AQkAnzVENHABCQFLLIIg9AEJAZHFivCQAQkCa+FkbGQBCQJBds6ZDAEJApayVvzEAQkDGBgO2IABCQMdKipdAAEJAuvK8yEIAQkDxE4OXSwBCQHB393wkAEJAwOI2O04AQkA6N9DwJABCQHB393wkAEJA/bnsAB0AQkBSyyCIPQBCQL3ohgEmAEJAUssgiD0AQkBypJZaLQBCQAnREERMAEJAXCBB8WMAQkASyhTWOgBCQG0xBYwqAEJAB04q2E4AQkAAdX/MOQBCQCmaYmk7AEJA0eDfNSIAQkAXHkXnRgBCQMf93ApAAEJACEUMnjYAQkBkcWK8JABCQMYGA7YgAEJAf/eOGhMAQkDF4S/aIQBCQFYMmSMSAEJA35Dj2hIAQkAYpkJ+LgBCQIWZdGMTAEJAPVhSMFsAQkBvda17MwBCQMDiNjtOAEJAvVQJojAAQkBtMQWMKgBCQDo30PAkAEJAxeEv2iEAQkA2utYgRABCQDAxVM1FAEJAxHSljiMAQkDA0Uz/KwBCQP3Q1AQ0AEJApayVvzEAQkDLNsvAXABCQLWCjYg1AEJACNwlNysAQkCa+FkbGQBCQBHop5NHAEJAsWSWViYAQkCxZJZWJgBCQC9j0CovAEJAVmwGlxIAQkB/944aEwBCQBMMKTc4AEJAHvnmqyIAQkApmmJpOwBCQLIsmPgjAEJAxHSljiMAQkCRufCLZABCQMZH1cAgAEJAmX7soiYAQkAaEMb0KQBCQMdKipdAAEJAJ81RDRwAQkCzjP36WwBCQIJUaQ8kAEJARjrJdyUAQkAh83XXYQBCQAIT8iBBAEJAJkNlLjYAQkCzMSN6IQBCQKWlj0xJAEJAsiyY+CMAQkAnzVENHABCQDo30PAkAEJARjrJdyUAQkBY/+cwXwBCQNstbkhIAEJA8jDEHEoAQkClrJW/MQBCQPLoiHQmAEJAINrgpx4AQkCFmXRjEwBCQCzBXjhCAEJAjQp7XhoAQkAYZyUQIwBCQL3ohgEmAEJAaY844EoAQkAswV44QgBCQL1yvW0mAEJAglRpDyQAQkAXHkXnRgBCQH/3jhoTAEJAxHSljiMAQkDbLW5ISABCQCaGy8dBAEJA8uiIdCYAQkBY/+cwXwBCQIJUaQ8kAEJAx0qKl0AAQkAYZyUQIwBCQLFkllYmAEJA\"},\"shape\":[267],\"dtype\":\"float64\",\"order\":\"little\"}],[\"rssi\",{\"type\":\"ndarray\",\"array\":{\"type\":\"bytes\",\"data\":\"p////6X///+7////r////7////+9////l////73///+1////v////5n///+9////vf///6v///+r////mf///7X///+Z////u////7X///+n////vf///5n///+v////of///5n///+r////t////7X///+Z////pf///6f///+n////p////6f///+t////w////6f///+/////mf///5f///+7////m////7n///+r////vf///6X///+x////vf///7X///+1////tf///5f///+r////tf///6v///+3////rf///6////+Z////tf///6v///+f////vf///5n///+Z////mf///7v///+r////mf///6v///+3////w////5f///+v////vf///6////+n////r////5n////D////vf///6n///+x////mf///6v////D////mf///6////+9////n////7H///+/////mf///7////+x////mf///8P///+Z////vf///5n///+X////pf///6f///+n////vf///73///+p////l////6X///+9////pf///73///+l////mf///7////+X////l////6f///+f////sf///5n///+l////u////73///+l////p////73///+v////mf///7X///+1////p////8P///+p////v////7f///+X////pf///6H///+7////t////73///+1////tf///8P///+n////q////6////+9////r////73///+X////p////73///+1////vf///5f///+9////sf///5v///+/////p////6v///+7////v////8P///+l////vf///6f///+l////l////73///+r////vf///6v////D////mf///73///+t////u////73///+3////pf///73///+7////tf///7H///+r////l////6X///+Z////l////6v///+X////mf///7X///+9////p////63///+n////pf///7////+9////pf///5v///+1////p////5f///+1////rf///5v///+9////n////5////+r////l////5f///+1////pf///7f///+l////pf///5f///+X////n////63///+7////l////5n///+n////n////5n///+7////tf///6////+9////pf///5f///+n////n////6n///+9////w////6f///+r////l////5f///+/////l////5n///+r////w////7////+v////p////73///+X////pf///73///+7////q////6n///+n////u////5n///+f////\"},\"shape\":[267],\"dtype\":\"int32\",\"order\":\"little\"}],[\"azimuth\",{\"type\":\"ndarray\",\"array\":{\"type\":\"bytes\",\"data\":\"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\"},\"shape\":[267],\"dtype\":\"float64\",\"order\":\"little\"}],[\"azimuth_start\",{\"type\":\"ndarray\",\"array\":{\"type\":\"bytes\",\"data\":\"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\"},\"shape\":[267],\"dtype\":\"float64\",\"order\":\"little\"}],[\"azimuth_end\",{\"type\":\"ndarray\",\"array\":{\"type\":\"bytes\",\"data\":\"9cSadUPbQ0BgvYQ7gxtOwMx3JuqaSUVAmEoXquH6MEAIpIloOE05QFILV+VnMUxAdBiS9rFMVsCwyqnehtw7QISjoZVaNztAOUqgwk5yQ0CsJOyyIwlhQKS/vAUIsT5AZaMgKiQAQUAu7H85vZNQQN2qT+ACLk5AkR37SWD+V0BgoKrfuB0ZQJyOVDsBa15APDkH0wh/OkDoPMMFrNw7QOmKaElMmkhAaOwuAdIQN0CUW29VERlbQOOIONThP0RATpX4LG09XkB6qqWfPwRnQCrodPISNEBATE/N6+VwMEAQJXZ43sg+QDRAEXFjZGZAADVqNmvkScBeK17Cmq9GQJ4w5ECDXEZAi8mCvI1mUUCLyYK8jWZRQHWPwhwEtURAyO6zRTggXkCeMORAg1xGQIf5ZUES/UNAnI5UOwFrXkCweIzFhKFiwN7A66tlkFpANjKgACd1YsCENoexb8JjQIS+fYMkFE5A8H56OJoeR0BANNAxtfRIwDznLRgstlFAdeEzSKH9SUCC4f9UBO9iQC5/1PTyq0FA3K5muvPTRkBmvRX82O5ZwNR735AOQkdA6DzDBazcO0D0WJTk2gI7wA0maDq/DEBAvxjRFM1cSkAMRX9I2CE0QEw11iXnTmBAguH/VATvYkBBIN2wVLNLQNiBaZ5vDzzAsMqp3obcO0AaaheISLlYQEpmyvE78FbA5ygQTMQYVEDMdybqmklFQJrgjR2GEkhAGmoXiEi5WEAu7H85vZNQQExPzevlcDBAsimsli8VXEBGVOErPf1kwDjy80cAVETAsVo9b1tYUEB4j+ynF788QIvJgryNZlFADEV/SNghNECyXI8vg+FZwNk5blmWd19AZaMgKiQAQUCxb5trCedkQBK/W0d6wlBA8nKcuPuhV0CPgt4OjylDQMjus0U4IF5AtRL6SfQ9XEB4j+ynF788QMuYvrK030tALN2M9btrS8DzOLGbA11SQAikiWg4TTlAtRL6SfQ9XEAIpIloOE05QBK/W0d6wlBAnXO0dSdwYEATw7JW4GNWQJyOVDsBa15AwGyC7hk0RUDnKBBMxBhUQMpmNKtYymXAZPbNJ/+cT8DpimhJTJpIQPXEmnVD20NA8H56OJoeR0DURShv0Aw8QLFvm2sJ52RANM/isS1VXcBk9s0n/5xPwFILV+VnMUxAQDTQMbX0SMDLmL6ytN9LQEA00DG19EjA+0IHZ/iOXUA5SqDCTnJDQHQYkvaxTFbAvieh0pi/YcDpimhJTJpIQEQasEqz9UbAqpyO/DJiUUAaaheISLlYQGiEwfhiWUrAQJc0V6xMQ0AsWLdcXl07QGgevQcPD0vA+Jeyy9eEJUDAbILuGTRFQNB8p4nSqUrA+0IHZ/iOXUCEo6GVWjc7QBAldnjeyD5A547r1G6wTEA6EEWFue5aQLFvm2sJ52RAXF9WTEpqO0Cw7c1Z92Q2QJFBSIQpIFpAtG9AWiVZTMBOlfgsbT1eQFhvlX8zpjNADSZoOr8MQECwyqnehtw7QC5/1PTyq0FALn/U9PKrQUATw7JW4GNWQABYKlsGydG/j4LeDo8pQ0BQsDmEUfREwMBsgu4ZNEVA7dJxbpe3SEDLmL6ytN9LQHQYkvaxTFbA+Jeyy9eEJUAsWLdcXl07QCBfGitQnzdAqPJ2wRUZLEAnFHYQ/allwKjydsEVGSxAEr9bR3rCUEDgCoKlXjZlwBgsxdh78zFAXitewpqvRkAu7H85vZNQQFhvlX8zpjNAOUqgwk5yQ0ATw7JW4GNWQJRYdAcy40vAR7jPCGaeXUD1xJp1Q9tDQJRYdAcy40vA6n8AXo02ZcCo8nbBFRksQEHExay7q0FAqPJ2wRUZLECdZJ0W8vhDQMjus0U4IF5AkR37SWD+V0AsWLdcXl07QKfZ8JAOe0lA3sDrq2WQWkDURShv0Aw8QLDtzVn3ZDZAADVqNmvkScAPRSdz4eVPQDw5B9MIfzpA3K5muvPTRkASv1tHesJQQC7sfzm9k1BAfNEt294AV8BoHr0HDw9LwOgaiyvdTFTAporpCFLaWMDUe9+QDkJHQHwgV+IBpFfAnI5UOwFrXkCEo6GVWjc7QEe4zwhmnl1A547r1G6wTECn2fCQDntJQPXEmnVD20NAaB69Bw8PS8AIpIloOE05QGjsLgHSEDdA9JYXtzXTT8DcDj4GGUdmQGCgqt+4HRlAXitewpqvRkCRQUiEKSBaQBAldnjeyD5ArENCNtFATUDgCoKlXjZlwMBsgu4ZNEVARBqwSrP1RsBEGrBKs/VGwN2qT+ACLk5AZr0V/NjuWcB80S3b3gBXwNDzoip0lDHAYL2EO4MbTsCw7c1Z92Q2QLRvQFolWUzA9JYXtzXTT8AD+GnfpyZWQNV5+3sWI2FADE9oluz1RsC/GNEUzVxKQFhvlX8zpjNAJxR2EP2pZcD7Qgdn+I5dQPiXssvXhCVAvKxO5eNFScDycpy4+6FXQMx3JuqaSUVA3GhQpMDMPkCwOxaiyV9DwJMgaOskhlxAtG9AWiVZTMAnFHYQ/allwPXEmnVD20NAvKxO5eNFScCWL38eqwNkQO0+GXDsx1dAOhBFhbnuWkBeK17Cmq9GQJA413pE6jXAaCk3zQ+EZkB8IFfiAaRXwFxfVkxKajtAsHiMxYShYsCsJOyyIwlhQEHExay7q0FAsimsli8VXEBcX1ZMSmo7QO3ScW6Xt0hA+Jeyy9eEJUAPRSdz4eVPQHzRLdveAFfA9JYXtzXTT8DtPhlw7MdXQECXNFesTENAkDjXekTqNcCWL38eqwNkQPiXssvXhCVAWG+VfzOmM0CsJOyyIwlhQEQasEqz9UbA\"},\"shape\":[267],\"dtype\":\"float64\",\"order\":\"little\"}]]}}},\"view\":{\"type\":\"object\",\"name\":\"CDSView\",\"id\":\"p3243\",\"attributes\":{\"filter\":{\"type\":\"object\",\"name\":\"AllIndices\",\"id\":\"p3244\"}}},\"glyph\":{\"type\":\"object\",\"name\":\"AnnularWedge\",\"id\":\"p3239\",\"attributes\":{\"x\":{\"type\":\"field\",\"field\":\"longitude\"},\"y\":{\"type\":\"field\",\"field\":\"latitude\"},\"inner_radius\":{\"type\":\"value\",\"value\":0},\"outer_radius\":{\"type\":\"value\",\"value\":20},\"start_angle\":{\"type\":\"field\",\"field\":\"azimuth_start\",\"units\":\"deg\"},\"end_angle\":{\"type\":\"field\",\"field\":\"azimuth_end\",\"units\":\"deg\"},\"line_color\":{\"type\":\"field\",\"field\":\"rssi\",\"transform\":{\"type\":\"object\",\"name\":\"LinearColorMapper\",\"id\":\"p3235\",\"attributes\":{\"palette\":[\"#000003\",\"#07051D\",\"#170B3B\",\"#2E0A5A\",\"#450A69\",\"#5B116E\",\"#70196E\",\"#85206A\",\"#9B2864\",\"#AF315B\",\"#C43C4E\",\"#D54940\",\"#E55B30\",\"#F06F1F\",\"#F7850E\",\"#FB9E07\",\"#FBB71C\",\"#F6D33F\",\"#F1EB6C\",\"#FCFEA4\"]}}},\"line_alpha\":{\"type\":\"value\",\"value\":0.8},\"fill_color\":{\"type\":\"field\",\"field\":\"rssi\",\"transform\":{\"id\":\"p3235\"}},\"fill_alpha\":{\"type\":\"value\",\"value\":0.8},\"hatch_color\":{\"type\":\"field\",\"field\":\"rssi\",\"transform\":{\"id\":\"p3235\"}},\"hatch_alpha\":{\"type\":\"value\",\"value\":0.8}}},\"nonselection_glyph\":{\"type\":\"object\",\"name\":\"AnnularWedge\",\"id\":\"p3240\",\"attributes\":{\"x\":{\"type\":\"field\",\"field\":\"longitude\"},\"y\":{\"type\":\"field\",\"field\":\"latitude\"},\"inner_radius\":{\"type\":\"value\",\"value\":0},\"outer_radius\":{\"type\":\"value\",\"value\":20},\"start_angle\":{\"type\":\"field\",\"field\":\"azimuth_start\",\"units\":\"deg\"},\"end_angle\":{\"type\":\"field\",\"field\":\"azimuth_end\",\"units\":\"deg\"},\"line_color\":{\"type\":\"field\",\"field\":\"rssi\",\"transform\":{\"id\":\"p3235\"}},\"line_alpha\":{\"type\":\"value\",\"value\":0.1},\"fill_color\":{\"type\":\"field\",\"field\":\"rssi\",\"transform\":{\"id\":\"p3235\"}},\"fill_alpha\":{\"type\":\"value\",\"value\":0.1},\"hatch_color\":{\"type\":\"field\",\"field\":\"rssi\",\"transform\":{\"id\":\"p3235\"}},\"hatch_alpha\":{\"type\":\"value\",\"value\":0.1}}},\"muted_glyph\":{\"type\":\"object\",\"name\":\"AnnularWedge\",\"id\":\"p3241\",\"attributes\":{\"x\":{\"type\":\"field\",\"field\":\"longitude\"},\"y\":{\"type\":\"field\",\"field\":\"latitude\"},\"inner_radius\":{\"type\":\"value\",\"value\":0},\"outer_radius\":{\"type\":\"value\",\"value\":20},\"start_angle\":{\"type\":\"field\",\"field\":\"azimuth_start\",\"units\":\"deg\"},\"end_angle\":{\"type\":\"field\",\"field\":\"azimuth_end\",\"units\":\"deg\"},\"line_color\":{\"type\":\"field\",\"field\":\"rssi\",\"transform\":{\"id\":\"p3235\"}},\"line_alpha\":{\"type\":\"value\",\"value\":0.2},\"fill_color\":{\"type\":\"field\",\"field\":\"rssi\",\"transform\":{\"id\":\"p3235\"}},\"fill_alpha\":{\"type\":\"value\",\"value\":0.2},\"hatch_color\":{\"type\":\"field\",\"field\":\"rssi\",\"transform\":{\"id\":\"p3235\"}},\"hatch_alpha\":{\"type\":\"value\",\"value\":0.2}}}}}],\"toolbar\":{\"type\":\"object\",\"name\":\"Toolbar\",\"id\":\"p3215\",\"attributes\":{\"tools\":[{\"type\":\"object\",\"name\":\"HoverTool\",\"id\":\"p3205\",\"attributes\":{\"renderers\":\"auto\",\"tooltips\":[[\"rssi\",\"@rssi{0.0}\"],[\"azimuth\",\"@azimuth{0.0}\"]]}},{\"type\":\"object\",\"name\":\"PanTool\",\"id\":\"p3228\"},{\"type\":\"object\",\"name\":\"WheelZoomTool\",\"id\":\"p3247\"}]}},\"left\":[{\"type\":\"object\",\"name\":\"LinearAxis\",\"id\":\"p3224\",\"attributes\":{\"ticker\":{\"type\":\"object\",\"name\":\"MercatorTicker\",\"id\":\"p3223\",\"attributes\":{\"mantissas\":[1,2,5],\"dimension\":\"lat\"}},\"formatter\":{\"type\":\"object\",\"name\":\"MercatorTickFormatter\",\"id\":\"p3222\",\"attributes\":{\"dimension\":\"lat\"}},\"axis_label\":\"\",\"axis_label_standoff\":10,\"axis_label_text_color\":\"#E0E0E0\",\"axis_label_text_font\":\"Helvetica\",\"axis_label_text_font_size\":\"1.25em\",\"axis_label_text_font_style\":\"normal\",\"major_label_policy\":{\"type\":\"object\",\"name\":\"AllLabels\",\"id\":\"p3227\"},\"major_label_text_color\":\"#E0E0E0\",\"major_label_text_font\":\"Helvetica\",\"major_label_text_font_size\":\"1.025em\",\"axis_line_color\":\"#E0E0E0\",\"axis_line_alpha\":0,\"major_tick_line_color\":\"#E0E0E0\",\"major_tick_line_alpha\":0,\"minor_tick_line_color\":\"#E0E0E0\",\"minor_tick_line_alpha\":0}}],\"right\":[{\"type\":\"object\",\"name\":\"ColorBar\",\"id\":\"p3245\",\"attributes\":{\"location\":[0,0],\"title_text_color\":\"#E0E0E0\",\"title_text_font\":\"Helvetica\",\"title_text_font_size\":\"1.025em\",\"title_text_font_style\":\"normal\",\"major_label_policy\":{\"type\":\"object\",\"name\":\"NoOverlap\",\"id\":\"p3246\"},\"major_label_text_color\":\"#E0E0E0\",\"major_label_text_font\":\"Helvetica\",\"major_label_text_font_size\":\"1.025em\",\"major_tick_line_alpha\":0,\"bar_line_alpha\":0,\"background_fill_color\":\"#15191C\",\"color_mapper\":{\"id\":\"p3235\"}}}],\"below\":[{\"type\":\"object\",\"name\":\"LinearAxis\",\"id\":\"p3218\",\"attributes\":{\"ticker\":{\"type\":\"object\",\"name\":\"MercatorTicker\",\"id\":\"p3217\",\"attributes\":{\"mantissas\":[1,2,5],\"dimension\":\"lon\"}},\"formatter\":{\"type\":\"object\",\"name\":\"MercatorTickFormatter\",\"id\":\"p3216\",\"attributes\":{\"dimension\":\"lon\"}},\"axis_label\":\"\",\"axis_label_standoff\":10,\"axis_label_text_color\":\"#E0E0E0\",\"axis_label_text_font\":\"Helvetica\",\"axis_label_text_font_size\":\"1.25em\",\"axis_label_text_font_style\":\"normal\",\"major_label_policy\":{\"type\":\"object\",\"name\":\"AllLabels\",\"id\":\"p3221\"},\"major_label_text_color\":\"#E0E0E0\",\"major_label_text_font\":\"Helvetica\",\"major_label_text_font_size\":\"1.025em\",\"axis_line_color\":\"#E0E0E0\",\"axis_line_alpha\":0,\"major_tick_line_color\":\"#E0E0E0\",\"major_tick_line_alpha\":0,\"minor_tick_line_color\":\"#E0E0E0\",\"minor_tick_line_alpha\":0}}],\"background_fill_color\":\"#20262B\",\"border_fill_color\":\"#15191C\",\"map_options\":{\"type\":\"object\",\"name\":\"GMapOptions\",\"id\":\"p3204\",\"attributes\":{\"lat\":36.00192134954784,\"lng\":-78.937821464194,\"zoom\":17,\"map_type\":\"satellite\"}},\"api_key\":{\"type\":\"bytes\",\"data\":\"QUl6YVN5QVFra3JPbnB2X05EckVkWUpvUXJmR056M2p5RXJJZkVn\"}}}],\"callbacks\":{\"type\":\"map\"}}};\n  const render_items = [{\"docid\":\"8923f8db-e14a-4454-8e82-9ac5d3c3c9ac\",\"roots\":{\"p3206\":\"a16c9214-0e0b-421a-a481-f1a429c9d40d\"},\"root_ids\":[\"p3206\"]}];\n  root.Bokeh.embed.embed_items_notebook(docs_json, render_items);\n  }\n  if (root.Bokeh !== undefined) {\n    embed_document(root);\n  } else {\n    let attempts = 0;\n    const timer = setInterval(function(root) {\n      if (root.Bokeh !== undefined) {\n        clearInterval(timer);\n        embed_document(root);\n      } else {\n        attempts++;\n        if (attempts > 100) {\n          clearInterval(timer);\n          console.log(\"Bokeh: ERROR: Unable to run BokehJS code because BokehJS library is missing\");\n        }\n      }\n    }, 10, root)\n  }\n})(window);",
      "application/vnd.bokehjs_exec.v0+json": ""
     },
     "metadata": {
      "application/vnd.bokehjs_exec.v0+json": {
       "id": "p3206"
      }
     },
     "output_type": "display_data"
    }
   ],
   "source": [
    "def plot_gmap_Duke_ss_arrow_head(inner_field='rssi', title='rssi', df_source=df_SigCapDetails,\n",
    "                                 mid_lat=mid_lat, mid_long=mid_long,\n",
    "                      zoom=17, circle_size=4, ang_sep=10):\n",
    "    # df_source = pd.DataFrame(list(zip(*[df_source[kkey] for kkey in list(df_source)])),\n",
    "    #                          columns=list(df_source))\n",
    "    df_source = pd.DataFrame(list(zip(#df_source['uid'],\n",
    "                                      df_source['longitude'], df_source['latitude'],\n",
    "                                      df_source['rssi'], df_source['azimuth'],\n",
    "                                      np.zeros(len(df_source['azimuth'])),\n",
    "                                      np.zeros(len(df_source['azimuth']))\n",
    "                                      #np.pi/2 - (np.radians(df_source['azimuth']) + ang_sep/2),\n",
    "                                      #np.pi/2 - (np.radians(df_source['azimuth']) - ang_sep/2)\n",
    "                                      )\n",
    "                                  ),\n",
    "                             columns=[#'uid',\n",
    "                                      'longitude', 'latitude', 'rssi', 'azimuth', 'azimuth_start',\n",
    "                                      'azimuth_end'])\n",
    "    print(df_source.head())\n",
    "    # converting from\n",
    "    for idx, angle in enumerate(df_source['azimuth']):\n",
    "        if -90 < df_source['azimuth'][idx] < 180:\n",
    "            df_source['azimuth_end'][idx] = 90 - ((df_source['azimuth'][idx]) - ang_sep/2)\n",
    "            df_source['azimuth_start'][idx] = 90 - ((df_source['azimuth'][idx]) + ang_sep/2)\n",
    "        if -180 < df_source['azimuth'][idx] < -90:\n",
    "            df_source['azimuth_end'][idx] = -270 - ((df_source['azimuth'][idx]) - ang_sep/2)\n",
    "            df_source['azimuth_start'][idx] = -270 - ((df_source['azimuth'][idx]) + ang_sep/2)\n",
    "\n",
    "    print(df_source.head())\n",
    "    inner_gmap_options = GMapOptions(\n",
    "    lat=mid_lat,\n",
    "    lng=mid_long,\n",
    "    map_type='satellite',\n",
    "    zoom=zoom\n",
    "    )\n",
    "    inner_hover = HoverTool(\n",
    "        tooltips=[\n",
    "            (inner_field, '@' + inner_field + '{0.0}'),\n",
    "            #('uid', '@' + 'uid' + '{0.0}')\n",
    "            ('azimuth', '@azimuth{0.0}')\n",
    "        ]\n",
    "    )\n",
    "\n",
    "    inner_p = gmap(\n",
    "        API_KEY,\n",
    "        inner_gmap_options,\n",
    "        title=title,\n",
    "        width=800,\n",
    "        height=600,\n",
    "        tools=[inner_hover, 'pan']\n",
    "    )\n",
    "\n",
    "    inner_source = ColumnDataSource(df_source)\n",
    "\n",
    "    inner_color_mapper = LinearColorMapper(palette=palettes.inferno(20))\n",
    "\n",
    "    inner_p.annular_wedge(x='longitude', y='latitude', inner_radius=0, outer_radius=20,\n",
    "                          start_angle='azimuth_start', end_angle='azimuth_end', source=inner_source,\n",
    "                          color={'field': inner_field, 'transform': inner_color_mapper}, alpha=0.8,\n",
    "                          start_angle_units='deg', end_angle_units='deg')\n",
    "    inner_color_bar = ColorBar(color_mapper=inner_color_mapper, location=(0, 0))\n",
    "    inner_p.add_layout(inner_color_bar, 'right')\n",
    "    inner_p.add_tools(WheelZoomTool())\n",
    "    return inner_p\n",
    "\n",
    "# print(df_SigCapDetails['longitude'])\n",
    "show(plot_gmap_Duke_ss_arrow_head())\n"
   ]
  },
  {
   "cell_type": "code",
   "execution_count": null,
   "metadata": {
    "ExecuteTime": {
     "end_time": "2023-06-07T19:33:00.503951Z",
     "start_time": "2023-06-07T19:33:00.482177Z"
    }
   },
   "outputs": [],
   "source": []
  },
  {
   "cell_type": "code",
   "execution_count": null,
   "metadata": {
    "ExecuteTime": {
     "end_time": "2023-06-07T19:33:00.504124Z",
     "start_time": "2023-06-07T19:33:00.485753Z"
    }
   },
   "outputs": [],
   "source": []
  }
 ],
 "metadata": {
  "kernelspec": {
   "display_name": "Python 3 (ipykernel)",
   "language": "python",
   "name": "python3"
  },
  "language_info": {
   "codemirror_mode": {
    "name": "ipython",
    "version": 3
   },
   "file_extension": ".py",
   "mimetype": "text/x-python",
   "name": "python",
   "nbconvert_exporter": "python",
   "pygments_lexer": "ipython3",
   "version": "3.10.11"
  }
 },
 "nbformat": 4,
 "nbformat_minor": 1
}
