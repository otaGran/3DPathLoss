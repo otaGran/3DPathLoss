{
 "cells": [
  {
   "cell_type": "code",
   "execution_count": 22,
   "metadata": {
    "ExecuteTime": {
     "end_time": "2023-10-20T16:02:48.712055Z",
     "start_time": "2023-10-20T16:02:48.689062Z"
    }
   },
   "outputs": [
    {
     "name": "stdout",
     "output_type": "stream",
     "text": [
      "# data points 4257\n"
     ]
    },
    {
     "data": {
      "text/plain": "{3, 6, 7, 20, 40, 237, 288, 290, 312, 328}"
     },
     "execution_count": 22,
     "metadata": {},
     "output_type": "execute_result"
    }
   ],
   "source": [
    "from decimal import Decimal\n",
    "import json\n",
    "import psycopg2\n",
    "\n",
    "mid_lat, mid_long = 36.00192134954784, -78.937821464194\n",
    "\"\"\"\n",
    "UTC,latitude,longitude,HDOP,altitude,fix,COG,spkm,spkn,date,nsat\n",
    "145355.00,36.00280,-78.93724,2.1,124.7,3,131.1,0.0,0.0,201023,4\n",
    "is_tdd,mcc,mnc,cellid,pcid,earfcn,freq_band_ind,ul_bandwidth,dl_bandwidth,tac,rsrp,rsrq,rssi,sinr,srxlev\n",
    "\"TDD\",315,010,6A401,20,56140,48,5,5,2,-89,-6,-63,25,-\n",
    "earfcn,pcid,srq,rsrp,rssi,sinr,srxlev\n",
    "56140,20,-6,-88,-62,-,51\n",
    "56640,40,-8,-91,-75,-,51\n",
    "55540,7,-7,-109,-94,-,0\n",
    "55540,328,-19,-129,-101,-,0\n",
    "55340,6,-9,-114,-97,-,0\n",
    "55340,288,-15,-121,-97,-,0\n",
    "55940,288,-19,-132,-104,-,0\n",
    "\"\"\"\n",
    "\n",
    "\n",
    "\n",
    "\n",
    "def parse_data(src):\n",
    "# Loop through each input block\n",
    "    with open(src, \"r\") as file:\n",
    "        input_data = file.read()\n",
    "\n",
    "    # Split input by \"!!!!!!!!!!!\"\n",
    "    inputs = input_data.strip().split(\"!!!!!!!!!!!\\n\")\n",
    "    # Initialize a dictionary to store parsed data\n",
    "    parsed_data = {'lat': [], 'lon': [], 'pcid': [], 'rsrp': []}\n",
    "    for i, data_block in enumerate(inputs):\n",
    "        # Skip empty blocks\n",
    "        if not data_block:\n",
    "            continue\n",
    "\n",
    "        # Split lines in the block\n",
    "        lines = data_block.strip().split('\\n')\n",
    "        lat_lon_line = lines[1].split(',')\n",
    "        lat, lon = float(lat_lon_line[1]), float(lat_lon_line[2])\n",
    "\n",
    "        serving_cell_line = lines[3].split(\",\")\n",
    "        serving_pcid = int(serving_cell_line[4])\n",
    "        serving_rsrp = float(serving_cell_line[10])\n",
    "        parsed_data['lat'].append(lat)\n",
    "        parsed_data['lon'].append(lon)\n",
    "        parsed_data['pcid'].append(serving_pcid)\n",
    "        parsed_data['rsrp'].append(serving_rsrp)\n",
    "\n",
    "        for _, lll in enumerate(lines[5:]):\n",
    "            neighbour_cell_line = lll.split(\",\")\n",
    "            neighbour_pcid = int(neighbour_cell_line[1])\n",
    "            neighbour_rsrp = float(neighbour_cell_line[3])\n",
    "\n",
    "            parsed_data['lat'].append(lat)\n",
    "            parsed_data['lon'].append(lon)\n",
    "            parsed_data['pcid'].append(neighbour_pcid)\n",
    "            parsed_data['rsrp'].append(neighbour_rsrp)\n",
    "        # print(lines)\n",
    "    print('# data points', len(parsed_data['rsrp']))\n",
    "    return pd.DataFrame(parsed_data)\n",
    "\n",
    "\n",
    "def get_data_for_this_pci(pcid, src_dict):\n",
    "    ret_dict = {'lat': [], 'lon': [], 'pcid': [], 'rsrp': []}\n",
    "    for idx, cur_pcid in enumerate(src_dict['pcid']):\n",
    "        if pcid == cur_pcid:\n",
    "            ret_dict['lat'].append(src_dict['lat'][idx])\n",
    "            ret_dict['lon'].append(src_dict['lon'][idx])\n",
    "            ret_dict['pcid'].append(src_dict['pcid'][idx])\n",
    "            ret_dict['rsrp'].append(src_dict['rsrp'][idx])\n",
    "    print(len(ret_dict['pcid']))\n",
    "    return pd.DataFrame(ret_dict)\n",
    "\n",
    "\n",
    "def get_unique_pci_list(src_dict):\n",
    "    return set(src_dict['pcid'])\n",
    "\n",
    "\n",
    "parsed_dict = parse_data(\"cbrs_measurement_1298270f-23e3-4afe-ba20-37dc1f53a61a.txt\")\n",
    "get_unique_pci_list(src_dict=parsed_dict)"
   ]
  },
  {
   "cell_type": "code",
   "execution_count": 10,
   "metadata": {
    "ExecuteTime": {
     "end_time": "2023-10-20T15:56:33.010911Z",
     "start_time": "2023-10-20T15:56:33.001674Z"
    }
   },
   "outputs": [],
   "source": [
    "from dotenv import load_dotenv\n",
    "import os\n",
    "import pandas as pd\n",
    "import numpy as np\n",
    "from itertools import compress\n",
    "\n",
    "load_dotenv()\n",
    "API_KEY = os.getenv(\"API_KEY\")"
   ]
  },
  {
   "cell_type": "code",
   "execution_count": 11,
   "metadata": {
    "ExecuteTime": {
     "end_time": "2023-10-20T15:56:33.319269Z",
     "start_time": "2023-10-20T15:56:33.312169Z"
    }
   },
   "outputs": [
    {
     "data": {
      "text/html": "<style>\n        .bk-notebook-logo {\n            display: block;\n            width: 20px;\n            height: 20px;\n            background-image: url(data:image/png;base64,iVBORw0KGgoAAAANSUhEUgAAABQAAAAUCAYAAACNiR0NAAAABHNCSVQICAgIfAhkiAAAAAlwSFlzAAALEgAACxIB0t1+/AAAABx0RVh0U29mdHdhcmUAQWRvYmUgRmlyZXdvcmtzIENTNui8sowAAAOkSURBVDiNjZRtaJVlGMd/1/08zzln5zjP1LWcU9N0NkN8m2CYjpgQYQXqSs0I84OLIC0hkEKoPtiH3gmKoiJDU7QpLgoLjLIQCpEsNJ1vqUOdO7ppbuec5+V+rj4ctwzd8IIbbi6u+8f1539dt3A78eXC7QizUF7gyV1fD1Yqg4JWz84yffhm0qkFqBogB9rM8tZdtwVsPUhWhGcFJngGeWrPzHm5oaMmkfEg1usvLFyc8jLRqDOMru7AyC8saQr7GG7f5fvDeH7Ej8CM66nIF+8yngt6HWaKh7k49Soy9nXurCi1o3qUbS3zWfrYeQDTB/Qj6kX6Ybhw4B+bOYoLKCC9H3Nu/leUTZ1JdRWkkn2ldcCamzrcf47KKXdAJllSlxAOkRgyHsGC/zRday5Qld9DyoM4/q/rUoy/CXh3jzOu3bHUVZeU+DEn8FInkPBFlu3+nW3Nw0mk6vCDiWg8CeJaxEwuHS3+z5RgY+YBR6V1Z1nxSOfoaPa4LASWxxdNp+VWTk7+4vzaou8v8PN+xo+KY2xsw6une2frhw05CTYOmQvsEhjhWjn0bmXPjpE1+kplmmkP3suftwTubK9Vq22qKmrBhpY4jvd5afdRA3wGjFAgcnTK2s4hY0/GPNIb0nErGMCRxWOOX64Z8RAC4oCXdklmEvcL8o0BfkNK4lUg9HTl+oPlQxdNo3Mg4Nv175e/1LDGzZen30MEjRUtmXSfiTVu1kK8W4txyV6BMKlbgk3lMwYCiusNy9fVfvvwMxv8Ynl6vxoByANLTWplvuj/nF9m2+PDtt1eiHPBr1oIfhCChQMBw6Aw0UulqTKZdfVvfG7VcfIqLG9bcldL/+pdWTLxLUy8Qq38heUIjh4XlzZxzQm19lLFlr8vdQ97rjZVOLf8nclzckbcD4wxXMidpX30sFd37Fv/GtwwhzhxGVAprjbg0gCAEeIgwCZyTV2Z1REEW8O4py0wsjeloKoMr6iCY6dP92H6Vw/oTyICIthibxjm/DfN9lVz8IqtqKYLUXfoKVMVQVVJOElGjrnnUt9T9wbgp8AyYKaGlqingHZU/uG2NTZSVqwHQTWkx9hxjkpWDaCg6Ckj5qebgBVbT3V3NNXMSiWSDdGV3hrtzla7J+duwPOToIg42ChPQOQjspnSlp1V+Gjdged7+8UN5CRAV7a5EdFNwCjEaBR27b3W890TE7g24NAP/mMDXRWrGoFPQI9ls/MWO2dWFAar/xcOIImbbpA3zgAAAABJRU5ErkJggg==);\n        }\n    </style>\n    <div>\n        <a href=\"https://bokeh.org\" target=\"_blank\" class=\"bk-notebook-logo\"></a>\n        <span id=\"c7936c56-65bb-489a-9d54-a00f6df707fc\">Loading BokehJS ...</span>\n    </div>\n"
     },
     "metadata": {},
     "output_type": "display_data"
    },
    {
     "data": {
      "application/javascript": "(function(root) {\n  function now() {\n    return new Date();\n  }\n\n  const force = true;\n\n  if (typeof root._bokeh_onload_callbacks === \"undefined\" || force === true) {\n    root._bokeh_onload_callbacks = [];\n    root._bokeh_is_loading = undefined;\n  }\n\nconst JS_MIME_TYPE = 'application/javascript';\n  const HTML_MIME_TYPE = 'text/html';\n  const EXEC_MIME_TYPE = 'application/vnd.bokehjs_exec.v0+json';\n  const CLASS_NAME = 'output_bokeh rendered_html';\n\n  /**\n   * Render data to the DOM node\n   */\n  function render(props, node) {\n    const script = document.createElement(\"script\");\n    node.appendChild(script);\n  }\n\n  /**\n   * Handle when an output is cleared or removed\n   */\n  function handleClearOutput(event, handle) {\n    const cell = handle.cell;\n\n    const id = cell.output_area._bokeh_element_id;\n    const server_id = cell.output_area._bokeh_server_id;\n    // Clean up Bokeh references\n    if (id != null && id in Bokeh.index) {\n      Bokeh.index[id].model.document.clear();\n      delete Bokeh.index[id];\n    }\n\n    if (server_id !== undefined) {\n      // Clean up Bokeh references\n      const cmd_clean = \"from bokeh.io.state import curstate; print(curstate().uuid_to_server['\" + server_id + \"'].get_sessions()[0].document.roots[0]._id)\";\n      cell.notebook.kernel.execute(cmd_clean, {\n        iopub: {\n          output: function(msg) {\n            const id = msg.content.text.trim();\n            if (id in Bokeh.index) {\n              Bokeh.index[id].model.document.clear();\n              delete Bokeh.index[id];\n            }\n          }\n        }\n      });\n      // Destroy server and session\n      const cmd_destroy = \"import bokeh.io.notebook as ion; ion.destroy_server('\" + server_id + \"')\";\n      cell.notebook.kernel.execute(cmd_destroy);\n    }\n  }\n\n  /**\n   * Handle when a new output is added\n   */\n  function handleAddOutput(event, handle) {\n    const output_area = handle.output_area;\n    const output = handle.output;\n\n    // limit handleAddOutput to display_data with EXEC_MIME_TYPE content only\n    if ((output.output_type != \"display_data\") || (!Object.prototype.hasOwnProperty.call(output.data, EXEC_MIME_TYPE))) {\n      return\n    }\n\n    const toinsert = output_area.element.find(\".\" + CLASS_NAME.split(' ')[0]);\n\n    if (output.metadata[EXEC_MIME_TYPE][\"id\"] !== undefined) {\n      toinsert[toinsert.length - 1].firstChild.textContent = output.data[JS_MIME_TYPE];\n      // store reference to embed id on output_area\n      output_area._bokeh_element_id = output.metadata[EXEC_MIME_TYPE][\"id\"];\n    }\n    if (output.metadata[EXEC_MIME_TYPE][\"server_id\"] !== undefined) {\n      const bk_div = document.createElement(\"div\");\n      bk_div.innerHTML = output.data[HTML_MIME_TYPE];\n      const script_attrs = bk_div.children[0].attributes;\n      for (let i = 0; i < script_attrs.length; i++) {\n        toinsert[toinsert.length - 1].firstChild.setAttribute(script_attrs[i].name, script_attrs[i].value);\n        toinsert[toinsert.length - 1].firstChild.textContent = bk_div.children[0].textContent\n      }\n      // store reference to server id on output_area\n      output_area._bokeh_server_id = output.metadata[EXEC_MIME_TYPE][\"server_id\"];\n    }\n  }\n\n  function register_renderer(events, OutputArea) {\n\n    function append_mime(data, metadata, element) {\n      // create a DOM node to render to\n      const toinsert = this.create_output_subarea(\n        metadata,\n        CLASS_NAME,\n        EXEC_MIME_TYPE\n      );\n      this.keyboard_manager.register_events(toinsert);\n      // Render to node\n      const props = {data: data, metadata: metadata[EXEC_MIME_TYPE]};\n      render(props, toinsert[toinsert.length - 1]);\n      element.append(toinsert);\n      return toinsert\n    }\n\n    /* Handle when an output is cleared or removed */\n    events.on('clear_output.CodeCell', handleClearOutput);\n    events.on('delete.Cell', handleClearOutput);\n\n    /* Handle when a new output is added */\n    events.on('output_added.OutputArea', handleAddOutput);\n\n    /**\n     * Register the mime type and append_mime function with output_area\n     */\n    OutputArea.prototype.register_mime_type(EXEC_MIME_TYPE, append_mime, {\n      /* Is output safe? */\n      safe: true,\n      /* Index of renderer in `output_area.display_order` */\n      index: 0\n    });\n  }\n\n  // register the mime type if in Jupyter Notebook environment and previously unregistered\n  if (root.Jupyter !== undefined) {\n    const events = require('base/js/events');\n    const OutputArea = require('notebook/js/outputarea').OutputArea;\n\n    if (OutputArea.prototype.mime_types().indexOf(EXEC_MIME_TYPE) == -1) {\n      register_renderer(events, OutputArea);\n    }\n  }\n  if (typeof (root._bokeh_timeout) === \"undefined\" || force === true) {\n    root._bokeh_timeout = Date.now() + 5000;\n    root._bokeh_failed_load = false;\n  }\n\n  const NB_LOAD_WARNING = {'data': {'text/html':\n     \"<div style='background-color: #fdd'>\\n\"+\n     \"<p>\\n\"+\n     \"BokehJS does not appear to have successfully loaded. If loading BokehJS from CDN, this \\n\"+\n     \"may be due to a slow or bad network connection. Possible fixes:\\n\"+\n     \"</p>\\n\"+\n     \"<ul>\\n\"+\n     \"<li>re-rerun `output_notebook()` to attempt to load from CDN again, or</li>\\n\"+\n     \"<li>use INLINE resources instead, as so:</li>\\n\"+\n     \"</ul>\\n\"+\n     \"<code>\\n\"+\n     \"from bokeh.resources import INLINE\\n\"+\n     \"output_notebook(resources=INLINE)\\n\"+\n     \"</code>\\n\"+\n     \"</div>\"}};\n\n  function display_loaded() {\n    const el = document.getElementById(\"c7936c56-65bb-489a-9d54-a00f6df707fc\");\n    if (el != null) {\n      el.textContent = \"BokehJS is loading...\";\n    }\n    if (root.Bokeh !== undefined) {\n      if (el != null) {\n        el.textContent = \"BokehJS \" + root.Bokeh.version + \" successfully loaded.\";\n      }\n    } else if (Date.now() < root._bokeh_timeout) {\n      setTimeout(display_loaded, 100)\n    }\n  }\n\n  function run_callbacks() {\n    try {\n      root._bokeh_onload_callbacks.forEach(function(callback) {\n        if (callback != null)\n          callback();\n      });\n    } finally {\n      delete root._bokeh_onload_callbacks\n    }\n    console.debug(\"Bokeh: all callbacks have finished\");\n  }\n\n  function load_libs(css_urls, js_urls, callback) {\n    if (css_urls == null) css_urls = [];\n    if (js_urls == null) js_urls = [];\n\n    root._bokeh_onload_callbacks.push(callback);\n    if (root._bokeh_is_loading > 0) {\n      console.debug(\"Bokeh: BokehJS is being loaded, scheduling callback at\", now());\n      return null;\n    }\n    if (js_urls == null || js_urls.length === 0) {\n      run_callbacks();\n      return null;\n    }\n    console.debug(\"Bokeh: BokehJS not loaded, scheduling load and callback at\", now());\n    root._bokeh_is_loading = css_urls.length + js_urls.length;\n\n    function on_load() {\n      root._bokeh_is_loading--;\n      if (root._bokeh_is_loading === 0) {\n        console.debug(\"Bokeh: all BokehJS libraries/stylesheets loaded\");\n        run_callbacks()\n      }\n    }\n\n    function on_error(url) {\n      console.error(\"failed to load \" + url);\n    }\n\n    for (let i = 0; i < css_urls.length; i++) {\n      const url = css_urls[i];\n      const element = document.createElement(\"link\");\n      element.onload = on_load;\n      element.onerror = on_error.bind(null, url);\n      element.rel = \"stylesheet\";\n      element.type = \"text/css\";\n      element.href = url;\n      console.debug(\"Bokeh: injecting link tag for BokehJS stylesheet: \", url);\n      document.body.appendChild(element);\n    }\n\n    for (let i = 0; i < js_urls.length; i++) {\n      const url = js_urls[i];\n      const element = document.createElement('script');\n      element.onload = on_load;\n      element.onerror = on_error.bind(null, url);\n      element.async = false;\n      element.src = url;\n      console.debug(\"Bokeh: injecting script tag for BokehJS library: \", url);\n      document.head.appendChild(element);\n    }\n  };\n\n  function inject_raw_css(css) {\n    const element = document.createElement(\"style\");\n    element.appendChild(document.createTextNode(css));\n    document.body.appendChild(element);\n  }\n\n  const js_urls = [\"https://cdn.bokeh.org/bokeh/release/bokeh-3.1.1.min.js\", \"https://cdn.bokeh.org/bokeh/release/bokeh-gl-3.1.1.min.js\", \"https://cdn.bokeh.org/bokeh/release/bokeh-widgets-3.1.1.min.js\", \"https://cdn.bokeh.org/bokeh/release/bokeh-tables-3.1.1.min.js\", \"https://cdn.bokeh.org/bokeh/release/bokeh-mathjax-3.1.1.min.js\"];\n  const css_urls = [];\n\n  const inline_js = [    function(Bokeh) {\n      Bokeh.set_log_level(\"info\");\n    },\nfunction(Bokeh) {\n    }\n  ];\n\n  function run_inline_js() {\n    if (root.Bokeh !== undefined || force === true) {\n          for (let i = 0; i < inline_js.length; i++) {\n      inline_js[i].call(root, root.Bokeh);\n    }\nif (force === true) {\n        display_loaded();\n      }} else if (Date.now() < root._bokeh_timeout) {\n      setTimeout(run_inline_js, 100);\n    } else if (!root._bokeh_failed_load) {\n      console.log(\"Bokeh: BokehJS failed to load within specified timeout.\");\n      root._bokeh_failed_load = true;\n    } else if (force !== true) {\n      const cell = $(document.getElementById(\"c7936c56-65bb-489a-9d54-a00f6df707fc\")).parents('.cell').data().cell;\n      cell.output_area.append_execute_result(NB_LOAD_WARNING)\n    }\n  }\n\n  if (root._bokeh_is_loading === 0) {\n    console.debug(\"Bokeh: BokehJS loaded, going straight to plotting\");\n    run_inline_js();\n  } else {\n    load_libs(css_urls, js_urls, function() {\n      console.debug(\"Bokeh: BokehJS plotting callback run at\", now());\n      run_inline_js();\n    });\n  }\n}(window));",
      "application/vnd.bokehjs_load.v0+json": "(function(root) {\n  function now() {\n    return new Date();\n  }\n\n  const force = true;\n\n  if (typeof root._bokeh_onload_callbacks === \"undefined\" || force === true) {\n    root._bokeh_onload_callbacks = [];\n    root._bokeh_is_loading = undefined;\n  }\n\n\n  if (typeof (root._bokeh_timeout) === \"undefined\" || force === true) {\n    root._bokeh_timeout = Date.now() + 5000;\n    root._bokeh_failed_load = false;\n  }\n\n  const NB_LOAD_WARNING = {'data': {'text/html':\n     \"<div style='background-color: #fdd'>\\n\"+\n     \"<p>\\n\"+\n     \"BokehJS does not appear to have successfully loaded. If loading BokehJS from CDN, this \\n\"+\n     \"may be due to a slow or bad network connection. Possible fixes:\\n\"+\n     \"</p>\\n\"+\n     \"<ul>\\n\"+\n     \"<li>re-rerun `output_notebook()` to attempt to load from CDN again, or</li>\\n\"+\n     \"<li>use INLINE resources instead, as so:</li>\\n\"+\n     \"</ul>\\n\"+\n     \"<code>\\n\"+\n     \"from bokeh.resources import INLINE\\n\"+\n     \"output_notebook(resources=INLINE)\\n\"+\n     \"</code>\\n\"+\n     \"</div>\"}};\n\n  function display_loaded() {\n    const el = document.getElementById(\"c7936c56-65bb-489a-9d54-a00f6df707fc\");\n    if (el != null) {\n      el.textContent = \"BokehJS is loading...\";\n    }\n    if (root.Bokeh !== undefined) {\n      if (el != null) {\n        el.textContent = \"BokehJS \" + root.Bokeh.version + \" successfully loaded.\";\n      }\n    } else if (Date.now() < root._bokeh_timeout) {\n      setTimeout(display_loaded, 100)\n    }\n  }\n\n  function run_callbacks() {\n    try {\n      root._bokeh_onload_callbacks.forEach(function(callback) {\n        if (callback != null)\n          callback();\n      });\n    } finally {\n      delete root._bokeh_onload_callbacks\n    }\n    console.debug(\"Bokeh: all callbacks have finished\");\n  }\n\n  function load_libs(css_urls, js_urls, callback) {\n    if (css_urls == null) css_urls = [];\n    if (js_urls == null) js_urls = [];\n\n    root._bokeh_onload_callbacks.push(callback);\n    if (root._bokeh_is_loading > 0) {\n      console.debug(\"Bokeh: BokehJS is being loaded, scheduling callback at\", now());\n      return null;\n    }\n    if (js_urls == null || js_urls.length === 0) {\n      run_callbacks();\n      return null;\n    }\n    console.debug(\"Bokeh: BokehJS not loaded, scheduling load and callback at\", now());\n    root._bokeh_is_loading = css_urls.length + js_urls.length;\n\n    function on_load() {\n      root._bokeh_is_loading--;\n      if (root._bokeh_is_loading === 0) {\n        console.debug(\"Bokeh: all BokehJS libraries/stylesheets loaded\");\n        run_callbacks()\n      }\n    }\n\n    function on_error(url) {\n      console.error(\"failed to load \" + url);\n    }\n\n    for (let i = 0; i < css_urls.length; i++) {\n      const url = css_urls[i];\n      const element = document.createElement(\"link\");\n      element.onload = on_load;\n      element.onerror = on_error.bind(null, url);\n      element.rel = \"stylesheet\";\n      element.type = \"text/css\";\n      element.href = url;\n      console.debug(\"Bokeh: injecting link tag for BokehJS stylesheet: \", url);\n      document.body.appendChild(element);\n    }\n\n    for (let i = 0; i < js_urls.length; i++) {\n      const url = js_urls[i];\n      const element = document.createElement('script');\n      element.onload = on_load;\n      element.onerror = on_error.bind(null, url);\n      element.async = false;\n      element.src = url;\n      console.debug(\"Bokeh: injecting script tag for BokehJS library: \", url);\n      document.head.appendChild(element);\n    }\n  };\n\n  function inject_raw_css(css) {\n    const element = document.createElement(\"style\");\n    element.appendChild(document.createTextNode(css));\n    document.body.appendChild(element);\n  }\n\n  const js_urls = [\"https://cdn.bokeh.org/bokeh/release/bokeh-3.1.1.min.js\", \"https://cdn.bokeh.org/bokeh/release/bokeh-gl-3.1.1.min.js\", \"https://cdn.bokeh.org/bokeh/release/bokeh-widgets-3.1.1.min.js\", \"https://cdn.bokeh.org/bokeh/release/bokeh-tables-3.1.1.min.js\", \"https://cdn.bokeh.org/bokeh/release/bokeh-mathjax-3.1.1.min.js\"];\n  const css_urls = [];\n\n  const inline_js = [    function(Bokeh) {\n      Bokeh.set_log_level(\"info\");\n    },\nfunction(Bokeh) {\n    }\n  ];\n\n  function run_inline_js() {\n    if (root.Bokeh !== undefined || force === true) {\n          for (let i = 0; i < inline_js.length; i++) {\n      inline_js[i].call(root, root.Bokeh);\n    }\nif (force === true) {\n        display_loaded();\n      }} else if (Date.now() < root._bokeh_timeout) {\n      setTimeout(run_inline_js, 100);\n    } else if (!root._bokeh_failed_load) {\n      console.log(\"Bokeh: BokehJS failed to load within specified timeout.\");\n      root._bokeh_failed_load = true;\n    } else if (force !== true) {\n      const cell = $(document.getElementById(\"c7936c56-65bb-489a-9d54-a00f6df707fc\")).parents('.cell').data().cell;\n      cell.output_area.append_execute_result(NB_LOAD_WARNING)\n    }\n  }\n\n  if (root._bokeh_is_loading === 0) {\n    console.debug(\"Bokeh: BokehJS loaded, going straight to plotting\");\n    run_inline_js();\n  } else {\n    load_libs(css_urls, js_urls, function() {\n      console.debug(\"Bokeh: BokehJS plotting callback run at\", now());\n      run_inline_js();\n    });\n  }\n}(window));"
     },
     "metadata": {},
     "output_type": "display_data"
    }
   ],
   "source": [
    "from bokeh.io import output_notebook, export_png\n",
    "from bokeh.plotting import figure, show, gmap\n",
    "from bokeh.models import ColumnDataSource, LogColorMapper, LinearColorMapper, HoverTool, GMapOptions, WheelZoomTool, ArrowHead\n",
    "from bokeh.models import ColorBar\n",
    "import bokeh.palettes as palettes\n",
    "output_notebook()"
   ]
  },
  {
   "cell_type": "code",
   "execution_count": 31,
   "metadata": {
    "ExecuteTime": {
     "end_time": "2023-10-20T16:07:18.804427Z",
     "start_time": "2023-10-20T16:07:18.583877Z"
    }
   },
   "outputs": [
    {
     "name": "stdout",
     "output_type": "stream",
     "text": [
      "19\n",
      "        lat       lon  pcid   rsrp\n",
      "0  36.00136 -78.93847   237 -114.0\n",
      "1  36.00137 -78.93846   237 -114.0\n",
      "2  36.00139 -78.93845   237 -114.0\n",
      "3  36.00140 -78.93845   237 -114.0\n",
      "4  36.00140 -78.93845   237 -114.0\n",
      "number of data points 19\n",
      "{288, 290, 3, 6, 7, 40, 328, 237, 20, 312}\n"
     ]
    },
    {
     "data": {
      "text/html": "\n  <div id=\"db86a742-36b1-4aeb-ad52-d690de50da60\" data-root-id=\"p3195\" style=\"display: contents;\"></div>\n"
     },
     "metadata": {},
     "output_type": "display_data"
    },
    {
     "data": {
      "application/javascript": "(function(root) {\n  function embed_document(root) {\n  const docs_json = {\"8cd33a4e-df8d-4b43-aadd-5e2ad881537f\":{\"version\":\"3.1.1\",\"title\":\"Bokeh Application\",\"defs\":[],\"roots\":[{\"type\":\"object\",\"name\":\"GMap\",\"id\":\"p3195\",\"attributes\":{\"width\":800,\"x_range\":{\"type\":\"object\",\"name\":\"Range1d\",\"id\":\"p3196\"},\"y_range\":{\"type\":\"object\",\"name\":\"Range1d\",\"id\":\"p3197\"},\"x_scale\":{\"type\":\"object\",\"name\":\"LinearScale\",\"id\":\"p3203\"},\"y_scale\":{\"type\":\"object\",\"name\":\"LinearScale\",\"id\":\"p3204\"},\"title\":{\"type\":\"object\",\"name\":\"Title\",\"id\":\"p3200\",\"attributes\":{\"text\":\"rsrp mPci: 237\",\"text_color\":\"#E0E0E0\",\"text_font\":\"Helvetica\",\"text_font_size\":\"1.15em\"}},\"outline_line_color\":\"#E0E0E0\",\"outline_line_alpha\":0.25,\"renderers\":[{\"type\":\"object\",\"name\":\"GlyphRenderer\",\"id\":\"p3231\",\"attributes\":{\"data_source\":{\"type\":\"object\",\"name\":\"ColumnDataSource\",\"id\":\"p3221\",\"attributes\":{\"selected\":{\"type\":\"object\",\"name\":\"Selection\",\"id\":\"p3222\",\"attributes\":{\"indices\":[],\"line_indices\":[]}},\"selection_policy\":{\"type\":\"object\",\"name\":\"UnionRenderers\",\"id\":\"p3223\"},\"data\":{\"type\":\"map\",\"entries\":[[\"index\",{\"type\":\"ndarray\",\"array\":{\"type\":\"bytes\",\"data\":\"AAAAAAEAAAACAAAAAwAAAAQAAAAFAAAABgAAAAcAAAAIAAAACQAAAAoAAAALAAAADAAAAA0AAAAOAAAADwAAABAAAAARAAAAEgAAAA==\"},\"shape\":[19],\"dtype\":\"int32\",\"order\":\"little\"}],[\"lat\",{\"type\":\"ndarray\",\"array\":{\"type\":\"bytes\",\"data\":\"48KBkCwAQkAHmWTkLABCQE5FKowtAEJAcRsN4C0AQkBxGw3gLQBCQHEbDeAtAEJAcRsN4C0AQkBxGw3gLQBCQHEbDeAtAEJAcRsN4C0AQkBxGw3gLQBCQHEbDeAtAEJAcRsN4C0AQkBxGw3gLQBCQHEbDeAtAEJAcRsN4C0AQkBxGw3gLQBCQHEbDeAtAEJAcRsN4C0AQkA=\"},\"shape\":[19],\"dtype\":\"float64\",\"order\":\"little\"}],[\"lon\",{\"type\":\"ndarray\",\"array\":{\"type\":\"bytes\",\"data\":\"vJF55A+8U8CrJoi6D7xTwJm7lpAPvFPAmbuWkA+8U8CZu5aQD7xTwJm7lpAPvFPAmbuWkA+8U8CZu5aQD7xTwJm7lpAPvFPAmbuWkA+8U8CZu5aQD7xTwJm7lpAPvFPAmbuWkA+8U8CZu5aQD7xTwJm7lpAPvFPAmbuWkA+8U8CZu5aQD7xTwJm7lpAPvFPAmbuWkA+8U8A=\"},\"shape\":[19],\"dtype\":\"float64\",\"order\":\"little\"}],[\"pcid\",{\"type\":\"ndarray\",\"array\":{\"type\":\"bytes\",\"data\":\"7QAAAO0AAADtAAAA7QAAAO0AAADtAAAA7QAAAO0AAADtAAAA7QAAAO0AAADtAAAA7QAAAO0AAADtAAAA7QAAAO0AAADtAAAA7QAAAA==\"},\"shape\":[19],\"dtype\":\"int32\",\"order\":\"little\"}],[\"rsrp\",{\"type\":\"ndarray\",\"array\":{\"type\":\"bytes\",\"data\":\"AAAAAACAXMAAAAAAAIBcwAAAAAAAgFzAAAAAAACAXMAAAAAAAIBcwAAAAAAAgFzAAAAAAACAXMAAAAAAAIBcwAAAAAAAgFzAAAAAAACAXMAAAAAAAIBcwAAAAAAAwF/AAAAAAADAX8AAAAAAAMBfwAAAAAAAwF/AAAAAAADAX8AAAAAAAMBfwAAAAAAAwF/AAAAAAADAX8A=\"},\"shape\":[19],\"dtype\":\"float64\",\"order\":\"little\"}]]}}},\"view\":{\"type\":\"object\",\"name\":\"CDSView\",\"id\":\"p3232\",\"attributes\":{\"filter\":{\"type\":\"object\",\"name\":\"AllIndices\",\"id\":\"p3233\"}}},\"glyph\":{\"type\":\"object\",\"name\":\"Circle\",\"id\":\"p3228\",\"attributes\":{\"x\":{\"type\":\"field\",\"field\":\"lon\"},\"y\":{\"type\":\"field\",\"field\":\"lat\"},\"size\":{\"type\":\"value\",\"value\":7},\"line_color\":{\"type\":\"field\",\"field\":\"rsrp\",\"transform\":{\"type\":\"object\",\"name\":\"LinearColorMapper\",\"id\":\"p3224\",\"attributes\":{\"palette\":[\"#000003\",\"#07051D\",\"#170B3B\",\"#2E0A5A\",\"#450A69\",\"#5B116E\",\"#70196E\",\"#85206A\",\"#9B2864\",\"#AF315B\",\"#C43C4E\",\"#D54940\",\"#E55B30\",\"#F06F1F\",\"#F7850E\",\"#FB9E07\",\"#FBB71C\",\"#F6D33F\",\"#F1EB6C\",\"#FCFEA4\"]}}},\"fill_color\":{\"type\":\"field\",\"field\":\"rsrp\",\"transform\":{\"id\":\"p3224\"}},\"hatch_color\":{\"type\":\"field\",\"field\":\"rsrp\",\"transform\":{\"id\":\"p3224\"}}}},\"nonselection_glyph\":{\"type\":\"object\",\"name\":\"Circle\",\"id\":\"p3229\",\"attributes\":{\"x\":{\"type\":\"field\",\"field\":\"lon\"},\"y\":{\"type\":\"field\",\"field\":\"lat\"},\"size\":{\"type\":\"value\",\"value\":7},\"line_color\":{\"type\":\"field\",\"field\":\"rsrp\",\"transform\":{\"id\":\"p3224\"}},\"line_alpha\":{\"type\":\"value\",\"value\":0.1},\"fill_color\":{\"type\":\"field\",\"field\":\"rsrp\",\"transform\":{\"id\":\"p3224\"}},\"fill_alpha\":{\"type\":\"value\",\"value\":0.1},\"hatch_color\":{\"type\":\"field\",\"field\":\"rsrp\",\"transform\":{\"id\":\"p3224\"}},\"hatch_alpha\":{\"type\":\"value\",\"value\":0.1}}},\"muted_glyph\":{\"type\":\"object\",\"name\":\"Circle\",\"id\":\"p3230\",\"attributes\":{\"x\":{\"type\":\"field\",\"field\":\"lon\"},\"y\":{\"type\":\"field\",\"field\":\"lat\"},\"size\":{\"type\":\"value\",\"value\":7},\"line_color\":{\"type\":\"field\",\"field\":\"rsrp\",\"transform\":{\"id\":\"p3224\"}},\"line_alpha\":{\"type\":\"value\",\"value\":0.2},\"fill_color\":{\"type\":\"field\",\"field\":\"rsrp\",\"transform\":{\"id\":\"p3224\"}},\"fill_alpha\":{\"type\":\"value\",\"value\":0.2},\"hatch_color\":{\"type\":\"field\",\"field\":\"rsrp\",\"transform\":{\"id\":\"p3224\"}},\"hatch_alpha\":{\"type\":\"value\",\"value\":0.2}}}}}],\"toolbar\":{\"type\":\"object\",\"name\":\"Toolbar\",\"id\":\"p3202\",\"attributes\":{\"tools\":[{\"type\":\"object\",\"name\":\"HoverTool\",\"id\":\"p3194\",\"attributes\":{\"renderers\":\"auto\",\"tooltips\":[[\"rsrp\",\"@rsrp{0.0}\"]]}},{\"type\":\"object\",\"name\":\"PanTool\",\"id\":\"p3217\"},{\"type\":\"object\",\"name\":\"WheelZoomTool\",\"id\":\"p3236\"}]}},\"left\":[{\"type\":\"object\",\"name\":\"LinearAxis\",\"id\":\"p3213\",\"attributes\":{\"ticker\":{\"type\":\"object\",\"name\":\"MercatorTicker\",\"id\":\"p3212\",\"attributes\":{\"mantissas\":[1,2,5],\"dimension\":\"lat\"}},\"formatter\":{\"type\":\"object\",\"name\":\"MercatorTickFormatter\",\"id\":\"p3211\",\"attributes\":{\"dimension\":\"lat\"}},\"axis_label\":\"\",\"axis_label_standoff\":10,\"axis_label_text_color\":\"#E0E0E0\",\"axis_label_text_font\":\"Helvetica\",\"axis_label_text_font_size\":\"1.25em\",\"axis_label_text_font_style\":\"normal\",\"major_label_policy\":{\"type\":\"object\",\"name\":\"AllLabels\",\"id\":\"p3216\"},\"major_label_text_color\":\"#E0E0E0\",\"major_label_text_font\":\"Helvetica\",\"major_label_text_font_size\":\"1.025em\",\"axis_line_color\":\"#E0E0E0\",\"axis_line_alpha\":0,\"major_tick_line_color\":\"#E0E0E0\",\"major_tick_line_alpha\":0,\"minor_tick_line_color\":\"#E0E0E0\",\"minor_tick_line_alpha\":0}}],\"right\":[{\"type\":\"object\",\"name\":\"ColorBar\",\"id\":\"p3234\",\"attributes\":{\"location\":[0,0],\"title_text_color\":\"#E0E0E0\",\"title_text_font\":\"Helvetica\",\"title_text_font_size\":\"1.025em\",\"title_text_font_style\":\"normal\",\"major_label_policy\":{\"type\":\"object\",\"name\":\"NoOverlap\",\"id\":\"p3235\"},\"major_label_text_color\":\"#E0E0E0\",\"major_label_text_font\":\"Helvetica\",\"major_label_text_font_size\":\"1.025em\",\"major_tick_line_alpha\":0,\"bar_line_alpha\":0,\"background_fill_color\":\"#15191C\",\"color_mapper\":{\"id\":\"p3224\"}}}],\"below\":[{\"type\":\"object\",\"name\":\"LinearAxis\",\"id\":\"p3207\",\"attributes\":{\"ticker\":{\"type\":\"object\",\"name\":\"MercatorTicker\",\"id\":\"p3206\",\"attributes\":{\"mantissas\":[1,2,5],\"dimension\":\"lon\"}},\"formatter\":{\"type\":\"object\",\"name\":\"MercatorTickFormatter\",\"id\":\"p3205\",\"attributes\":{\"dimension\":\"lon\"}},\"axis_label\":\"\",\"axis_label_standoff\":10,\"axis_label_text_color\":\"#E0E0E0\",\"axis_label_text_font\":\"Helvetica\",\"axis_label_text_font_size\":\"1.25em\",\"axis_label_text_font_style\":\"normal\",\"major_label_policy\":{\"type\":\"object\",\"name\":\"AllLabels\",\"id\":\"p3210\"},\"major_label_text_color\":\"#E0E0E0\",\"major_label_text_font\":\"Helvetica\",\"major_label_text_font_size\":\"1.025em\",\"axis_line_color\":\"#E0E0E0\",\"axis_line_alpha\":0,\"major_tick_line_color\":\"#E0E0E0\",\"major_tick_line_alpha\":0,\"minor_tick_line_color\":\"#E0E0E0\",\"minor_tick_line_alpha\":0}}],\"background_fill_color\":\"#20262B\",\"border_fill_color\":\"#15191C\",\"map_options\":{\"type\":\"object\",\"name\":\"GMapOptions\",\"id\":\"p3193\",\"attributes\":{\"lat\":36.00139578947368,\"lng\":-78.93845157894738,\"zoom\":17,\"map_type\":\"satellite\"}},\"api_key\":{\"type\":\"bytes\",\"data\":\"QUl6YVN5Q3dQZ29ZZFdacjdFTE55VGdXY3pwelhlN1ZtTV9Tb0xv\"}}}],\"callbacks\":{\"type\":\"map\"}}};\n  const render_items = [{\"docid\":\"8cd33a4e-df8d-4b43-aadd-5e2ad881537f\",\"roots\":{\"p3195\":\"db86a742-36b1-4aeb-ad52-d690de50da60\"},\"root_ids\":[\"p3195\"]}];\n  root.Bokeh.embed.embed_items_notebook(docs_json, render_items);\n  }\n  if (root.Bokeh !== undefined) {\n    embed_document(root);\n  } else {\n    let attempts = 0;\n    const timer = setInterval(function(root) {\n      if (root.Bokeh !== undefined) {\n        clearInterval(timer);\n        embed_document(root);\n      } else {\n        attempts++;\n        if (attempts > 100) {\n          clearInterval(timer);\n          console.log(\"Bokeh: ERROR: Unable to run BokehJS code because BokehJS library is missing\");\n        }\n      }\n    }, 10, root)\n  }\n})(window);",
      "application/vnd.bokehjs_exec.v0+json": ""
     },
     "metadata": {
      "application/vnd.bokehjs_exec.v0+json": {
       "id": "p3195"
      }
     },
     "output_type": "display_data"
    }
   ],
   "source": [
    "def plot_gmap_Duke_ss(mPci, inner_field, df_source: dict, mid_lat=mid_lat, mid_long=mid_long,\n",
    "                      zoom=17, circle_size=4):\n",
    "    # print(list(compress(df_source['longitude'], df_source['mPci'] == mPci)))\n",
    "    # print(df_source['longitude'][df_source['mPci'] == mPci])\n",
    "    df_source = get_data_for_this_pci(pcid=mPci, src_dict=df_source)\n",
    "    df_source = pd.DataFrame(list(\n",
    "        zip(*[list(compress(df_source[kkey], df_source['pcid'] == mPci))for kkey in list(df_source)])\n",
    "    ),\n",
    "                             columns=list(df_source))\n",
    "    print(df_source.head())\n",
    "    print('number of data points', len(df_source['lon']))\n",
    "    inner_gmap_options = GMapOptions(\n",
    "    lat=np.mean(df_source['lat']),\n",
    "    lng=np.mean(df_source['lon']),\n",
    "    map_type='satellite',\n",
    "    zoom=zoom\n",
    "    )\n",
    "    inner_hover = HoverTool(\n",
    "        tooltips=[\n",
    "            (inner_field, '@' + inner_field + '{0.0}'),\n",
    "        ]\n",
    "    )\n",
    "\n",
    "    inner_p = gmap(\n",
    "        API_KEY,\n",
    "        inner_gmap_options,\n",
    "        title=str(inner_field + ' mPci: ' + str(mPci)),\n",
    "        width=800,\n",
    "        height=600,\n",
    "        tools=[inner_hover, 'pan']\n",
    "    )\n",
    "    inner_source = ColumnDataSource(df_source)\n",
    "\n",
    "    inner_color_mapper = LinearColorMapper(palette=palettes.inferno(20))\n",
    "    inner_p.circle('lon', 'lat', source=inner_source,\n",
    "              color={'field': inner_field, 'transform': inner_color_mapper},\n",
    "              size=circle_size)\n",
    "    inner_color_bar = ColorBar(color_mapper=inner_color_mapper, location=(0, 0))\n",
    "    inner_p.add_layout(inner_color_bar, 'right')\n",
    "    inner_p.add_tools(WheelZoomTool())\n",
    "    return inner_p\n",
    "\n",
    "\n",
    "p1 = plot_gmap_Duke_ss(mPci=int(237), inner_field='rsrp',\n",
    "                         df_source=parsed_dict, circle_size=7)\n",
    "print(get_unique_pci_list(src_dict=parsed_dict))\n",
    "show(p1)"
   ]
  },
  {
   "cell_type": "code",
   "execution_count": 18,
   "metadata": {
    "ExecuteTime": {
     "end_time": "2023-08-03T16:07:00.507838Z",
     "start_time": "2023-08-03T16:07:00.435857Z"
    }
   },
   "outputs": [
    {
     "name": "stdout",
     "output_type": "stream",
     "text": [
      "   longitude   latitude  rssi\n",
      "0 -78.937821  36.001921   -40\n",
      "1 -78.937721  36.002021   -50\n"
     ]
    },
    {
     "data": {
      "text/html": "\n  <div id=\"acf7fdde-6038-4114-b088-f1688314f688\" data-root-id=\"p1402\" style=\"display: contents;\"></div>\n"
     },
     "metadata": {},
     "output_type": "display_data"
    },
    {
     "data": {
      "application/javascript": "(function(root) {\n  function embed_document(root) {\n  const docs_json = {\"96720090-8593-438f-87f4-58eccb462369\":{\"version\":\"3.1.1\",\"title\":\"Bokeh Application\",\"defs\":[],\"roots\":[{\"type\":\"object\",\"name\":\"GMap\",\"id\":\"p1402\",\"attributes\":{\"width\":800,\"x_range\":{\"type\":\"object\",\"name\":\"Range1d\",\"id\":\"p1403\"},\"y_range\":{\"type\":\"object\",\"name\":\"Range1d\",\"id\":\"p1404\"},\"x_scale\":{\"type\":\"object\",\"name\":\"LinearScale\",\"id\":\"p1410\"},\"y_scale\":{\"type\":\"object\",\"name\":\"LinearScale\",\"id\":\"p1409\"},\"title\":{\"type\":\"object\",\"name\":\"Title\",\"id\":\"p1407\",\"attributes\":{\"text\":\"rssi SigCapDetails\",\"text_color\":\"#E0E0E0\",\"text_font\":\"Helvetica\",\"text_font_size\":\"1.15em\"}},\"outline_line_color\":\"#E0E0E0\",\"outline_line_alpha\":0.25,\"renderers\":[{\"type\":\"object\",\"name\":\"GlyphRenderer\",\"id\":\"p1438\",\"attributes\":{\"data_source\":{\"type\":\"object\",\"name\":\"ColumnDataSource\",\"id\":\"p1428\",\"attributes\":{\"selected\":{\"type\":\"object\",\"name\":\"Selection\",\"id\":\"p1429\",\"attributes\":{\"indices\":[],\"line_indices\":[]}},\"selection_policy\":{\"type\":\"object\",\"name\":\"UnionRenderers\",\"id\":\"p1430\"},\"data\":{\"type\":\"map\",\"entries\":[[\"index\",{\"type\":\"ndarray\",\"array\":{\"type\":\"bytes\",\"data\":\"AAAAAAEAAAA=\"},\"shape\":[2],\"dtype\":\"int32\",\"order\":\"little\"}],[\"longitude\",{\"type\":\"ndarray\",\"array\":{\"type\":\"bytes\",\"data\":\"zoxRRAW8U8AcXuOgA7xTwA==\"},\"shape\":[2],\"dtype\":\"float64\",\"order\":\"little\"}],[\"latitude\",{\"type\":\"ndarray\",\"array\":{\"type\":\"bytes\",\"data\":\"cLxy9T4AQkDUGU88QgBCQA==\"},\"shape\":[2],\"dtype\":\"float64\",\"order\":\"little\"}],[\"rssi\",{\"type\":\"ndarray\",\"array\":{\"type\":\"bytes\",\"data\":\"2P///87///8=\"},\"shape\":[2],\"dtype\":\"int32\",\"order\":\"little\"}]]}}},\"view\":{\"type\":\"object\",\"name\":\"CDSView\",\"id\":\"p1439\",\"attributes\":{\"filter\":{\"type\":\"object\",\"name\":\"AllIndices\",\"id\":\"p1440\"}}},\"glyph\":{\"type\":\"object\",\"name\":\"Circle\",\"id\":\"p1435\",\"attributes\":{\"x\":{\"type\":\"field\",\"field\":\"longitude\"},\"y\":{\"type\":\"field\",\"field\":\"latitude\"},\"size\":{\"type\":\"value\",\"value\":7},\"line_color\":{\"type\":\"field\",\"field\":\"rssi\",\"transform\":{\"type\":\"object\",\"name\":\"LinearColorMapper\",\"id\":\"p1431\",\"attributes\":{\"palette\":[\"#000003\",\"#07051D\",\"#170B3B\",\"#2E0A5A\",\"#450A69\",\"#5B116E\",\"#70196E\",\"#85206A\",\"#9B2864\",\"#AF315B\",\"#C43C4E\",\"#D54940\",\"#E55B30\",\"#F06F1F\",\"#F7850E\",\"#FB9E07\",\"#FBB71C\",\"#F6D33F\",\"#F1EB6C\",\"#FCFEA4\"]}}},\"fill_color\":{\"type\":\"field\",\"field\":\"rssi\",\"transform\":{\"id\":\"p1431\"}},\"hatch_color\":{\"type\":\"field\",\"field\":\"rssi\",\"transform\":{\"id\":\"p1431\"}}}},\"nonselection_glyph\":{\"type\":\"object\",\"name\":\"Circle\",\"id\":\"p1436\",\"attributes\":{\"x\":{\"type\":\"field\",\"field\":\"longitude\"},\"y\":{\"type\":\"field\",\"field\":\"latitude\"},\"size\":{\"type\":\"value\",\"value\":7},\"line_color\":{\"type\":\"field\",\"field\":\"rssi\",\"transform\":{\"id\":\"p1431\"}},\"line_alpha\":{\"type\":\"value\",\"value\":0.1},\"fill_color\":{\"type\":\"field\",\"field\":\"rssi\",\"transform\":{\"id\":\"p1431\"}},\"fill_alpha\":{\"type\":\"value\",\"value\":0.1},\"hatch_color\":{\"type\":\"field\",\"field\":\"rssi\",\"transform\":{\"id\":\"p1431\"}},\"hatch_alpha\":{\"type\":\"value\",\"value\":0.1}}},\"muted_glyph\":{\"type\":\"object\",\"name\":\"Circle\",\"id\":\"p1437\",\"attributes\":{\"x\":{\"type\":\"field\",\"field\":\"longitude\"},\"y\":{\"type\":\"field\",\"field\":\"latitude\"},\"size\":{\"type\":\"value\",\"value\":7},\"line_color\":{\"type\":\"field\",\"field\":\"rssi\",\"transform\":{\"id\":\"p1431\"}},\"line_alpha\":{\"type\":\"value\",\"value\":0.2},\"fill_color\":{\"type\":\"field\",\"field\":\"rssi\",\"transform\":{\"id\":\"p1431\"}},\"fill_alpha\":{\"type\":\"value\",\"value\":0.2},\"hatch_color\":{\"type\":\"field\",\"field\":\"rssi\",\"transform\":{\"id\":\"p1431\"}},\"hatch_alpha\":{\"type\":\"value\",\"value\":0.2}}}}}],\"toolbar\":{\"type\":\"object\",\"name\":\"Toolbar\",\"id\":\"p1411\",\"attributes\":{\"tools\":[{\"type\":\"object\",\"name\":\"HoverTool\",\"id\":\"p1401\",\"attributes\":{\"renderers\":\"auto\",\"tooltips\":[[\"rssi\",\"@rssi{0.0}\"]]}},{\"type\":\"object\",\"name\":\"PanTool\",\"id\":\"p1424\"},{\"type\":\"object\",\"name\":\"WheelZoomTool\",\"id\":\"p1443\"}]}},\"left\":[{\"type\":\"object\",\"name\":\"LinearAxis\",\"id\":\"p1420\",\"attributes\":{\"ticker\":{\"type\":\"object\",\"name\":\"MercatorTicker\",\"id\":\"p1419\",\"attributes\":{\"mantissas\":[1,2,5],\"dimension\":\"lat\"}},\"formatter\":{\"type\":\"object\",\"name\":\"MercatorTickFormatter\",\"id\":\"p1418\",\"attributes\":{\"dimension\":\"lat\"}},\"axis_label\":\"\",\"axis_label_standoff\":10,\"axis_label_text_color\":\"#E0E0E0\",\"axis_label_text_font\":\"Helvetica\",\"axis_label_text_font_size\":\"1.25em\",\"axis_label_text_font_style\":\"normal\",\"major_label_policy\":{\"type\":\"object\",\"name\":\"AllLabels\",\"id\":\"p1423\"},\"major_label_text_color\":\"#E0E0E0\",\"major_label_text_font\":\"Helvetica\",\"major_label_text_font_size\":\"1.025em\",\"axis_line_color\":\"#E0E0E0\",\"axis_line_alpha\":0,\"major_tick_line_color\":\"#E0E0E0\",\"major_tick_line_alpha\":0,\"minor_tick_line_color\":\"#E0E0E0\",\"minor_tick_line_alpha\":0}}],\"right\":[{\"type\":\"object\",\"name\":\"ColorBar\",\"id\":\"p1441\",\"attributes\":{\"location\":[0,0],\"title_text_color\":\"#E0E0E0\",\"title_text_font\":\"Helvetica\",\"title_text_font_size\":\"1.025em\",\"title_text_font_style\":\"normal\",\"major_label_policy\":{\"type\":\"object\",\"name\":\"NoOverlap\",\"id\":\"p1442\"},\"major_label_text_color\":\"#E0E0E0\",\"major_label_text_font\":\"Helvetica\",\"major_label_text_font_size\":\"1.025em\",\"major_tick_line_alpha\":0,\"bar_line_alpha\":0,\"background_fill_color\":\"#15191C\",\"color_mapper\":{\"id\":\"p1431\"}}}],\"below\":[{\"type\":\"object\",\"name\":\"LinearAxis\",\"id\":\"p1414\",\"attributes\":{\"ticker\":{\"type\":\"object\",\"name\":\"MercatorTicker\",\"id\":\"p1413\",\"attributes\":{\"mantissas\":[1,2,5],\"dimension\":\"lon\"}},\"formatter\":{\"type\":\"object\",\"name\":\"MercatorTickFormatter\",\"id\":\"p1412\",\"attributes\":{\"dimension\":\"lon\"}},\"axis_label\":\"\",\"axis_label_standoff\":10,\"axis_label_text_color\":\"#E0E0E0\",\"axis_label_text_font\":\"Helvetica\",\"axis_label_text_font_size\":\"1.25em\",\"axis_label_text_font_style\":\"normal\",\"major_label_policy\":{\"type\":\"object\",\"name\":\"AllLabels\",\"id\":\"p1417\"},\"major_label_text_color\":\"#E0E0E0\",\"major_label_text_font\":\"Helvetica\",\"major_label_text_font_size\":\"1.025em\",\"axis_line_color\":\"#E0E0E0\",\"axis_line_alpha\":0,\"major_tick_line_color\":\"#E0E0E0\",\"major_tick_line_alpha\":0,\"minor_tick_line_color\":\"#E0E0E0\",\"minor_tick_line_alpha\":0}}],\"background_fill_color\":\"#20262B\",\"border_fill_color\":\"#15191C\",\"map_options\":{\"type\":\"object\",\"name\":\"GMapOptions\",\"id\":\"p1400\",\"attributes\":{\"lat\":36.00192134954784,\"lng\":-78.937821464194,\"zoom\":16,\"map_type\":\"satellite\"}},\"api_key\":{\"type\":\"bytes\",\"data\":\"QUl6YVN5QVFra3JPbnB2X05EckVkWUpvUXJmR056M2p5RXJJZkVn\"}}}],\"callbacks\":{\"type\":\"map\"}}};\n  const render_items = [{\"docid\":\"96720090-8593-438f-87f4-58eccb462369\",\"roots\":{\"p1402\":\"acf7fdde-6038-4114-b088-f1688314f688\"},\"root_ids\":[\"p1402\"]}];\n  root.Bokeh.embed.embed_items_notebook(docs_json, render_items);\n  }\n  if (root.Bokeh !== undefined) {\n    embed_document(root);\n  } else {\n    let attempts = 0;\n    const timer = setInterval(function(root) {\n      if (root.Bokeh !== undefined) {\n        clearInterval(timer);\n        embed_document(root);\n      } else {\n        attempts++;\n        if (attempts > 100) {\n          clearInterval(timer);\n          console.log(\"Bokeh: ERROR: Unable to run BokehJS code because BokehJS library is missing\");\n        }\n      }\n    }, 10, root)\n  }\n})(window);",
      "application/vnd.bokehjs_exec.v0+json": ""
     },
     "metadata": {
      "application/vnd.bokehjs_exec.v0+json": {
       "id": "p1402"
      }
     },
     "output_type": "display_data"
    }
   ],
   "source": [
    "dict_test = {'latitude': [mid_lat, mid_lat + 0.0001], 'longitude': [mid_long, mid_long + 0.0001],\n",
    "             'rssi': [-40, -50]}\n",
    "df_test = pd.DataFrame.from_dict(dict_test)\n",
    "p2 = plot_gmap_Duke_ss(inner_field='rssi',\n",
    "                         title='rssi SigCapDetails',\n",
    "                         df_source=df_test, circle_size=7)\n",
    "show(p2)"
   ]
  },
  {
   "cell_type": "code",
   "execution_count": 6,
   "metadata": {
    "ExecuteTime": {
     "end_time": "2023-09-14T15:32:59.919696Z",
     "start_time": "2023-09-14T15:32:59.876067Z"
    }
   },
   "outputs": [
    {
     "data": {
      "text/html": "\n  <div id=\"a1ca1c15-cad1-4220-a357-90795b71ba58\" data-root-id=\"p1003\" style=\"display: contents;\"></div>\n"
     },
     "metadata": {},
     "output_type": "display_data"
    },
    {
     "data": {
      "application/javascript": "(function(root) {\n  function embed_document(root) {\n  const docs_json = {\"3dc8e036-1608-4e21-b55d-6288e609c713\":{\"version\":\"3.1.1\",\"title\":\"Bokeh Application\",\"defs\":[],\"roots\":[{\"type\":\"object\",\"name\":\"Plot\",\"id\":\"p1003\",\"attributes\":{\"width\":150,\"height\":35,\"x_range\":{\"type\":\"object\",\"name\":\"Range1d\",\"id\":\"p1001\"},\"y_range\":{\"type\":\"object\",\"name\":\"Range1d\",\"id\":\"p1002\",\"attributes\":{\"start\":-0.5,\"end\":0.5}},\"x_scale\":{\"type\":\"object\",\"name\":\"LinearScale\",\"id\":\"p1007\"},\"y_scale\":{\"type\":\"object\",\"name\":\"LinearScale\",\"id\":\"p1008\"},\"title\":{\"type\":\"object\",\"name\":\"Title\",\"id\":\"p1006\",\"attributes\":{\"text_color\":\"#E0E0E0\",\"text_font\":\"Helvetica\",\"text_font_size\":\"1.15em\"}},\"outline_line_color\":null,\"outline_line_alpha\":0.25,\"toolbar\":{\"type\":\"object\",\"name\":\"Toolbar\",\"id\":\"p1009\"},\"toolbar_location\":null,\"center\":[{\"type\":\"object\",\"name\":\"Arrow\",\"id\":\"p1011\",\"attributes\":{\"source\":{\"type\":\"object\",\"name\":\"ColumnDataSource\",\"id\":\"p1013\",\"attributes\":{\"selected\":{\"type\":\"object\",\"name\":\"Selection\",\"id\":\"p1015\",\"attributes\":{\"indices\":[],\"line_indices\":[]}},\"selection_policy\":{\"type\":\"object\",\"name\":\"UnionRenderers\",\"id\":\"p1014\"},\"data\":{\"type\":\"map\"}}},\"x_start\":{\"type\":\"value\",\"value\":0.2},\"y_start\":{\"type\":\"value\",\"value\":0},\"x_end\":{\"type\":\"value\",\"value\":0.2},\"y_end\":{\"type\":\"value\",\"value\":-0.1},\"end\":{\"type\":\"object\",\"name\":\"VeeHead\",\"id\":\"p1010\",\"attributes\":{\"size\":{\"type\":\"value\",\"value\":10},\"line_color\":{\"type\":\"value\",\"value\":\"blue\"},\"line_alpha\":{\"type\":\"value\",\"value\":0.8},\"line_width\":{\"type\":\"value\",\"value\":2},\"line_dash\":{\"type\":\"value\",\"value\":\"solid\"}}}}}],\"background_fill_color\":\"#20262B\",\"border_fill_color\":\"#15191C\",\"min_border_top\":0,\"min_border_bottom\":0,\"min_border_left\":0,\"min_border_right\":0}}],\"callbacks\":{\"type\":\"map\"}}};\n  const render_items = [{\"docid\":\"3dc8e036-1608-4e21-b55d-6288e609c713\",\"roots\":{\"p1003\":\"a1ca1c15-cad1-4220-a357-90795b71ba58\"},\"root_ids\":[\"p1003\"]}];\n  root.Bokeh.embed.embed_items_notebook(docs_json, render_items);\n  }\n  if (root.Bokeh !== undefined) {\n    embed_document(root);\n  } else {\n    let attempts = 0;\n    const timer = setInterval(function(root) {\n      if (root.Bokeh !== undefined) {\n        clearInterval(timer);\n        embed_document(root);\n      } else {\n        attempts++;\n        if (attempts > 100) {\n          clearInterval(timer);\n          console.log(\"Bokeh: ERROR: Unable to run BokehJS code because BokehJS library is missing\");\n        }\n      }\n    }, 10, root)\n  }\n})(window);",
      "application/vnd.bokehjs_exec.v0+json": ""
     },
     "metadata": {
      "application/vnd.bokehjs_exec.v0+json": {
       "id": "p1003"
      }
     },
     "output_type": "display_data"
    }
   ],
   "source": [
    "from bokeh.models import (Arrow, Label, NormalHead, OpenHead,\n",
    "                          Plot, Range1d, TeeHead, VeeHead)\n",
    "from bokeh.plotting import show\n",
    "\n",
    "ARROW_HEADS = [VeeHead]#[TeeHead, OpenHead, NormalHead, VeeHead]\n",
    "HEIGHT = 35 * len(ARROW_HEADS)\n",
    "\n",
    "p = Plot(width=150, height=HEIGHT,\n",
    "         x_range=Range1d(0,1), y_range=Range1d(-0.5, len(ARROW_HEADS) - 0.5),\n",
    "         toolbar_location=None, outline_line_color=None, min_border_left=0,\n",
    "         min_border_right=0, min_border_top=0, min_border_bottom=0)\n",
    "\n",
    "for i, style in enumerate(ARROW_HEADS):\n",
    "    arrow = Arrow(x_start=0.2, y_start=i, x_end=0.2, y_end=i-0.1, end=style(\n",
    "        line_width=2, line_color='blue', line_alpha=0.8,\n",
    "                             size=10,\n",
    "                             line_dash='solid'\n",
    "    ))\n",
    "    p.add_layout(arrow)\n",
    "\n",
    "\n",
    "show(p)"
   ]
  },
  {
   "cell_type": "code",
   "execution_count": 7,
   "metadata": {
    "ExecuteTime": {
     "end_time": "2023-09-14T15:33:00.965677Z",
     "start_time": "2023-09-14T15:33:00.785814Z"
    }
   },
   "outputs": [
    {
     "name": "stderr",
     "output_type": "stream",
     "text": [
      "/var/folders/sd/_4gcyf1x307dwdn_5_g9jqy80000gn/T/ipykernel_23009/2153484946.py:25: SettingWithCopyWarning: \n",
      "A value is trying to be set on a copy of a slice from a DataFrame\n",
      "\n",
      "See the caveats in the documentation: https://pandas.pydata.org/pandas-docs/stable/user_guide/indexing.html#returning-a-view-versus-a-copy\n",
      "  df_source['azimuth_end'][idx] = 90 - ((df_source['azimuth'][idx]) - ang_sep/2)\n",
      "/var/folders/sd/_4gcyf1x307dwdn_5_g9jqy80000gn/T/ipykernel_23009/2153484946.py:26: SettingWithCopyWarning: \n",
      "A value is trying to be set on a copy of a slice from a DataFrame\n",
      "\n",
      "See the caveats in the documentation: https://pandas.pydata.org/pandas-docs/stable/user_guide/indexing.html#returning-a-view-versus-a-copy\n",
      "  df_source['azimuth_start'][idx] = 90 - ((df_source['azimuth'][idx]) + ang_sep/2)\n",
      "/var/folders/sd/_4gcyf1x307dwdn_5_g9jqy80000gn/T/ipykernel_23009/2153484946.py:28: SettingWithCopyWarning: \n",
      "A value is trying to be set on a copy of a slice from a DataFrame\n",
      "\n",
      "See the caveats in the documentation: https://pandas.pydata.org/pandas-docs/stable/user_guide/indexing.html#returning-a-view-versus-a-copy\n",
      "  df_source['azimuth_end'][idx] = -270 - ((df_source['azimuth'][idx]) - ang_sep/2)\n",
      "/var/folders/sd/_4gcyf1x307dwdn_5_g9jqy80000gn/T/ipykernel_23009/2153484946.py:29: SettingWithCopyWarning: \n",
      "A value is trying to be set on a copy of a slice from a DataFrame\n",
      "\n",
      "See the caveats in the documentation: https://pandas.pydata.org/pandas-docs/stable/user_guide/indexing.html#returning-a-view-versus-a-copy\n",
      "  df_source['azimuth_start'][idx] = -270 - ((df_source['azimuth'][idx]) + ang_sep/2)\n"
     ]
    },
    {
     "data": {
      "text/html": "\n  <div id=\"de5e710e-b41f-47b5-8ed4-5b9c392fd8e3\" data-root-id=\"p1078\" style=\"display: contents;\"></div>\n"
     },
     "metadata": {},
     "output_type": "display_data"
    },
    {
     "data": {
      "application/javascript": "(function(root) {\n  function embed_document(root) {\n  const docs_json = {\"b0e36393-41ce-4ba5-8e47-b00fbca8d291\":{\"version\":\"3.1.1\",\"title\":\"Bokeh Application\",\"defs\":[],\"roots\":[{\"type\":\"object\",\"name\":\"GMap\",\"id\":\"p1078\",\"attributes\":{\"width\":800,\"x_range\":{\"type\":\"object\",\"name\":\"Range1d\",\"id\":\"p1079\"},\"y_range\":{\"type\":\"object\",\"name\":\"Range1d\",\"id\":\"p1080\"},\"x_scale\":{\"type\":\"object\",\"name\":\"LinearScale\",\"id\":\"p1085\"},\"y_scale\":{\"type\":\"object\",\"name\":\"LinearScale\",\"id\":\"p1086\"},\"title\":{\"type\":\"object\",\"name\":\"Title\",\"id\":\"p1083\",\"attributes\":{\"text\":\"rssi; mPci: 164; num data points: 31\",\"text_color\":\"#E0E0E0\",\"text_font\":\"Helvetica\",\"text_font_size\":\"1.15em\"}},\"outline_line_color\":\"#E0E0E0\",\"outline_line_alpha\":0.25,\"renderers\":[{\"type\":\"object\",\"name\":\"GlyphRenderer\",\"id\":\"p1114\",\"attributes\":{\"data_source\":{\"type\":\"object\",\"name\":\"ColumnDataSource\",\"id\":\"p1104\",\"attributes\":{\"selected\":{\"type\":\"object\",\"name\":\"Selection\",\"id\":\"p1106\",\"attributes\":{\"indices\":[],\"line_indices\":[]}},\"selection_policy\":{\"type\":\"object\",\"name\":\"UnionRenderers\",\"id\":\"p1105\"},\"data\":{\"type\":\"map\",\"entries\":[[\"index\",{\"type\":\"ndarray\",\"array\":{\"type\":\"bytes\",\"data\":\"AAAAAAEAAAACAAAAAwAAAAQAAAAFAAAABgAAAAcAAAAIAAAACQAAAAoAAAALAAAADAAAAA0AAAAOAAAADwAAABAAAAARAAAAEgAAABMAAAAUAAAAFQAAABYAAAAXAAAAGAAAABkAAAAaAAAAGwAAABwAAAAdAAAAHgAAAA==\"},\"shape\":[31],\"dtype\":\"int32\",\"order\":\"little\"}],[\"longitude\",{\"type\":\"ndarray\",\"array\":{\"type\":\"bytes\",\"data\":\"58hG9967U8Aar3Hk3rtTwIug9+feu1PAr6vRxN67U8DtS5HX3rtTwB0kwMDeu1PAi6D35967U8CU8GvB3rtTwIug9+feu1PA7UuR1967U8Aar3Hk3rtTwK+r0cTeu1PA7UuR1967U8CU8GvB3rtTwNVKlebeu1PAtd7S3t67U8DtS5HX3rtTwIug9+feu1PAi6D35967U8Cvq9HE3rtTwJTwa8Heu1PAHSTAwN67U8DVSpXm3rtTwLXe0t7eu1PAi6D35967U8Cvq9HE3rtTwB0kwMDeu1PAlPBrwd67U8CLoPfn3rtTwLXe0t7eu1PA1UqV5t67U8A=\"},\"shape\":[31],\"dtype\":\"float64\",\"order\":\"little\"}],[\"latitude\",{\"type\":\"ndarray\",\"array\":{\"type\":\"bytes\",\"data\":\"OO1SuFgAQkDhT0MKVABCQJ9KWchUAEJAx21NHVgAQkCwIkDZVgBCQLnbWP1PAEJAn0pZyFQAQkCY2Yx4VwBCQJ9KWchUAEJAsCJA2VYAQkDhT0MKVABCQMdtTR1YAEJAsCJA2VYAQkCY2Yx4VwBCQI0K3ohVAEJAmPoWKVYAQkCwIkDZVgBCQJ9KWchUAEJAn0pZyFQAQkDHbU0dWABCQJjZjHhXAEJAudtY/U8AQkCNCt6IVQBCQJj6FilWAEJAn0pZyFQAQkDHbU0dWABCQLnbWP1PAEJAmNmMeFcAQkCfSlnIVABCQJj6FilWAEJAjQreiFUAQkA=\"},\"shape\":[31],\"dtype\":\"float64\",\"order\":\"little\"}],[\"rssi\",{\"type\":\"ndarray\",\"array\":{\"type\":\"bytes\",\"data\":\"mf///5n///+Z////mf///5n///+b////mf///5n///+Z////mf///5n///+Z////mf///5n///+Z////mf///5n///+Z////mf///5n///+Z////m////5n///+Z////mf///5n///+b////mf///5n///+Z////mf///w==\"},\"shape\":[31],\"dtype\":\"int32\",\"order\":\"little\"}],[\"azimuth\",{\"type\":\"ndarray\",\"array\":{\"type\":\"bytes\",\"data\":\"HtG2maexYUADbN88835jQJXQsUU4TWNATMKzWWcqZcA5m2TeWpdlwKmFjIZ12mJAldCxRThNY0DVG1wBbWtlwJXQsUU4TWNAOZtk3lqXZcADbN88835jQEzCs1lnKmXAOZtk3lqXZcDVG1wBbWtlwGq6b0GgsWNAwJUgYx0hZEA5m2TeWpdlwJXQsUU4TWNAldCxRThNY0BMwrNZZyplwNUbXAFta2XAqYWMhnXaYkBqum9BoLFjQMCVIGMdIWRAldCxRThNY0BMwrNZZyplwKmFjIZ12mJA1RtcAW1rZcCV0LFFOE1jQMCVIGMdIWRAarpvQaCxY0A=\"},\"shape\":[31],\"dtype\":\"float64\",\"order\":\"little\"}],[\"mPci\",{\"type\":\"ndarray\",\"array\":{\"type\":\"bytes\",\"data\":\"pAAAAKQAAACkAAAApAAAAKQAAACkAAAApAAAAKQAAACkAAAApAAAAKQAAACkAAAApAAAAKQAAACkAAAApAAAAKQAAACkAAAApAAAAKQAAACkAAAApAAAAKQAAACkAAAApAAAAKQAAACkAAAApAAAAKQAAACkAAAApAAAAA==\"},\"shape\":[31],\"dtype\":\"int32\",\"order\":\"little\"}],[\"azimuth_start\",{\"type\":\"ndarray\",\"array\":{\"type\":\"bytes\",\"data\":\"eETbZp5GTMAG2L555r1RwCqhY4twWlHAaHuYTDFrWsCOyTZDSpFZwFILGQ3rdFDAKqFji3BaUcBWyEf9JelZwCqhY4twWlHAjsk2Q0qRWcAG2L555r1RwGh7mEwxa1rAjsk2Q0qRWcBWyEf9JelZwNR034JAI1LAgCtBxjoCU8COyTZDSpFZwCqhY4twWlHAKqFji3BaUcBoe5hMMWtawFbIR/0l6VnAUgsZDet0UMDUdN+CQCNSwIArQcY6AlPAKqFji3BaUcBoe5hMMWtawFILGQ3rdFDAVshH/SXpWcAqoWOLcFpRwIArQcY6AlPA1HTfgkAjUsA=\"},\"shape\":[31],\"dtype\":\"float64\",\"order\":\"little\"}],[\"azimuth_end\",{\"type\":\"ndarray\",\"array\":{\"type\":\"bytes\",\"data\":\"eETbZp5GR8AMsH3zzHtOwFRCxxbhtE3AaHuYTDHrV8COyTZDShFXwKQWMhrW6UvAVELHFuG0TcBWyEf9JWlXwFRCxxbhtE3Ajsk2Q0oRV8AMsH3zzHtOwGh7mEwx61fAjsk2Q0oRV8BWyEf9JWlXwKjpvgWBRk/AgCtBxjqCUMCOyTZDShFXwFRCxxbhtE3AVELHFuG0TcBoe5hMMetXwFbIR/0laVfApBYyGtbpS8Co6b4FgUZPwIArQcY6glDAVELHFuG0TcBoe5hMMetXwKQWMhrW6UvAVshH/SVpV8BUQscW4bRNwIArQcY6glDAqOm+BYFGT8A=\"},\"shape\":[31],\"dtype\":\"float64\",\"order\":\"little\"}]]}}},\"view\":{\"type\":\"object\",\"name\":\"CDSView\",\"id\":\"p1115\",\"attributes\":{\"filter\":{\"type\":\"object\",\"name\":\"AllIndices\",\"id\":\"p1116\"}}},\"glyph\":{\"type\":\"object\",\"name\":\"AnnularWedge\",\"id\":\"p1111\",\"attributes\":{\"x\":{\"type\":\"field\",\"field\":\"longitude\"},\"y\":{\"type\":\"field\",\"field\":\"latitude\"},\"inner_radius\":{\"type\":\"value\",\"value\":0},\"outer_radius\":{\"type\":\"value\",\"value\":20},\"start_angle\":{\"type\":\"field\",\"field\":\"azimuth_start\",\"units\":\"deg\"},\"end_angle\":{\"type\":\"field\",\"field\":\"azimuth_end\",\"units\":\"deg\"},\"line_color\":{\"type\":\"field\",\"field\":\"rssi\",\"transform\":{\"type\":\"object\",\"name\":\"LinearColorMapper\",\"id\":\"p1107\",\"attributes\":{\"palette\":[\"#000003\",\"#07051D\",\"#170B3B\",\"#2E0A5A\",\"#450A69\",\"#5B116E\",\"#70196E\",\"#85206A\",\"#9B2864\",\"#AF315B\",\"#C43C4E\",\"#D54940\",\"#E55B30\",\"#F06F1F\",\"#F7850E\",\"#FB9E07\",\"#FBB71C\",\"#F6D33F\",\"#F1EB6C\",\"#FCFEA4\"]}}},\"line_alpha\":{\"type\":\"value\",\"value\":0.8},\"fill_color\":{\"type\":\"field\",\"field\":\"rssi\",\"transform\":{\"id\":\"p1107\"}},\"fill_alpha\":{\"type\":\"value\",\"value\":0.8},\"hatch_color\":{\"type\":\"field\",\"field\":\"rssi\",\"transform\":{\"id\":\"p1107\"}},\"hatch_alpha\":{\"type\":\"value\",\"value\":0.8}}},\"nonselection_glyph\":{\"type\":\"object\",\"name\":\"AnnularWedge\",\"id\":\"p1112\",\"attributes\":{\"x\":{\"type\":\"field\",\"field\":\"longitude\"},\"y\":{\"type\":\"field\",\"field\":\"latitude\"},\"inner_radius\":{\"type\":\"value\",\"value\":0},\"outer_radius\":{\"type\":\"value\",\"value\":20},\"start_angle\":{\"type\":\"field\",\"field\":\"azimuth_start\",\"units\":\"deg\"},\"end_angle\":{\"type\":\"field\",\"field\":\"azimuth_end\",\"units\":\"deg\"},\"line_color\":{\"type\":\"field\",\"field\":\"rssi\",\"transform\":{\"id\":\"p1107\"}},\"line_alpha\":{\"type\":\"value\",\"value\":0.1},\"fill_color\":{\"type\":\"field\",\"field\":\"rssi\",\"transform\":{\"id\":\"p1107\"}},\"fill_alpha\":{\"type\":\"value\",\"value\":0.1},\"hatch_color\":{\"type\":\"field\",\"field\":\"rssi\",\"transform\":{\"id\":\"p1107\"}},\"hatch_alpha\":{\"type\":\"value\",\"value\":0.1}}},\"muted_glyph\":{\"type\":\"object\",\"name\":\"AnnularWedge\",\"id\":\"p1113\",\"attributes\":{\"x\":{\"type\":\"field\",\"field\":\"longitude\"},\"y\":{\"type\":\"field\",\"field\":\"latitude\"},\"inner_radius\":{\"type\":\"value\",\"value\":0},\"outer_radius\":{\"type\":\"value\",\"value\":20},\"start_angle\":{\"type\":\"field\",\"field\":\"azimuth_start\",\"units\":\"deg\"},\"end_angle\":{\"type\":\"field\",\"field\":\"azimuth_end\",\"units\":\"deg\"},\"line_color\":{\"type\":\"field\",\"field\":\"rssi\",\"transform\":{\"id\":\"p1107\"}},\"line_alpha\":{\"type\":\"value\",\"value\":0.2},\"fill_color\":{\"type\":\"field\",\"field\":\"rssi\",\"transform\":{\"id\":\"p1107\"}},\"fill_alpha\":{\"type\":\"value\",\"value\":0.2},\"hatch_color\":{\"type\":\"field\",\"field\":\"rssi\",\"transform\":{\"id\":\"p1107\"}},\"hatch_alpha\":{\"type\":\"value\",\"value\":0.2}}}}}],\"toolbar\":{\"type\":\"object\",\"name\":\"Toolbar\",\"id\":\"p1087\",\"attributes\":{\"tools\":[{\"type\":\"object\",\"name\":\"HoverTool\",\"id\":\"p1077\",\"attributes\":{\"renderers\":\"auto\",\"tooltips\":[[\"rssi\",\"@rssi{0.0}\"],[\"azimuth\",\"@azimuth{0.0}\"]]}},{\"type\":\"object\",\"name\":\"PanTool\",\"id\":\"p1100\"},{\"type\":\"object\",\"name\":\"WheelZoomTool\",\"id\":\"p1119\"}]}},\"left\":[{\"type\":\"object\",\"name\":\"LinearAxis\",\"id\":\"p1096\",\"attributes\":{\"ticker\":{\"type\":\"object\",\"name\":\"MercatorTicker\",\"id\":\"p1095\",\"attributes\":{\"mantissas\":[1,2,5],\"dimension\":\"lat\"}},\"formatter\":{\"type\":\"object\",\"name\":\"MercatorTickFormatter\",\"id\":\"p1094\",\"attributes\":{\"dimension\":\"lat\"}},\"axis_label\":\"\",\"axis_label_standoff\":10,\"axis_label_text_color\":\"#E0E0E0\",\"axis_label_text_font\":\"Helvetica\",\"axis_label_text_font_size\":\"1.25em\",\"axis_label_text_font_style\":\"normal\",\"major_label_policy\":{\"type\":\"object\",\"name\":\"AllLabels\",\"id\":\"p1099\"},\"major_label_text_color\":\"#E0E0E0\",\"major_label_text_font\":\"Helvetica\",\"major_label_text_font_size\":\"1.025em\",\"axis_line_color\":\"#E0E0E0\",\"axis_line_alpha\":0,\"major_tick_line_color\":\"#E0E0E0\",\"major_tick_line_alpha\":0,\"minor_tick_line_color\":\"#E0E0E0\",\"minor_tick_line_alpha\":0}}],\"right\":[{\"type\":\"object\",\"name\":\"ColorBar\",\"id\":\"p1117\",\"attributes\":{\"location\":[0,0],\"title_text_color\":\"#E0E0E0\",\"title_text_font\":\"Helvetica\",\"title_text_font_size\":\"1.025em\",\"title_text_font_style\":\"normal\",\"major_label_policy\":{\"type\":\"object\",\"name\":\"NoOverlap\",\"id\":\"p1118\"},\"major_label_text_color\":\"#E0E0E0\",\"major_label_text_font\":\"Helvetica\",\"major_label_text_font_size\":\"1.025em\",\"major_tick_line_alpha\":0,\"bar_line_alpha\":0,\"background_fill_color\":\"#15191C\",\"color_mapper\":{\"id\":\"p1107\"}}}],\"below\":[{\"type\":\"object\",\"name\":\"LinearAxis\",\"id\":\"p1090\",\"attributes\":{\"ticker\":{\"type\":\"object\",\"name\":\"MercatorTicker\",\"id\":\"p1089\",\"attributes\":{\"mantissas\":[1,2,5],\"dimension\":\"lon\"}},\"formatter\":{\"type\":\"object\",\"name\":\"MercatorTickFormatter\",\"id\":\"p1088\",\"attributes\":{\"dimension\":\"lon\"}},\"axis_label\":\"\",\"axis_label_standoff\":10,\"axis_label_text_color\":\"#E0E0E0\",\"axis_label_text_font\":\"Helvetica\",\"axis_label_text_font_size\":\"1.25em\",\"axis_label_text_font_style\":\"normal\",\"major_label_policy\":{\"type\":\"object\",\"name\":\"AllLabels\",\"id\":\"p1093\"},\"major_label_text_color\":\"#E0E0E0\",\"major_label_text_font\":\"Helvetica\",\"major_label_text_font_size\":\"1.025em\",\"axis_line_color\":\"#E0E0E0\",\"axis_line_alpha\":0,\"major_tick_line_color\":\"#E0E0E0\",\"major_tick_line_alpha\":0,\"minor_tick_line_color\":\"#E0E0E0\",\"minor_tick_line_alpha\":0}}],\"background_fill_color\":\"#20262B\",\"border_fill_color\":\"#15191C\",\"map_options\":{\"type\":\"object\",\"name\":\"GMapOptions\",\"id\":\"p1076\",\"attributes\":{\"lat\":36.00261375064516,\"lng\":-78.93547625419356,\"zoom\":17,\"map_type\":\"satellite\"}},\"api_key\":{\"type\":\"bytes\",\"data\":\"QUl6YVN5Q3dQZ29ZZFdacjdFTE55VGdXY3pwelhlN1ZtTV9Tb0xv\"}}}],\"callbacks\":{\"type\":\"map\"}}};\n  const render_items = [{\"docid\":\"b0e36393-41ce-4ba5-8e47-b00fbca8d291\",\"roots\":{\"p1078\":\"de5e710e-b41f-47b5-8ed4-5b9c392fd8e3\"},\"root_ids\":[\"p1078\"]}];\n  root.Bokeh.embed.embed_items_notebook(docs_json, render_items);\n  }\n  if (root.Bokeh !== undefined) {\n    embed_document(root);\n  } else {\n    let attempts = 0;\n    const timer = setInterval(function(root) {\n      if (root.Bokeh !== undefined) {\n        clearInterval(timer);\n        embed_document(root);\n      } else {\n        attempts++;\n        if (attempts > 100) {\n          clearInterval(timer);\n          console.log(\"Bokeh: ERROR: Unable to run BokehJS code because BokehJS library is missing\");\n        }\n      }\n    }, 10, root)\n  }\n})(window);",
      "application/vnd.bokehjs_exec.v0+json": ""
     },
     "metadata": {
      "application/vnd.bokehjs_exec.v0+json": {
       "id": "p1078"
      }
     },
     "output_type": "display_data"
    }
   ],
   "source": [
    "def plot_gmap_Duke_ss_arrow_head(mPci, inner_field='rssi', df_source=df_SigCapDetails,\n",
    "                                 mid_lat=mid_lat, mid_long=mid_long,\n",
    "                      zoom=17, circle_size=4, ang_sep=10):\n",
    "    # df_source = pd.DataFrame(list(zip(*[df_source[kkey] for kkey in list(df_source)])),\n",
    "    #                          columns=list(df_source))\n",
    "    df_source = pd.DataFrame(list(zip(#df_source['uid'],\n",
    "        list(compress(df_source['longitude'], df_source['mPci'] == mPci)),\n",
    "        list(compress(df_source['latitude'], df_source['mPci'] == mPci)),\n",
    "        list(compress(df_source['rssi'], df_source['mPci'] == mPci)),\n",
    "        list(compress(df_source['azimuth'], df_source['mPci'] == mPci)),\n",
    "        list(compress(df_source['mPci'], df_source['mPci'] == mPci)),\n",
    "        np.zeros(len(list(compress(df_source['azimuth'], df_source['mPci'] == mPci)))),\n",
    "        np.zeros(len(list(compress(df_source['azimuth'], df_source['mPci'] == mPci))))\n",
    "                                      #np.pi/2 - (np.radians(df_source['azimuth']) + ang_sep/2),\n",
    "                                      #np.pi/2 - (np.radians(df_source['azimuth']) - ang_sep/2)\n",
    "                                      )\n",
    "                                  ),\n",
    "                             columns=[#'uid',\n",
    "                                      'longitude', 'latitude', 'rssi', 'azimuth', 'mPci', 'azimuth_start',\n",
    "                                      'azimuth_end'])\n",
    "    # print(df_source.head())\n",
    "    # converting from\n",
    "    for idx, angle in enumerate(df_source['azimuth']):\n",
    "        if -90 < df_source['azimuth'][idx] < 180:\n",
    "            df_source['azimuth_end'][idx] = 90 - ((df_source['azimuth'][idx]) - ang_sep/2)\n",
    "            df_source['azimuth_start'][idx] = 90 - ((df_source['azimuth'][idx]) + ang_sep/2)\n",
    "        if -180 < df_source['azimuth'][idx] < -90:\n",
    "            df_source['azimuth_end'][idx] = -270 - ((df_source['azimuth'][idx]) - ang_sep/2)\n",
    "            df_source['azimuth_start'][idx] = -270 - ((df_source['azimuth'][idx]) + ang_sep/2)\n",
    "\n",
    "    # print(df_source.head())\n",
    "    inner_gmap_options = GMapOptions(\n",
    "    lat=np.mean(df_source['latitude']),\n",
    "    lng=np.mean(df_source['longitude']),\n",
    "    map_type='satellite',\n",
    "    zoom=zoom\n",
    "    )\n",
    "    inner_hover = HoverTool(\n",
    "        tooltips=[\n",
    "            (inner_field, '@' + inner_field + '{0.0}'),\n",
    "            #('uid', '@' + 'uid' + '{0.0}')\n",
    "            ('azimuth', '@azimuth{0.0}')\n",
    "        ]\n",
    "    )\n",
    "\n",
    "    inner_p = gmap(\n",
    "        API_KEY,\n",
    "        inner_gmap_options,\n",
    "        title=inner_field + '; mPci: ' + str(mPci) + '; num data points: ' + str(len(df_source['azimuth'])),\n",
    "        width=800,\n",
    "        height=600,\n",
    "        tools=[inner_hover, 'pan']\n",
    "    )\n",
    "\n",
    "    inner_source = ColumnDataSource(df_source)\n",
    "\n",
    "    inner_color_mapper = LinearColorMapper(palette=palettes.inferno(20))\n",
    "\n",
    "    inner_p.annular_wedge(x='longitude', y='latitude', inner_radius=0, outer_radius=20,\n",
    "                          start_angle='azimuth_start', end_angle='azimuth_end', source=inner_source,\n",
    "                          color={'field': inner_field, 'transform': inner_color_mapper}, alpha=0.8,\n",
    "                          start_angle_units='deg', end_angle_units='deg')\n",
    "    inner_color_bar = ColorBar(color_mapper=inner_color_mapper, location=(0, 0))\n",
    "    inner_p.add_layout(inner_color_bar, 'right')\n",
    "    inner_p.add_tools(WheelZoomTool())\n",
    "    return inner_p\n",
    "\n",
    "# print(df_SigCapDetails['longitude'])\n",
    "# export_png(obj=plot_gmap_Duke_ss_arrow_head(mPci=20), filename='20.png')\n",
    "show(plot_gmap_Duke_ss_arrow_head(mPci=mPci_keys[9]))"
   ]
  },
  {
   "cell_type": "code",
   "execution_count": null,
   "metadata": {
    "ExecuteTime": {
     "end_time": "2023-06-07T19:33:00.503951Z",
     "start_time": "2023-06-07T19:33:00.482177Z"
    }
   },
   "outputs": [],
   "source": []
  },
  {
   "cell_type": "code",
   "execution_count": null,
   "metadata": {
    "ExecuteTime": {
     "end_time": "2023-06-07T19:33:00.504124Z",
     "start_time": "2023-06-07T19:33:00.485753Z"
    }
   },
   "outputs": [],
   "source": []
  }
 ],
 "metadata": {
  "kernelspec": {
   "display_name": "Python 3 (ipykernel)",
   "language": "python",
   "name": "python3"
  },
  "language_info": {
   "codemirror_mode": {
    "name": "ipython",
    "version": 3
   },
   "file_extension": ".py",
   "mimetype": "text/x-python",
   "name": "python",
   "nbconvert_exporter": "python",
   "pygments_lexer": "ipython3",
   "version": "3.10.11"
  }
 },
 "nbformat": 4,
 "nbformat_minor": 1
}
