{
 "cells": [
  {
   "cell_type": "code",
   "execution_count": 1,
   "metadata": {
    "collapsed": true,
    "ExecuteTime": {
     "end_time": "2023-06-24T02:01:55.350625Z",
     "start_time": "2023-06-24T02:01:53.311511Z"
    }
   },
   "outputs": [],
   "source": [
    "# http://tc319-srv1.egr.duke.edu:23412/api/map?bbox=-100.702392578125,25.30952262878418,-100.69202423095703,25.318172454833984\n",
    "# this: -100.702389,25.318173,-100.692025,25.309523\n",
    "# is:    minLonOut, maxLatOut, maxLonOut, minLatOut\n",
    "# so, the server request follows minLon, minLat, maxLon, maxLat\n",
    "import requests\n",
    "url = 'http://tc319-srv1.egr.duke.edu:23412/api/map?bbox=-100.702392578125,25.30952262878418,-100.69202423095703,25.318172454833984'\n",
    "response = requests.get(url)"
   ]
  },
  {
   "cell_type": "code",
   "execution_count": 3,
   "outputs": [
    {
     "name": "stdout",
     "output_type": "stream",
     "text": [
      "['__attrs__', '__bool__', '__class__', '__delattr__', '__dict__', '__dir__', '__doc__', '__enter__', '__eq__', '__exit__', '__format__', '__ge__', '__getattribute__', '__getstate__', '__gt__', '__hash__', '__init__', '__init_subclass__', '__iter__', '__le__', '__lt__', '__module__', '__ne__', '__new__', '__nonzero__', '__reduce__', '__reduce_ex__', '__repr__', '__setattr__', '__setstate__', '__sizeof__', '__str__', '__subclasshook__', '__weakref__', '_content', '_content_consumed', '_next', 'apparent_encoding', 'close', 'connection', 'content', 'cookies', 'elapsed', 'encoding', 'headers', 'history', 'is_permanent_redirect', 'is_redirect', 'iter_content', 'iter_lines', 'json', 'links', 'next', 'ok', 'raise_for_status', 'raw', 'reason', 'request', 'status_code', 'text', 'url']\n"
     ]
    }
   ],
   "source": [
    "print(dir(response))"
   ],
   "metadata": {
    "collapsed": false,
    "ExecuteTime": {
     "end_time": "2023-06-24T02:02:06.636609Z",
     "start_time": "2023-06-24T02:02:06.631259Z"
    }
   }
  },
  {
   "cell_type": "code",
   "execution_count": 14,
   "outputs": [],
   "source": [
    "# print(response.content)\n",
    "f_ptr = open('test_dir/test_xml.xml', 'w')\n",
    "f_ptr.writelines(response.text)\n",
    "f_ptr.close()\n",
    "# print(str(response.content))"
   ],
   "metadata": {
    "collapsed": false,
    "ExecuteTime": {
     "end_time": "2023-06-24T02:08:10.061594Z",
     "start_time": "2023-06-24T02:08:10.032236Z"
    }
   }
  },
  {
   "cell_type": "code",
   "execution_count": null,
   "outputs": [],
   "source": [],
   "metadata": {
    "collapsed": false
   }
  }
 ],
 "metadata": {
  "kernelspec": {
   "display_name": "Python 3",
   "language": "python",
   "name": "python3"
  },
  "language_info": {
   "codemirror_mode": {
    "name": "ipython",
    "version": 2
   },
   "file_extension": ".py",
   "mimetype": "text/x-python",
   "name": "python",
   "nbconvert_exporter": "python",
   "pygments_lexer": "ipython2",
   "version": "2.7.6"
  }
 },
 "nbformat": 4,
 "nbformat_minor": 0
}
