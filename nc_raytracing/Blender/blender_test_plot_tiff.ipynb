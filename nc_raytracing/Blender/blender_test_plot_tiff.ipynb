{
 "cells": [
  {
   "cell_type": "code",
   "execution_count": 7,
   "metadata": {
    "collapsed": true,
    "ExecuteTime": {
     "end_time": "2023-06-17T01:00:53.468036Z",
     "start_time": "2023-06-17T01:00:53.462269Z"
    }
   },
   "outputs": [],
   "source": [
    "from PIL import Image\n",
    "import numpy as np\n",
    "\n",
    "img0 = Image.open('test_dir/test2106.tiff')"
   ]
  },
  {
   "cell_type": "code",
   "execution_count": 8,
   "outputs": [
    {
     "name": "stdout",
     "output_type": "stream",
     "text": [
      "[1996. 1996. 1996. ... 1997. 1997. 1997.]\n"
     ]
    }
   ],
   "source": [
    "print(np.array(img0)[0, :])"
   ],
   "metadata": {
    "collapsed": false,
    "ExecuteTime": {
     "end_time": "2023-06-17T01:00:54.510886Z",
     "start_time": "2023-06-17T01:00:54.493401Z"
    }
   }
  },
  {
   "cell_type": "code",
   "execution_count": 4,
   "outputs": [
    {
     "data": {
      "text/plain": "array([[0, 1, 2],\n       [3, 4, 5],\n       [6, 7, 8]])"
     },
     "execution_count": 4,
     "metadata": {},
     "output_type": "execute_result"
    }
   ],
   "source": [
    "test_a = np.reshape(np.arange(9), (3, 3))\n",
    "test_a"
   ],
   "metadata": {
    "collapsed": false,
    "ExecuteTime": {
     "end_time": "2023-06-16T21:17:52.601378Z",
     "start_time": "2023-06-16T21:17:52.589036Z"
    }
   }
  },
  {
   "cell_type": "code",
   "execution_count": 5,
   "outputs": [
    {
     "data": {
      "text/plain": "array([0, 1, 2, 3, 4, 5, 6, 7])"
     },
     "execution_count": 5,
     "metadata": {},
     "output_type": "execute_result"
    }
   ],
   "source": [],
   "metadata": {
    "collapsed": false,
    "ExecuteTime": {
     "end_time": "2023-06-16T21:18:17.739922Z",
     "start_time": "2023-06-16T21:18:17.735224Z"
    }
   }
  },
  {
   "cell_type": "code",
   "execution_count": 6,
   "outputs": [
    {
     "ename": "IndexError",
     "evalue": "index 3 is out of bounds for axis 0 with size 3",
     "output_type": "error",
     "traceback": [
      "\u001B[0;31m---------------------------------------------------------------------------\u001B[0m",
      "\u001B[0;31mIndexError\u001B[0m                                Traceback (most recent call last)",
      "Cell \u001B[0;32mIn[6], line 1\u001B[0m\n\u001B[0;32m----> 1\u001B[0m \u001B[43mtest_a\u001B[49m\u001B[43m[\u001B[49m\u001B[43ms\u001B[49m\u001B[43m]\u001B[49m\n",
      "\u001B[0;31mIndexError\u001B[0m: index 3 is out of bounds for axis 0 with size 3"
     ]
    }
   ],
   "source": [],
   "metadata": {
    "collapsed": false,
    "ExecuteTime": {
     "end_time": "2023-06-16T21:18:24.444939Z",
     "start_time": "2023-06-16T21:18:24.424906Z"
    }
   }
  },
  {
   "cell_type": "code",
   "execution_count": 9,
   "outputs": [
    {
     "ename": "ValueError",
     "evalue": "The length of the input vector x must be greater than padlen, which is 27.",
     "output_type": "error",
     "traceback": [
      "\u001B[0;31m---------------------------------------------------------------------------\u001B[0m",
      "\u001B[0;31mValueError\u001B[0m                                Traceback (most recent call last)",
      "Cell \u001B[0;32mIn[9], line 3\u001B[0m\n\u001B[1;32m      1\u001B[0m \u001B[38;5;28;01mfrom\u001B[39;00m \u001B[38;5;21;01mscipy\u001B[39;00m \u001B[38;5;28;01mimport\u001B[39;00m signal\n\u001B[1;32m      2\u001B[0m square \u001B[38;5;241m=\u001B[39m np\u001B[38;5;241m.\u001B[39marange(\u001B[38;5;241m100\u001B[39m)\u001B[38;5;241m.\u001B[39mreshape((\u001B[38;5;241m10\u001B[39m, \u001B[38;5;241m10\u001B[39m))\n\u001B[0;32m----> 3\u001B[0m \u001B[43msignal\u001B[49m\u001B[38;5;241;43m.\u001B[39;49m\u001B[43mdecimate\u001B[49m\u001B[43m(\u001B[49m\u001B[43msquare\u001B[49m\u001B[43m,\u001B[49m\u001B[43m \u001B[49m\u001B[38;5;241;43m10\u001B[39;49m\u001B[43m)\u001B[49m\n",
      "File \u001B[0;32m~/anaconda3/envs/3DPathLoss/lib/python3.10/site-packages/scipy/signal/_signaltools.py:4560\u001B[0m, in \u001B[0;36mdecimate\u001B[0;34m(x, q, n, ftype, axis, zero_phase)\u001B[0m\n\u001B[1;32m   4558\u001B[0m \u001B[38;5;28;01melse\u001B[39;00m:  \u001B[38;5;66;03m# IIR case\u001B[39;00m\n\u001B[1;32m   4559\u001B[0m     \u001B[38;5;28;01mif\u001B[39;00m zero_phase:\n\u001B[0;32m-> 4560\u001B[0m         y \u001B[38;5;241m=\u001B[39m \u001B[43msosfiltfilt\u001B[49m\u001B[43m(\u001B[49m\u001B[43msos\u001B[49m\u001B[43m,\u001B[49m\u001B[43m \u001B[49m\u001B[43mx\u001B[49m\u001B[43m,\u001B[49m\u001B[43m \u001B[49m\u001B[43maxis\u001B[49m\u001B[38;5;241;43m=\u001B[39;49m\u001B[43maxis\u001B[49m\u001B[43m)\u001B[49m\n\u001B[1;32m   4561\u001B[0m     \u001B[38;5;28;01melse\u001B[39;00m:\n\u001B[1;32m   4562\u001B[0m         y \u001B[38;5;241m=\u001B[39m sosfilt(sos, x, axis\u001B[38;5;241m=\u001B[39maxis)\n",
      "File \u001B[0;32m~/anaconda3/envs/3DPathLoss/lib/python3.10/site-packages/scipy/signal/_signaltools.py:4411\u001B[0m, in \u001B[0;36msosfiltfilt\u001B[0;34m(sos, x, axis, padtype, padlen)\u001B[0m\n\u001B[1;32m   4409\u001B[0m ntaps \u001B[38;5;241m=\u001B[39m \u001B[38;5;241m2\u001B[39m \u001B[38;5;241m*\u001B[39m n_sections \u001B[38;5;241m+\u001B[39m \u001B[38;5;241m1\u001B[39m\n\u001B[1;32m   4410\u001B[0m ntaps \u001B[38;5;241m-\u001B[39m\u001B[38;5;241m=\u001B[39m \u001B[38;5;28mmin\u001B[39m((sos[:, \u001B[38;5;241m2\u001B[39m] \u001B[38;5;241m==\u001B[39m \u001B[38;5;241m0\u001B[39m)\u001B[38;5;241m.\u001B[39msum(), (sos[:, \u001B[38;5;241m5\u001B[39m] \u001B[38;5;241m==\u001B[39m \u001B[38;5;241m0\u001B[39m)\u001B[38;5;241m.\u001B[39msum())\n\u001B[0;32m-> 4411\u001B[0m edge, ext \u001B[38;5;241m=\u001B[39m \u001B[43m_validate_pad\u001B[49m\u001B[43m(\u001B[49m\u001B[43mpadtype\u001B[49m\u001B[43m,\u001B[49m\u001B[43m \u001B[49m\u001B[43mpadlen\u001B[49m\u001B[43m,\u001B[49m\u001B[43m \u001B[49m\u001B[43mx\u001B[49m\u001B[43m,\u001B[49m\u001B[43m \u001B[49m\u001B[43maxis\u001B[49m\u001B[43m,\u001B[49m\n\u001B[1;32m   4412\u001B[0m \u001B[43m                          \u001B[49m\u001B[43mntaps\u001B[49m\u001B[38;5;241;43m=\u001B[39;49m\u001B[43mntaps\u001B[49m\u001B[43m)\u001B[49m\n\u001B[1;32m   4414\u001B[0m \u001B[38;5;66;03m# These steps follow the same form as filtfilt with modifications\u001B[39;00m\n\u001B[1;32m   4415\u001B[0m zi \u001B[38;5;241m=\u001B[39m sosfilt_zi(sos)  \u001B[38;5;66;03m# shape (n_sections, 2) --> (n_sections, ..., 2, ...)\u001B[39;00m\n",
      "File \u001B[0;32m~/anaconda3/envs/3DPathLoss/lib/python3.10/site-packages/scipy/signal/_signaltools.py:4180\u001B[0m, in \u001B[0;36m_validate_pad\u001B[0;34m(padtype, padlen, x, axis, ntaps)\u001B[0m\n\u001B[1;32m   4178\u001B[0m \u001B[38;5;66;03m# x's 'axis' dimension must be bigger than edge.\u001B[39;00m\n\u001B[1;32m   4179\u001B[0m \u001B[38;5;28;01mif\u001B[39;00m x\u001B[38;5;241m.\u001B[39mshape[axis] \u001B[38;5;241m<\u001B[39m\u001B[38;5;241m=\u001B[39m edge:\n\u001B[0;32m-> 4180\u001B[0m     \u001B[38;5;28;01mraise\u001B[39;00m \u001B[38;5;167;01mValueError\u001B[39;00m(\u001B[38;5;124m\"\u001B[39m\u001B[38;5;124mThe length of the input vector x must be greater \u001B[39m\u001B[38;5;124m\"\u001B[39m\n\u001B[1;32m   4181\u001B[0m                      \u001B[38;5;124m\"\u001B[39m\u001B[38;5;124mthan padlen, which is \u001B[39m\u001B[38;5;132;01m%d\u001B[39;00m\u001B[38;5;124m.\u001B[39m\u001B[38;5;124m\"\u001B[39m \u001B[38;5;241m%\u001B[39m edge)\n\u001B[1;32m   4183\u001B[0m \u001B[38;5;28;01mif\u001B[39;00m padtype \u001B[38;5;129;01mis\u001B[39;00m \u001B[38;5;129;01mnot\u001B[39;00m \u001B[38;5;28;01mNone\u001B[39;00m \u001B[38;5;129;01mand\u001B[39;00m edge \u001B[38;5;241m>\u001B[39m \u001B[38;5;241m0\u001B[39m:\n\u001B[1;32m   4184\u001B[0m     \u001B[38;5;66;03m# Make an extension of length `edge` at each\u001B[39;00m\n\u001B[1;32m   4185\u001B[0m     \u001B[38;5;66;03m# end of the input array.\u001B[39;00m\n\u001B[1;32m   4186\u001B[0m     \u001B[38;5;28;01mif\u001B[39;00m padtype \u001B[38;5;241m==\u001B[39m \u001B[38;5;124m'\u001B[39m\u001B[38;5;124meven\u001B[39m\u001B[38;5;124m'\u001B[39m:\n",
      "\u001B[0;31mValueError\u001B[0m: The length of the input vector x must be greater than padlen, which is 27."
     ]
    }
   ],
   "source": [
    "from scipy import signal\n",
    "square = np.arange(100).reshape((10, 10))\n",
    "signal.decimate(square, 10)"
   ],
   "metadata": {
    "collapsed": false,
    "ExecuteTime": {
     "end_time": "2023-06-20T15:11:10.279124Z",
     "start_time": "2023-06-20T15:11:02.446700Z"
    }
   }
  },
  {
   "cell_type": "code",
   "execution_count": 22,
   "outputs": [
    {
     "name": "stderr",
     "output_type": "stream",
     "text": [
      "Traceback (most recent call last):\n",
      "  File \"/Users/zeyuli/blender-git/build_darwin/bin/Blender.app/Contents/Resources/3.3/scripts/modules/addon_utils.py\", line 333, in enable\n",
      "    mod = __import__(module_name)\n",
      "  File \"/Users/zeyuli/Library/Application Support/Blender/3.3/scripts/addons/__init___.py\", line 27, in <module>\n",
      "    import laspy\n",
      "ModuleNotFoundError: No module named 'laspy'\n"
     ]
    },
    {
     "name": "stdout",
     "output_type": "stream",
     "text": [
      "Blender 3.3.1 (hash b292cfe5a936 built 2023-06-21 19:21:14)\n",
      "Read prefs: /Users/zeyuli/Library/Application Support/Blender/3.3/config/userpref.blend\n",
      "Info: Deleted 2 data-block(s)\n",
      "Fra:1 Mem:50.80M (Peak 51.93M) | Time:00:01.32 | Syncing Terrain\n",
      "Fra:1 Mem:51.04M (Peak 51.93M) | Time:00:02.07 | Syncing Camera\n",
      "Fra:1 Mem:50.99M (Peak 51.93M) | Time:00:02.09 | Rendering 1 / 64 samples\n",
      "Fra:1 Mem:50.83M (Peak 51.93M) | Time:00:02.87 | Rendering 26 / 64 samples\n",
      "Fra:1 Mem:50.83M (Peak 51.93M) | Time:00:02.95 | Rendering 51 / 64 samples\n",
      "Fra:1 Mem:50.83M (Peak 51.93M) | Time:00:02.99 | Rendering 64 / 64 samples\n",
      "Fra:1 Mem:50.35M (Peak 90.38M) | Time:00:03.05 | Compositing\n",
      "Fra:1 Mem:50.35M (Peak 90.38M) | Time:00:03.05 | Compositing | Determining resolution\n",
      "Fra:1 Mem:50.35M (Peak 90.38M) | Time:00:03.05 | Compositing | Initializing execution\n",
      "Fra:1 Mem:89.98M (Peak 90.38M) | Time:00:03.06 | Compositing | Tile 1-40\n",
      "Fra:1 Mem:89.98M (Peak 90.38M) | Time:00:03.06 | Compositing | Tile 2-40\n",
      "Fra:1 Mem:89.98M (Peak 90.38M) | Time:00:03.06 | Compositing | Tile 3-40\n",
      "Fra:1 Mem:89.98M (Peak 90.38M) | Time:00:03.06 | Compositing | Tile 4-40\n",
      "Fra:1 Mem:89.98M (Peak 90.38M) | Time:00:03.06 | Compositing | Tile 8-40\n",
      "Fra:1 Mem:89.98M (Peak 90.38M) | Time:00:03.06 | Compositing | Tile 7-40\n",
      "Fra:1 Mem:89.98M (Peak 90.38M) | Time:00:03.06 | Compositing | Tile 6-40\n",
      "Fra:1 Mem:89.98M (Peak 90.38M) | Time:00:03.06 | Compositing | Tile 9-40\n",
      "Fra:1 Mem:89.98M (Peak 90.38M) | Time:00:03.06 | Compositing | Tile 10-40\n",
      "Fra:1 Mem:89.98M (Peak 90.38M) | Time:00:03.06 | Compositing | Tile 5-40\n",
      "Fra:1 Mem:89.98M (Peak 90.38M) | Time:00:03.06 | Compositing | Tile 12-40\n",
      "Fra:1 Mem:89.98M (Peak 90.38M) | Time:00:03.06 | Compositing | Tile 11-40\n",
      "Fra:1 Mem:89.98M (Peak 90.38M) | Time:00:03.06 | Compositing | Tile 13-40\n",
      "Fra:1 Mem:89.98M (Peak 90.38M) | Time:00:03.06 | Compositing | Tile 14-40\n",
      "Fra:1 Mem:89.98M (Peak 90.38M) | Time:00:03.06 | Compositing | Tile 15-40\n",
      "Fra:1 Mem:89.98M (Peak 90.38M) | Time:00:03.06 | Compositing | Tile 16-40\n",
      "Fra:1 Mem:89.98M (Peak 90.38M) | Time:00:03.06 | Compositing | Tile 17-40\n",
      "Fra:1 Mem:89.98M (Peak 90.38M) | Time:00:03.06 | Compositing | Tile 18-40\n",
      "Fra:1 Mem:89.98M (Peak 90.38M) | Time:00:03.06 | Compositing | Tile 19-40\n",
      "Fra:1 Mem:89.98M (Peak 90.38M) | Time:00:03.06 | Compositing | Tile 20-40\n",
      "Fra:1 Mem:89.98M (Peak 90.38M) | Time:00:03.06 | Compositing | Tile 21-40\n",
      "Fra:1 Mem:89.98M (Peak 90.38M) | Time:00:03.06 | Compositing | Tile 22-40\n",
      "Fra:1 Mem:89.98M (Peak 90.38M) | Time:00:03.06 | Compositing | Tile 23-40\n",
      "Fra:1 Mem:89.98M (Peak 90.38M) | Time:00:03.06 | Compositing | Tile 24-40\n",
      "Fra:1 Mem:89.98M (Peak 90.38M) | Time:00:03.06 | Compositing | Tile 25-40\n",
      "Fra:1 Mem:89.98M (Peak 90.38M) | Time:00:03.06 | Compositing | Tile 26-40\n",
      "Fra:1 Mem:89.98M (Peak 90.38M) | Time:00:03.06 | Compositing | Tile 27-40\n",
      "Fra:1 Mem:89.98M (Peak 90.38M) | Time:00:03.06 | Compositing | Tile 28-40\n",
      "Fra:1 Mem:89.98M (Peak 90.38M) | Time:00:03.06 | Compositing | Tile 29-40\n",
      "Fra:1 Mem:89.98M (Peak 90.38M) | Time:00:03.06 | Compositing | Tile 30-40\n",
      "Fra:1 Mem:89.98M (Peak 90.38M) | Time:00:03.06 | Compositing | Tile 31-40\n",
      "Fra:1 Mem:89.98M (Peak 90.38M) | Time:00:03.06 | Compositing | Tile 32-40\n",
      "Fra:1 Mem:89.98M (Peak 90.38M) | Time:00:03.06 | Compositing | Tile 33-40\n",
      "Fra:1 Mem:89.98M (Peak 90.38M) | Time:00:03.06 | Compositing | Tile 34-40\n",
      "Fra:1 Mem:89.98M (Peak 90.38M) | Time:00:03.06 | Compositing | Tile 35-40\n",
      "Fra:1 Mem:89.98M (Peak 90.38M) | Time:00:03.06 | Compositing | Tile 36-40\n",
      "Fra:1 Mem:89.98M (Peak 90.38M) | Time:00:03.06 | Compositing | Tile 37-40\n",
      "Fra:1 Mem:89.98M (Peak 90.38M) | Time:00:03.06 | Compositing | Tile 38-40\n",
      "Fra:1 Mem:89.98M (Peak 90.38M) | Time:00:03.06 | Compositing | Tile 39-40\n",
      "Fra:1 Mem:89.98M (Peak 90.38M) | Time:00:03.06 | Compositing | Tile 40-40\n",
      "Fra:1 Mem:89.92M (Peak 90.38M) | Time:00:03.06 | Compositing | De-initializing execution\n",
      "Info: Removed 0 vertice(s)\n",
      "\u001B[31m2023-06-21 15:59:29 WARN  main  [BlenderMesh] Mesh Bryan_Center_Parking_Garage-itu_brick has no texture coordinates!\n",
      "\u001B[0m\u001B[31m2023-06-21 15:59:29 WARN  main  [BlenderMesh] Mesh Bryan_Center_Parking_Garage-itu_plasterboard has no texture coordinates!\n",
      "\u001B[0m\u001B[31m2023-06-21 15:59:29 WARN  main  [BlenderMesh] Mesh Flowers_Building-itu_brick has no texture coordinates!\n",
      "\u001B[0m\u001B[31m2023-06-21 15:59:29 WARN  main  [BlenderMesh] Mesh Flowers_Building-itu_plasterboard has no texture coordinates!\n",
      "\u001B[0m\u001B[31m2023-06-21 15:59:29 WARN  main  [BlenderMesh] Mesh Card_Gymnasium-itu_brick has no texture coordinates!\n",
      "\u001B[0m\u001B[31m2023-06-21 15:59:29 WARN  main  [BlenderMesh] Mesh Card_Gymnasium-itu_plasterboard has no texture coordinates!\n",
      "\u001B[0m\u001B[31m2023-06-21 15:59:29 WARN  main  [BlenderMesh] Mesh Sheffield_Tennis_Center-itu_brick has no texture coordinates!\n",
      "\u001B[0m\u001B[31m2023-06-21 15:59:29 WARN  main  [BlenderMesh] Mesh Sheffield_Tennis_Center-itu_plasterboard has no texture coordinates!\n",
      "\u001B[0m\u001B[31m2023-06-21 15:59:29 WARN  main  [BlenderMesh] Mesh Intramural_Building-itu_brick has no texture coordinates!\n",
      "\u001B[0m\u001B[31m2023-06-21 15:59:29 WARN  main  [BlenderMesh] Mesh Intramural_Building-itu_plasterboard has no texture coordinates!\n",
      "\u001B[0m\u001B[31m2023-06-21 15:59:29 WARN  main  [BlenderMesh] Mesh Wilson_Recreation_Center-itu_brick has no texture coordinates!\n",
      "\u001B[0m\u001B[31m2023-06-21 15:59:29 WARN  main  [BlenderMesh] Mesh Wilson_Recreation_Center-itu_plasterboard has no texture coordinates!\n",
      "\u001B[0m\u001B[31m2023-06-21 15:59:29 WARN  main  [BlenderMesh] Mesh Edens_Quad_1C-itu_brick has no texture coordinates!\n",
      "\u001B[0m\u001B[31m2023-06-21 15:59:29 WARN  main  [BlenderMesh] Mesh Edens_Quad_1C-itu_plasterboard has no texture coordinates!\n",
      "\u001B[0m\u001B[31m2023-06-21 15:59:29 WARN  main  [BlenderMesh] Mesh Fitzpatrick_Center_for_Interdisciplinary_Engineering__Medicine_-itu_brick has no texture coordinates!\n",
      "\u001B[0m\u001B[31m2023-06-21 15:59:29 WARN  main  [BlenderMesh] Mesh Fitzpatrick_Center_for_Interdisciplinary_Engineering__Medicine_-itu_plasterboard has no texture coordinates!\n",
      "\u001B[0m\u001B[31m2023-06-21 15:59:29 WARN  main  [BlenderMesh] Mesh Rubenstein_Library-itu_brick has no texture coordinates!\n",
      "\u001B[0m\u001B[31m2023-06-21 15:59:29 WARN  main  [BlenderMesh] Mesh Rubenstein_Library-itu_plasterboard has no texture coordinates!\n",
      "\u001B[0m\u001B[31m2023-06-21 15:59:29 WARN  main  [BlenderMesh] Mesh Bostock_Library-itu_brick has no texture coordinates!\n",
      "\u001B[0m\u001B[31m2023-06-21 15:59:29 WARN  main  [BlenderMesh] Mesh Bostock_Library-itu_plasterboard has no texture coordinates!\n",
      "\u001B[0m\u001B[31m2023-06-21 15:59:29 WARN  main  [BlenderMesh] Mesh Gray_Building-itu_brick has no texture coordinates!\n",
      "\u001B[0m\u001B[31m2023-06-21 15:59:29 WARN  main  [BlenderMesh] Mesh Gray_Building-itu_plasterboard has no texture coordinates!\n",
      "\u001B[0m\u001B[31m2023-06-21 15:59:29 WARN  main  [BlenderMesh] Mesh Thomas_A__Langford_Building-itu_brick has no texture coordinates!\n",
      "\u001B[0m\u001B[31m2023-06-21 15:59:29 WARN  main  [BlenderMesh] Mesh Thomas_A__Langford_Building-itu_plasterboard has no texture coordinates!\n",
      "\u001B[0m\u001B[31m2023-06-21 15:59:29 WARN  main  [BlenderMesh] Mesh Westbrook_Building-itu_brick has no texture coordinates!\n",
      "\u001B[0m\u001B[31m2023-06-21 15:59:29 WARN  main  [BlenderMesh] Mesh Westbrook_Building-itu_plasterboard has no texture coordinates!\n",
      "\u001B[0m\u001B[31m2023-06-21 15:59:29 WARN  main  [BlenderMesh] Mesh Von_Der_Heyden_Pavilion-itu_brick has no texture coordinates!\n",
      "\u001B[0m\u001B[31m2023-06-21 15:59:29 WARN  main  [BlenderMesh] Mesh Von_Der_Heyden_Pavilion-itu_plasterboard has no texture coordinates!\n",
      "\u001B[0m\u001B[31m2023-06-21 15:59:29 WARN  main  [BlenderMesh] Mesh Languages_Building-itu_brick has no texture coordinates!\n",
      "\u001B[0m\u001B[31m2023-06-21 15:59:29 WARN  main  [BlenderMesh] Mesh Languages_Building-itu_plasterboard has no texture coordinates!\n",
      "\u001B[0m\u001B[31m2023-06-21 15:59:29 WARN  main  [BlenderMesh] Mesh Allen_Building-itu_brick has no texture coordinates!\n",
      "\u001B[0m\u001B[31m2023-06-21 15:59:29 WARN  main  [BlenderMesh] Mesh Allen_Building-itu_plasterboard has no texture coordinates!\n",
      "\u001B[0m\u001B[31m2023-06-21 15:59:29 WARN  main  [BlenderMesh] Mesh Social_Sciences_Building-itu_brick has no texture coordinates!\n",
      "\u001B[0m\u001B[31m2023-06-21 15:59:29 WARN  main  [BlenderMesh] Mesh Social_Sciences_Building-itu_plasterboard has no texture coordinates!\n",
      "\u001B[0m\u001B[31m2023-06-21 15:59:29 WARN  main  [BlenderMesh] Mesh Hospital_South-itu_brick has no texture coordinates!\n",
      "\u001B[0m\u001B[31m2023-06-21 15:59:29 WARN  main  [BlenderMesh] Mesh Hospital_South-itu_plasterboard has no texture coordinates!\n",
      "\u001B[0m\u001B[31m2023-06-21 15:59:29 WARN  main  [BlenderMesh] Mesh Rueben-Cooke-itu_brick has no texture coordinates!\n",
      "\u001B[0m\u001B[31m2023-06-21 15:59:29 WARN  main  [BlenderMesh] Mesh Rueben-Cooke-itu_plasterboard has no texture coordinates!\n",
      "\u001B[0m\u001B[31m2023-06-21 15:59:29 WARN  main  [BlenderMesh] Mesh Old_Chemistry_Building-itu_brick has no texture coordinates!\n",
      "\u001B[0m\u001B[31m2023-06-21 15:59:29 WARN  main  [BlenderMesh] Mesh Old_Chemistry_Building-itu_plasterboard has no texture coordinates!\n",
      "\u001B[0m\u001B[31m2023-06-21 15:59:29 WARN  main  [BlenderMesh] Mesh Oit_Telecommunications_Building-itu_brick has no texture coordinates!\n",
      "\u001B[0m\u001B[31m2023-06-21 15:59:29 WARN  main  [BlenderMesh] Mesh Oit_Telecommunications_Building-itu_plasterboard has no texture coordinates!\n",
      "\u001B[0m\u001B[31m2023-06-21 15:59:29 WARN  main  [BlenderMesh] Mesh Wannamaker_4-itu_brick has no texture coordinates!\n",
      "\u001B[0m\u001B[31m2023-06-21 15:59:29 WARN  main  [BlenderMesh] Mesh Wannamaker_4-itu_plasterboard has no texture coordinates!\n",
      "\u001B[0m\u001B[31m2023-06-21 15:59:29 WARN  main  [BlenderMesh] Mesh Keohane_4D-itu_brick has no texture coordinates!\n",
      "\u001B[0m\u001B[31m2023-06-21 15:59:29 WARN  main  [BlenderMesh] Mesh Keohane_4D-itu_plasterboard has no texture coordinates!\n",
      "\u001B[0m\u001B[31m2023-06-21 15:59:29 WARN  main  [BlenderMesh] Mesh Edens_Quad_1B-itu_brick has no texture coordinates!\n",
      "\u001B[0m\u001B[31m2023-06-21 15:59:29 WARN  main  [BlenderMesh] Mesh Edens_Quad_1B-itu_plasterboard has no texture coordinates!\n",
      "\u001B[0m\u001B[31m2023-06-21 15:59:29 WARN  main  [BlenderMesh] Mesh Edens_Quad_2A-itu_brick has no texture coordinates!\n",
      "\u001B[0m\u001B[31m2023-06-21 15:59:29 WARN  main  [BlenderMesh] Mesh Edens_Quad_2A-itu_plasterboard has no texture coordinates!\n",
      "\u001B[0m\u001B[31m2023-06-21 15:59:29 WARN  main  [BlenderMesh] Mesh Edens_Quad_3A-itu_brick has no texture coordinates!\n",
      "\u001B[0m\u001B[31m2023-06-21 15:59:29 WARN  main  [BlenderMesh] Mesh Edens_Quad_3A-itu_plasterboard has no texture coordinates!\n",
      "\u001B[0m\u001B[31m2023-06-21 15:59:29 WARN  main  [BlenderMesh] Mesh element-itu_brick has no texture coordinates!\n",
      "\u001B[0m\u001B[31m2023-06-21 15:59:29 WARN  main  [BlenderMesh] Mesh element-itu_plasterboard has no texture coordinates!\n",
      "\u001B[0m\u001B[31m2023-06-21 15:59:29 WARN  main  [BlenderMesh] Mesh element_001-itu_brick has no texture coordinates!\n",
      "\u001B[0m\u001B[31m2023-06-21 15:59:29 WARN  main  [BlenderMesh] Mesh element_001-itu_plasterboard has no texture coordinates!\n",
      "\u001B[0m\u001B[31m2023-06-21 15:59:29 WARN  main  [BlenderMesh] Mesh element_002-itu_brick has no texture coordinates!\n",
      "\u001B[0m\u001B[31m2023-06-21 15:59:29 WARN  main  [BlenderMesh] Mesh element_002-itu_plasterboard has no texture coordinates!\n",
      "\u001B[0m\u001B[31m2023-06-21 15:59:29 WARN  main  [BlenderMesh] Mesh element_003-itu_brick has no texture coordinates!\n",
      "\u001B[0m\u001B[31m2023-06-21 15:59:29 WARN  main  [BlenderMesh] Mesh element_003-itu_plasterboard has no texture coordinates!\n",
      "\u001B[0m\u001B[31m2023-06-21 15:59:29 WARN  main  [BlenderMesh] Mesh element_004-itu_brick has no texture coordinates!\n",
      "\u001B[0m\u001B[31m2023-06-21 15:59:29 WARN  main  [BlenderMesh] Mesh element_004-itu_plasterboard has no texture coordinates!\n",
      "\u001B[0m\u001B[31m2023-06-21 15:59:29 WARN  main  [BlenderMesh] Mesh element_005-itu_brick has no texture coordinates!\n",
      "\u001B[0m\u001B[31m2023-06-21 15:59:29 WARN  main  [BlenderMesh] Mesh element_005-itu_plasterboard has no texture coordinates!\n",
      "\u001B[0m\u001B[31m2023-06-21 15:59:29 WARN  main  [BlenderMesh] Mesh Keohane_4E-itu_brick has no texture coordinates!\n",
      "\u001B[0m\u001B[31m2023-06-21 15:59:29 WARN  main  [BlenderMesh] Mesh Keohane_4E-itu_plasterboard has no texture coordinates!\n",
      "\u001B[0m\u001B[31m2023-06-21 15:59:29 WARN  main  [BlenderMesh] Mesh House_FF-itu_brick has no texture coordinates!\n",
      "\u001B[0m\u001B[31m2023-06-21 15:59:29 WARN  main  [BlenderMesh] Mesh House_FF-itu_plasterboard has no texture coordinates!\n",
      "\u001B[0m\u001B[31m2023-06-21 15:59:29 WARN  main  [BlenderMesh] Mesh House_GG-itu_brick has no texture coordinates!\n",
      "\u001B[0m\u001B[31m2023-06-21 15:59:29 WARN  main  [BlenderMesh] Mesh House_GG-itu_plasterboard has no texture coordinates!\n",
      "\u001B[0m\u001B[31m2023-06-21 15:59:29 WARN  main  [BlenderMesh] Mesh House_HH-itu_brick has no texture coordinates!\n",
      "\u001B[0m\u001B[31m2023-06-21 15:59:29 WARN  main  [BlenderMesh] Mesh House_HH-itu_plasterboard has no texture coordinates!\n",
      "\u001B[0m\u001B[31m2023-06-21 15:59:29 WARN  main  [BlenderMesh] Mesh House_B-itu_brick has no texture coordinates!\n",
      "\u001B[0m\u001B[31m2023-06-21 15:59:29 WARN  main  [BlenderMesh] Mesh House_B-itu_plasterboard has no texture coordinates!\n",
      "\u001B[0m\u001B[31m2023-06-21 15:59:29 WARN  main  [BlenderMesh] Mesh House_A-itu_brick has no texture coordinates!\n",
      "\u001B[0m\u001B[31m2023-06-21 15:59:29 WARN  main  [BlenderMesh] Mesh House_A-itu_plasterboard has no texture coordinates!\n",
      "\u001B[0m\u001B[31m2023-06-21 15:59:29 WARN  main  [BlenderMesh] Mesh Craven_House_C-itu_brick has no texture coordinates!\n",
      "\u001B[0m\u001B[31m2023-06-21 15:59:29 WARN  main  [BlenderMesh] Mesh Craven_House_C-itu_plasterboard has no texture coordinates!\n",
      "\u001B[0m\u001B[31m2023-06-21 15:59:29 WARN  main  [BlenderMesh] Mesh Craven_House_D-itu_brick has no texture coordinates!\n",
      "\u001B[0m\u001B[31m2023-06-21 15:59:29 WARN  main  [BlenderMesh] Mesh Craven_House_D-itu_plasterboard has no texture coordinates!\n",
      "\u001B[0m\u001B[31m2023-06-21 15:59:29 WARN  main  [BlenderMesh] Mesh Craven_House_E-itu_brick has no texture coordinates!\n",
      "\u001B[0m\u001B[31m2023-06-21 15:59:29 WARN  main  [BlenderMesh] Mesh Craven_House_E-itu_plasterboard has no texture coordinates!\n",
      "\u001B[0m\u001B[31m2023-06-21 15:59:29 WARN  main  [BlenderMesh] Mesh Craven_House_F-itu_brick has no texture coordinates!\n",
      "\u001B[0m\u001B[31m2023-06-21 15:59:29 WARN  main  [BlenderMesh] Mesh Craven_House_F-itu_plasterboard has no texture coordinates!\n",
      "\u001B[0m\u001B[31m2023-06-21 15:59:29 WARN  main  [BlenderMesh] Mesh Craven_House_R-itu_brick has no texture coordinates!\n",
      "\u001B[0m\u001B[31m2023-06-21 15:59:29 WARN  main  [BlenderMesh] Mesh Craven_House_R-itu_plasterboard has no texture coordinates!\n",
      "\u001B[0m\u001B[31m2023-06-21 15:59:29 WARN  main  [BlenderMesh] Mesh Craven_House_S-itu_brick has no texture coordinates!\n",
      "\u001B[0m\u001B[31m2023-06-21 15:59:29 WARN  main  [BlenderMesh] Mesh Craven_House_S-itu_plasterboard has no texture coordinates!\n",
      "\u001B[0m\u001B[31m2023-06-21 15:59:29 WARN  main  [BlenderMesh] Mesh Craven_House_T-itu_brick has no texture coordinates!\n",
      "\u001B[0m\u001B[31m2023-06-21 15:59:29 WARN  main  [BlenderMesh] Mesh Craven_House_T-itu_plasterboard has no texture coordinates!\n",
      "\u001B[0m\u001B[31m2023-06-21 15:59:29 WARN  main  [BlenderMesh] Mesh Craven__House_U-itu_brick has no texture coordinates!\n",
      "\u001B[0m\u001B[31m2023-06-21 15:59:29 WARN  main  [BlenderMesh] Mesh Craven__House_U-itu_plasterboard has no texture coordinates!\n",
      "\u001B[0m\u001B[31m2023-06-21 15:59:29 WARN  main  [BlenderMesh] Mesh Craven_House_X-itu_brick has no texture coordinates!\n",
      "\u001B[0m\u001B[31m2023-06-21 15:59:29 WARN  main  [BlenderMesh] Mesh Craven_House_X-itu_plasterboard has no texture coordinates!\n",
      "\u001B[0m\u001B[31m2023-06-21 15:59:29 WARN  main  [BlenderMesh] Mesh Craven_House_Y_W-itu_brick has no texture coordinates!\n",
      "\u001B[0m\u001B[31m2023-06-21 15:59:29 WARN  main  [BlenderMesh] Mesh Craven_House_Y_W-itu_plasterboard has no texture coordinates!\n",
      "\u001B[0m\u001B[31m2023-06-21 15:59:29 WARN  main  [BlenderMesh] Mesh Craven_House_Z-itu_brick has no texture coordinates!\n",
      "\u001B[0m\u001B[31m2023-06-21 15:59:29 WARN  main  [BlenderMesh] Mesh Craven_House_Z-itu_plasterboard has no texture coordinates!\n",
      "\u001B[0m\u001B[31m2023-06-21 15:59:29 WARN  main  [BlenderMesh] Mesh Craven_House_AA-itu_brick has no texture coordinates!\n",
      "\u001B[0m\u001B[31m2023-06-21 15:59:29 WARN  main  [BlenderMesh] Mesh Craven_House_AA-itu_plasterboard has no texture coordinates!\n",
      "\u001B[0m\u001B[31m2023-06-21 15:59:29 WARN  main  [BlenderMesh] Mesh Kilgo_House_P-itu_brick has no texture coordinates!\n",
      "\u001B[0m\u001B[31m2023-06-21 15:59:29 WARN  main  [BlenderMesh] Mesh Kilgo_House_P-itu_plasterboard has no texture coordinates!\n",
      "\u001B[0m\u001B[31m2023-06-21 15:59:29 WARN  main  [BlenderMesh] Mesh Kilgo_House_O-itu_brick has no texture coordinates!\n",
      "\u001B[0m\u001B[31m2023-06-21 15:59:29 WARN  main  [BlenderMesh] Mesh Kilgo_House_O-itu_plasterboard has no texture coordinates!\n",
      "\u001B[0m\u001B[31m2023-06-21 15:59:29 WARN  main  [BlenderMesh] Mesh Kilgo_House_J-itu_brick has no texture coordinates!\n",
      "\u001B[0m\u001B[31m2023-06-21 15:59:29 WARN  main  [BlenderMesh] Mesh Kilgo_House_J-itu_plasterboard has no texture coordinates!\n",
      "\u001B[0m\u001B[31m2023-06-21 15:59:29 WARN  main  [BlenderMesh] Mesh Kilgo_House_K-itu_brick has no texture coordinates!\n",
      "\u001B[0m\u001B[31m2023-06-21 15:59:29 WARN  main  [BlenderMesh] Mesh Kilgo_House_K-itu_plasterboard has no texture coordinates!\n",
      "\u001B[0m\u001B[31m2023-06-21 15:59:29 WARN  main  [BlenderMesh] Mesh Kilgo_House_L-itu_brick has no texture coordinates!\n",
      "\u001B[0m\u001B[31m2023-06-21 15:59:29 WARN  main  [BlenderMesh] Mesh Kilgo_House_L-itu_plasterboard has no texture coordinates!\n",
      "\u001B[0m\u001B[31m2023-06-21 15:59:29 WARN  main  [BlenderMesh] Mesh Kilgo_House_M-itu_brick has no texture coordinates!\n",
      "\u001B[0m\u001B[31m2023-06-21 15:59:29 WARN  main  [BlenderMesh] Mesh Kilgo_House_M-itu_plasterboard has no texture coordinates!\n",
      "\u001B[0m\u001B[31m2023-06-21 15:59:29 WARN  main  [BlenderMesh] Mesh Kilgo_House_N-itu_brick has no texture coordinates!\n",
      "\u001B[0m\u001B[31m2023-06-21 15:59:29 WARN  main  [BlenderMesh] Mesh Kilgo_House_N-itu_plasterboard has no texture coordinates!\n",
      "\u001B[0m\u001B[31m2023-06-21 15:59:29 WARN  main  [BlenderMesh] Mesh Crowell_House_G-itu_brick has no texture coordinates!\n",
      "\u001B[0m\u001B[31m2023-06-21 15:59:29 WARN  main  [BlenderMesh] Mesh Crowell_House_G-itu_plasterboard has no texture coordinates!\n",
      "\u001B[0m\u001B[31m2023-06-21 15:59:29 WARN  main  [BlenderMesh] Mesh Crowell_House_H-itu_brick has no texture coordinates!\n",
      "\u001B[0m\u001B[31m2023-06-21 15:59:29 WARN  main  [BlenderMesh] Mesh Crowell_House_H-itu_plasterboard has no texture coordinates!\n",
      "\u001B[0m\u001B[31m2023-06-21 15:59:29 WARN  main  [BlenderMesh] Mesh Kilgo_House_I-itu_brick has no texture coordinates!\n",
      "\u001B[0m\u001B[31m2023-06-21 15:59:29 WARN  main  [BlenderMesh] Mesh Kilgo_House_I-itu_plasterboard has no texture coordinates!\n",
      "\u001B[0m\u001B[31m2023-06-21 15:59:29 WARN  main  [BlenderMesh] Mesh Crowell_House_BB-itu_brick has no texture coordinates!\n",
      "\u001B[0m\u001B[31m2023-06-21 15:59:29 WARN  main  [BlenderMesh] Mesh Crowell_House_BB-itu_plasterboard has no texture coordinates!\n",
      "\u001B[0m\u001B[31m2023-06-21 15:59:29 WARN  main  [BlenderMesh] Mesh Crowell__House_CC-itu_brick has no texture coordinates!\n",
      "\u001B[0m\u001B[31m2023-06-21 15:59:29 WARN  main  [BlenderMesh] Mesh Crowell__House_CC-itu_plasterboard has no texture coordinates!\n",
      "\u001B[0m\u001B[31m2023-06-21 15:59:29 WARN  main  [BlenderMesh] Mesh Crowell_House_DD-itu_brick has no texture coordinates!\n",
      "\u001B[0m\u001B[31m2023-06-21 15:59:29 WARN  main  [BlenderMesh] Mesh Crowell_House_DD-itu_plasterboard has no texture coordinates!\n",
      "\u001B[0m\u001B[31m2023-06-21 15:59:29 WARN  main  [BlenderMesh] Mesh Crowell_EE-itu_brick has no texture coordinates!\n",
      "\u001B[0m\u001B[31m2023-06-21 15:59:29 WARN  main  [BlenderMesh] Mesh Crowell_EE-itu_plasterboard has no texture coordinates!\n",
      "\u001B[0m\u001B[31m2023-06-21 15:59:29 WARN  main  [BlenderMesh] Mesh Edens_Quad_1A-itu_brick has no texture coordinates!\n",
      "\u001B[0m\u001B[31m2023-06-21 15:59:29 WARN  main  [BlenderMesh] Mesh Edens_Quad_1A-itu_plasterboard has no texture coordinates!\n",
      "\u001B[0m\u001B[31m2023-06-21 15:59:29 WARN  main  [BlenderMesh] Mesh Edens_Quad_3B-itu_brick has no texture coordinates!\n",
      "\u001B[0m\u001B[31m2023-06-21 15:59:29 WARN  main  [BlenderMesh] Mesh Edens_Quad_3B-itu_plasterboard has no texture coordinates!\n",
      "\u001B[0m\u001B[31m2023-06-21 15:59:29 WARN  main  [BlenderMesh] Mesh Edens_Quad_2C-itu_brick has no texture coordinates!\n",
      "\u001B[0m\u001B[31m2023-06-21 15:59:29 WARN  main  [BlenderMesh] Mesh Edens_Quad_2C-itu_plasterboard has no texture coordinates!\n",
      "\u001B[0m\u001B[31m2023-06-21 15:59:29 WARN  main  [BlenderMesh] Mesh Perkins_Library-itu_brick has no texture coordinates!\n",
      "\u001B[0m\u001B[31m2023-06-21 15:59:29 WARN  main  [BlenderMesh] Mesh Perkins_Library-itu_plasterboard has no texture coordinates!\n",
      "\u001B[0m\u001B[31m2023-06-21 15:59:29 WARN  main  [BlenderMesh] Mesh Krzyzewski_Center-itu_brick has no texture coordinates!\n",
      "\u001B[0m\u001B[31m2023-06-21 15:59:29 WARN  main  [BlenderMesh] Mesh Krzyzewski_Center-itu_plasterboard has no texture coordinates!\n",
      "\u001B[0m\u001B[31m2023-06-21 15:59:29 WARN  main  [BlenderMesh] Mesh Cameron_Indoor_Stadium-itu_brick has no texture coordinates!\n",
      "\u001B[0m\u001B[31m2023-06-21 15:59:29 WARN  main  [BlenderMesh] Mesh Cameron_Indoor_Stadium-itu_plasterboard has no texture coordinates!\n",
      "\u001B[0m\u001B[31m2023-06-21 15:59:29 WARN  main  [BlenderMesh] Mesh Schwartz-Butters_Athletic_Center-itu_brick has no texture coordinates!\n",
      "\u001B[0m\u001B[31m2023-06-21 15:59:29 WARN  main  [BlenderMesh] Mesh Schwartz-Butters_Athletic_Center-itu_plasterboard has no texture coordinates!\n",
      "\u001B[0m\u001B[31m2023-06-21 15:59:29 WARN  main  [BlenderMesh] Mesh Scott_Family_Pavilion-itu_brick has no texture coordinates!\n",
      "\u001B[0m\u001B[31m2023-06-21 15:59:29 WARN  main  [BlenderMesh] Mesh Scott_Family_Pavilion-itu_plasterboard has no texture coordinates!\n",
      "\u001B[0m\u001B[31m2023-06-21 15:59:29 WARN  main  [BlenderMesh] Mesh Richard_H__Brodhead_Center__West_Union-itu_brick has no texture coordinates!\n",
      "\u001B[0m\u001B[31m2023-06-21 15:59:29 WARN  main  [BlenderMesh] Mesh Richard_H__Brodhead_Center__West_Union-itu_plasterboard has no texture coordinates!\n",
      "\u001B[0m\u001B[31m2023-06-21 15:59:29 WARN  main  [BlenderMesh] Mesh Bryan_Center-itu_brick has no texture coordinates!\n",
      "\u001B[0m\u001B[31m2023-06-21 15:59:29 WARN  main  [BlenderMesh] Mesh Bryan_Center-itu_plasterboard has no texture coordinates!\n",
      "\u001B[0m\u001B[31m2023-06-21 15:59:29 WARN  main  [BlenderMesh] Mesh Penn_Pavilion-itu_brick has no texture coordinates!\n",
      "\u001B[0m\u001B[31m2023-06-21 15:59:29 WARN  main  [BlenderMesh] Mesh Penn_Pavilion-itu_plasterboard has no texture coordinates!\n",
      "\u001B[0m\u001B[31m2023-06-21 15:59:29 WARN  main  [BlenderMesh] Mesh Duke_Student_Health_Center-itu_brick has no texture coordinates!\n",
      "\u001B[0m\u001B[31m2023-06-21 15:59:29 WARN  main  [BlenderMesh] Mesh Duke_Student_Health_Center-itu_plasterboard has no texture coordinates!\n",
      "\u001B[0m\u001B[31m2023-06-21 15:59:29 WARN  main  [BlenderMesh] Mesh Duke_Chapel-itu_brick has no texture coordinates!\n",
      "\u001B[0m\u001B[31m2023-06-21 15:59:29 WARN  main  [BlenderMesh] Mesh Duke_Chapel-itu_plasterboard has no texture coordinates!\n",
      "\u001B[0m\u001B[31m2023-06-21 15:59:29 WARN  main  [BlenderMesh] Mesh Wannamaker_3-itu_brick has no texture coordinates!\n",
      "\u001B[0m\u001B[31m2023-06-21 15:59:29 WARN  main  [BlenderMesh] Mesh Wannamaker_3-itu_plasterboard has no texture coordinates!\n",
      "\u001B[0m\u001B[31m2023-06-21 15:59:29 WARN  main  [BlenderMesh] Mesh Wannamaker_2-itu_brick has no texture coordinates!\n",
      "\u001B[0m\u001B[31m2023-06-21 15:59:29 WARN  main  [BlenderMesh] Mesh Wannamaker_2-itu_plasterboard has no texture coordinates!\n",
      "\u001B[0m\u001B[31m2023-06-21 15:59:29 WARN  main  [BlenderMesh] Mesh Wannamaker_1-itu_brick has no texture coordinates!\n",
      "\u001B[0m\u001B[31m2023-06-21 15:59:29 WARN  main  [BlenderMesh] Mesh Wannamaker_1-itu_plasterboard has no texture coordinates!\n",
      "\u001B[0m\u001B[31m2023-06-21 15:59:29 WARN  main  [BlenderMesh] Mesh Keohane_4B-itu_brick has no texture coordinates!\n",
      "\u001B[0m\u001B[31m2023-06-21 15:59:29 WARN  main  [BlenderMesh] Mesh Keohane_4B-itu_plasterboard has no texture coordinates!\n",
      "\u001B[0m\u001B[31m2023-06-21 15:59:29 WARN  main  [BlenderMesh] Mesh Keohane_4A-itu_brick has no texture coordinates!\n",
      "\u001B[0m\u001B[31m2023-06-21 15:59:29 WARN  main  [BlenderMesh] Mesh Keohane_4A-itu_plasterboard has no texture coordinates!\n",
      "\u001B[0m\u001B[31m2023-06-21 15:59:29 WARN  main  [BlenderMesh] Mesh Twinnies_Cafe-itu_brick has no texture coordinates!\n",
      "\u001B[0m\u001B[31m2023-06-21 15:59:29 WARN  main  [BlenderMesh] Mesh Twinnies_Cafe-itu_plasterboard has no texture coordinates!\n",
      "\u001B[0m\u001B[31m2023-06-21 15:59:29 WARN  main  [BlenderMesh] Mesh element_006-itu_brick has no texture coordinates!\n",
      "\u001B[0m\u001B[31m2023-06-21 15:59:29 WARN  main  [BlenderMesh] Mesh element_006-itu_plasterboard has no texture coordinates!\n",
      "\u001B[0m\u001B[31m2023-06-21 15:59:29 WARN  main  [BlenderMesh] Mesh element_007-itu_brick has no texture coordinates!\n",
      "\u001B[0m\u001B[31m2023-06-21 15:59:29 WARN  main  [BlenderMesh] Mesh element_007-itu_plasterboard has no texture coordinates!\n",
      "\u001B[0m\u001B[31m2023-06-21 15:59:29 WARN  main  [BlenderMesh] Mesh element_008-itu_brick has no texture coordinates!\n",
      "\u001B[0m\u001B[31m2023-06-21 15:59:29 WARN  main  [BlenderMesh] Mesh element_008-itu_plasterboard has no texture coordinates!\n",
      "\u001B[0m\u001B[31m2023-06-21 15:59:29 WARN  main  [BlenderMesh] Mesh Wilkinson_Building-itu_brick has no texture coordinates!\n",
      "\u001B[0m\u001B[31m2023-06-21 15:59:29 WARN  main  [BlenderMesh] Mesh Wilkinson_Building-itu_plasterboard has no texture coordinates!\n",
      "\u001B[0m\u001B[31m2023-06-21 15:59:29 WARN  main  [BlenderMesh] Mesh Physics_Building-itu_brick has no texture coordinates!\n",
      "\u001B[0m\u001B[31m2023-06-21 15:59:29 WARN  main  [BlenderMesh] Mesh Physics_Building-itu_plasterboard has no texture coordinates!\n",
      "\u001B[0m\u001B[31m2023-06-21 15:59:29 WARN  main  [BlenderMesh] Mesh Terrain-itu_concrete has no texture coordinates!\n",
      "\u001B[0mInfo: Scene exported successfully!\n",
      "Fra:1 Mem:136.72M (Peak 136.74M) | Time:00:00.03 | Syncing Bryan Center Parking Garage\n",
      "Fra:1 Mem:136.73M (Peak 136.77M) | Time:00:00.03 | Syncing Flowers Building\n",
      "Fra:1 Mem:136.74M (Peak 136.77M) | Time:00:00.03 | Syncing Card Gymnasium\n",
      "Fra:1 Mem:136.75M (Peak 136.77M) | Time:00:00.03 | Syncing Sheffield Tennis Center\n",
      "Fra:1 Mem:136.76M (Peak 136.77M) | Time:00:00.03 | Syncing Intramural Building\n",
      "Fra:1 Mem:136.77M (Peak 136.78M) | Time:00:00.03 | Syncing Wilson Recreation Center\n",
      "Fra:1 Mem:136.78M (Peak 136.79M) | Time:00:00.03 | Syncing Edens Quad 1C\n",
      "Fra:1 Mem:136.79M (Peak 136.80M) | Time:00:00.03 | Syncing Fitzpatrick Center for Interdisci\n",
      "Fra:1 Mem:136.81M (Peak 136.81M) | Time:00:00.03 | Syncing Rubenstein Library\n",
      "Fra:1 Mem:136.82M (Peak 136.83M) | Time:00:00.03 | Syncing Bostock Library\n",
      "Fra:1 Mem:136.83M (Peak 136.83M) | Time:00:00.03 | Syncing Gray Building\n",
      "Fra:1 Mem:136.84M (Peak 136.85M) | Time:00:00.03 | Syncing Thomas A. Langford Building\n",
      "Fra:1 Mem:136.85M (Peak 136.86M) | Time:00:00.03 | Syncing Westbrook Building\n",
      "Fra:1 Mem:136.86M (Peak 136.87M) | Time:00:00.03 | Syncing Von Der Heyden Pavilion\n",
      "Fra:1 Mem:136.87M (Peak 136.88M) | Time:00:00.03 | Syncing Languages Building\n",
      "Fra:1 Mem:136.88M (Peak 136.89M) | Time:00:00.03 | Syncing Allen Building\n",
      "Fra:1 Mem:136.89M (Peak 136.90M) | Time:00:00.03 | Syncing Social Sciences Building\n",
      "Fra:1 Mem:136.90M (Peak 136.91M) | Time:00:00.03 | Syncing Hospital South\n",
      "Fra:1 Mem:136.92M (Peak 136.92M) | Time:00:00.03 | Syncing Rueben-Cooke\n",
      "Fra:1 Mem:136.94M (Peak 136.94M) | Time:00:00.03 | Syncing Old Chemistry Building\n",
      "Fra:1 Mem:136.95M (Peak 136.95M) | Time:00:00.03 | Syncing Oit/Telecommunications Building\n",
      "Fra:1 Mem:136.96M (Peak 136.97M) | Time:00:00.03 | Syncing Wannamaker 4\n",
      "Fra:1 Mem:136.96M (Peak 136.97M) | Time:00:00.03 | Syncing Keohane 4D\n",
      "Fra:1 Mem:136.97M (Peak 136.98M) | Time:00:00.03 | Syncing Edens Quad 1B\n",
      "Fra:1 Mem:136.98M (Peak 136.99M) | Time:00:00.03 | Syncing Edens Quad 2A\n",
      "Fra:1 Mem:136.99M (Peak 137.00M) | Time:00:00.03 | Syncing Edens Quad 3A\n",
      "Fra:1 Mem:137.01M (Peak 137.01M) | Time:00:00.03 | Syncing element\n",
      "Fra:1 Mem:137.02M (Peak 137.02M) | Time:00:00.03 | Syncing element.001\n",
      "Fra:1 Mem:137.02M (Peak 137.02M) | Time:00:00.03 | Syncing element.002\n",
      "Fra:1 Mem:137.04M (Peak 137.04M) | Time:00:00.03 | Syncing element.003\n",
      "Fra:1 Mem:137.05M (Peak 137.05M) | Time:00:00.03 | Syncing element.004\n",
      "Fra:1 Mem:137.05M (Peak 137.05M) | Time:00:00.03 | Syncing element.005\n",
      "Fra:1 Mem:137.06M (Peak 137.06M) | Time:00:00.03 | Syncing Keohane 4E\n",
      "Fra:1 Mem:137.07M (Peak 137.08M) | Time:00:00.03 | Syncing House FF\n",
      "Fra:1 Mem:137.08M (Peak 137.09M) | Time:00:00.03 | Syncing House GG\n",
      "Fra:1 Mem:137.09M (Peak 137.10M) | Time:00:00.03 | Syncing House HH\n",
      "Fra:1 Mem:137.10M (Peak 137.11M) | Time:00:00.03 | Syncing House B\n",
      "Fra:1 Mem:137.11M (Peak 137.12M) | Time:00:00.03 | Syncing House A\n",
      "Fra:1 Mem:137.12M (Peak 137.13M) | Time:00:00.03 | Syncing Craven House C\n",
      "Fra:1 Mem:137.13M (Peak 137.14M) | Time:00:00.03 | Syncing Craven House D\n",
      "Fra:1 Mem:137.14M (Peak 137.15M) | Time:00:00.03 | Syncing Craven House E\n",
      "Fra:1 Mem:137.14M (Peak 137.15M) | Time:00:00.03 | Syncing Craven House F\n",
      "Fra:1 Mem:137.15M (Peak 137.15M) | Time:00:00.03 | Syncing Craven House R\n",
      "Fra:1 Mem:137.16M (Peak 137.17M) | Time:00:00.03 | Syncing Craven House S\n",
      "Fra:1 Mem:137.17M (Peak 137.17M) | Time:00:00.03 | Syncing Craven House T\n",
      "Fra:1 Mem:137.18M (Peak 137.19M) | Time:00:00.03 | Syncing Craven  House U\n",
      "Fra:1 Mem:137.18M (Peak 137.19M) | Time:00:00.03 | Syncing Craven House X\n",
      "Fra:1 Mem:137.19M (Peak 137.19M) | Time:00:00.03 | Syncing Craven House Y/W\n",
      "Fra:1 Mem:137.20M (Peak 137.21M) | Time:00:00.03 | Syncing Craven House Z\n",
      "Fra:1 Mem:137.21M (Peak 137.21M) | Time:00:00.03 | Syncing Craven House AA\n",
      "Fra:1 Mem:137.22M (Peak 137.22M) | Time:00:00.03 | Syncing Kilgo House P\n",
      "Fra:1 Mem:137.23M (Peak 137.24M) | Time:00:00.03 | Syncing Kilgo House O\n",
      "Fra:1 Mem:137.24M (Peak 137.24M) | Time:00:00.03 | Syncing Kilgo House J\n",
      "Fra:1 Mem:137.24M (Peak 137.25M) | Time:00:00.03 | Syncing Kilgo House K\n",
      "Fra:1 Mem:137.25M (Peak 137.25M) | Time:00:00.03 | Syncing Kilgo House L\n",
      "Fra:1 Mem:137.26M (Peak 137.27M) | Time:00:00.03 | Syncing Kilgo House M\n",
      "Fra:1 Mem:137.27M (Peak 137.27M) | Time:00:00.03 | Syncing Kilgo House N\n",
      "Fra:1 Mem:137.28M (Peak 137.29M) | Time:00:00.03 | Syncing Crowell House G\n",
      "Fra:1 Mem:137.29M (Peak 137.30M) | Time:00:00.03 | Syncing Crowell House H\n",
      "Fra:1 Mem:137.30M (Peak 137.31M) | Time:00:00.03 | Syncing Kilgo House I\n",
      "Fra:1 Mem:137.30M (Peak 137.31M) | Time:00:00.03 | Syncing Crowell House BB\n",
      "Fra:1 Mem:137.31M (Peak 137.32M) | Time:00:00.03 | Syncing Crowell  House CC\n",
      "Fra:1 Mem:137.32M (Peak 137.33M) | Time:00:00.03 | Syncing Crowell House DD\n",
      "Fra:1 Mem:137.33M (Peak 137.34M) | Time:00:00.03 | Syncing Crowell EE\n",
      "Fra:1 Mem:137.34M (Peak 137.34M) | Time:00:00.03 | Syncing Edens Quad 1A\n",
      "Fra:1 Mem:137.35M (Peak 137.36M) | Time:00:00.03 | Syncing Edens Quad 3B\n",
      "Fra:1 Mem:137.36M (Peak 137.37M) | Time:00:00.03 | Syncing Edens Quad 2C\n",
      "Fra:1 Mem:137.38M (Peak 137.38M) | Time:00:00.03 | Syncing Perkins Library\n",
      "Fra:1 Mem:137.39M (Peak 137.39M) | Time:00:00.03 | Syncing Krzyzewski Center\n",
      "Fra:1 Mem:137.40M (Peak 137.40M) | Time:00:00.03 | Syncing Cameron Indoor Stadium\n",
      "Fra:1 Mem:137.41M (Peak 137.42M) | Time:00:00.03 | Syncing Schwartz-Butters Athletic Center\n",
      "Fra:1 Mem:137.42M (Peak 137.43M) | Time:00:00.03 | Syncing Scott Family Pavilion\n",
      "Fra:1 Mem:137.43M (Peak 137.44M) | Time:00:00.03 | Syncing Richard H. Brodhead Center, West \n",
      "Fra:1 Mem:137.47M (Peak 137.47M) | Time:00:00.03 | Syncing Bryan Center\n",
      "Fra:1 Mem:137.49M (Peak 137.49M) | Time:00:00.03 | Syncing Penn Pavilion\n",
      "Fra:1 Mem:137.50M (Peak 137.51M) | Time:00:00.03 | Syncing Duke Student Health Center\n",
      "Fra:1 Mem:137.51M (Peak 137.52M) | Time:00:00.03 | Syncing Duke Chapel\n",
      "Fra:1 Mem:137.55M (Peak 137.55M) | Time:00:00.03 | Syncing Wannamaker 3\n",
      "Fra:1 Mem:137.56M (Peak 137.56M) | Time:00:00.03 | Syncing Wannamaker 2\n",
      "Fra:1 Mem:137.57M (Peak 137.58M) | Time:00:00.03 | Syncing Wannamaker 1\n",
      "Fra:1 Mem:137.58M (Peak 137.59M) | Time:00:00.03 | Syncing Keohane 4B\n",
      "Fra:1 Mem:137.59M (Peak 137.60M) | Time:00:00.03 | Syncing Keohane 4A\n",
      "Fra:1 Mem:137.60M (Peak 137.61M) | Time:00:00.03 | Syncing Twinnies Cafe\n",
      "Fra:1 Mem:137.60M (Peak 137.61M) | Time:00:00.03 | Syncing element.006\n",
      "Fra:1 Mem:137.61M (Peak 137.62M) | Time:00:00.03 | Syncing element.007\n",
      "Fra:1 Mem:137.62M (Peak 137.63M) | Time:00:00.03 | Syncing element.008\n",
      "Fra:1 Mem:137.63M (Peak 137.64M) | Time:00:00.03 | Syncing Wilkinson Building\n",
      "Fra:1 Mem:137.64M (Peak 137.65M) | Time:00:00.03 | Syncing Physics Building\n",
      "Fra:1 Mem:137.65M (Peak 137.66M) | Time:00:00.03 | Syncing Terrain\n",
      "Fra:1 Mem:137.86M (Peak 137.88M) | Time:00:00.03 | Syncing Camera\n",
      "Fra:1 Mem:137.71M (Peak 137.88M) | Time:00:00.04 | Rendering 1 / 64 samples\n",
      "Fra:1 Mem:137.35M (Peak 137.88M) | Time:00:00.20 | Rendering 26 / 64 samples\n",
      "Fra:1 Mem:137.35M (Peak 137.88M) | Time:00:00.29 | Rendering 51 / 64 samples\n",
      "Fra:1 Mem:137.35M (Peak 137.88M) | Time:00:00.34 | Rendering 64 / 64 samples\n",
      "Fra:1 Mem:97.31M (Peak 176.90M) | Time:00:00.41 | Compositing\n",
      "Fra:1 Mem:97.31M (Peak 176.90M) | Time:00:00.41 | Compositing | Determining resolution\n",
      "Fra:1 Mem:97.31M (Peak 176.90M) | Time:00:00.41 | Compositing | Initializing execution\n",
      "Fra:1 Mem:97.37M (Peak 176.90M) | Time:00:00.42 | Compositing | Tile 1-40\n",
      "Fra:1 Mem:97.37M (Peak 176.90M) | Time:00:00.42 | Compositing | Tile 2-40\n",
      "Fra:1 Mem:97.37M (Peak 176.90M) | Time:00:00.42 | Compositing | Tile 3-40\n",
      "Fra:1 Mem:97.37M (Peak 176.90M) | Time:00:00.42 | Compositing | Tile 4-40\n",
      "Fra:1 Mem:97.37M (Peak 176.90M) | Time:00:00.42 | Compositing | Tile 5-40\n",
      "Fra:1 Mem:97.37M (Peak 176.90M) | Time:00:00.42 | Compositing | Tile 6-40\n",
      "Fra:1 Mem:97.37M (Peak 176.90M) | Time:00:00.42 | Compositing | Tile 7-40\n",
      "Fra:1 Mem:97.37M (Peak 176.90M) | Time:00:00.42 | Compositing | Tile 8-40\n",
      "Fra:1 Mem:97.37M (Peak 176.90M) | Time:00:00.42 | Compositing | Tile 9-40\n",
      "Fra:1 Mem:97.37M (Peak 176.90M) | Time:00:00.42 | Compositing | Tile 10-40\n",
      "Fra:1 Mem:97.37M (Peak 176.90M) | Time:00:00.42 | Compositing | Tile 11-40\n",
      "Fra:1 Mem:97.37M (Peak 176.90M) | Time:00:00.42 | Compositing | Tile 12-40\n",
      "Fra:1 Mem:97.37M (Peak 176.90M) | Time:00:00.42 | Compositing | Tile 13-40\n",
      "Fra:1 Mem:97.37M (Peak 176.90M) | Time:00:00.42 | Compositing | Tile 14-40\n",
      "Fra:1 Mem:97.37M (Peak 176.90M) | Time:00:00.42 | Compositing | Tile 15-40\n",
      "Fra:1 Mem:97.37M (Peak 176.90M) | Time:00:00.42 | Compositing | Tile 16-40\n",
      "Fra:1 Mem:97.37M (Peak 176.90M) | Time:00:00.42 | Compositing | Tile 17-40\n",
      "Fra:1 Mem:97.37M (Peak 176.90M) | Time:00:00.42 | Compositing | Tile 18-40\n",
      "Fra:1 Mem:97.37M (Peak 176.90M) | Time:00:00.42 | Compositing | Tile 19-40\n",
      "Fra:1 Mem:97.37M (Peak 176.90M) | Time:00:00.42 | Compositing | Tile 20-40\n",
      "Fra:1 Mem:97.37M (Peak 176.90M) | Time:00:00.42 | Compositing | Tile 21-40\n",
      "Fra:1 Mem:97.37M (Peak 176.90M) | Time:00:00.42 | Compositing | Tile 22-40\n",
      "Fra:1 Mem:97.37M (Peak 176.90M) | Time:00:00.42 | Compositing | Tile 23-40\n",
      "Fra:1 Mem:97.37M (Peak 176.90M) | Time:00:00.42 | Compositing | Tile 24-40\n",
      "Fra:1 Mem:97.37M (Peak 176.90M) | Time:00:00.42 | Compositing | Tile 25-40\n",
      "Fra:1 Mem:97.37M (Peak 176.90M) | Time:00:00.42 | Compositing | Tile 26-40\n",
      "Fra:1 Mem:97.37M (Peak 176.90M) | Time:00:00.42 | Compositing | Tile 27-40\n",
      "Fra:1 Mem:97.37M (Peak 176.90M) | Time:00:00.42 | Compositing | Tile 28-40\n",
      "Fra:1 Mem:97.37M (Peak 176.90M) | Time:00:00.42 | Compositing | Tile 29-40\n",
      "Fra:1 Mem:97.37M (Peak 176.90M) | Time:00:00.42 | Compositing | Tile 30-40\n",
      "Fra:1 Mem:97.37M (Peak 176.90M) | Time:00:00.42 | Compositing | Tile 31-40\n",
      "Fra:1 Mem:97.37M (Peak 176.90M) | Time:00:00.42 | Compositing | Tile 32-40\n",
      "Fra:1 Mem:97.37M (Peak 176.90M) | Time:00:00.42 | Compositing | Tile 33-40\n",
      "Fra:1 Mem:97.37M (Peak 176.90M) | Time:00:00.42 | Compositing | Tile 34-40\n",
      "Fra:1 Mem:97.37M (Peak 176.90M) | Time:00:00.42 | Compositing | Tile 35-40\n",
      "Fra:1 Mem:97.37M (Peak 176.90M) | Time:00:00.42 | Compositing | Tile 36-40\n",
      "Fra:1 Mem:97.37M (Peak 176.90M) | Time:00:00.42 | Compositing | Tile 37-40\n",
      "Fra:1 Mem:97.37M (Peak 176.90M) | Time:00:00.42 | Compositing | Tile 38-40\n",
      "Fra:1 Mem:97.37M (Peak 176.90M) | Time:00:00.42 | Compositing | Tile 39-40\n",
      "Fra:1 Mem:97.37M (Peak 176.90M) | Time:00:00.42 | Compositing | Tile 40-40\n",
      "Fra:1 Mem:97.31M (Peak 176.90M) | Time:00:00.42 | Compositing | De-initializing execution\n",
      "Error: Python: Traceback (most recent call last):\n",
      "  File \"/Users/zeyuli/Desktop/Duke/0. Su23_Research/3DPathLoss/nc_raytracing/blender_test_command_line.py\", line 551, in <module>\n",
      "    raise e\n",
      "  File \"/Users/zeyuli/Desktop/Duke/0. Su23_Research/3DPathLoss/nc_raytracing/blender_test_command_line.py\", line 545, in <module>\n",
      "    run(args.maxLon, args.minLon, args.maxLat, args.minLat, args.idx, args.building_to_area_ratio, use_path_osm='n')\n",
      "  File \"/Users/zeyuli/Desktop/Duke/0. Su23_Research/3DPathLoss/nc_raytracing/blender_test_command_line.py\", line 540, in run\n",
      "    raise e\n",
      "  File \"/Users/zeyuli/Desktop/Duke/0. Su23_Research/3DPathLoss/nc_raytracing/blender_test_command_line.py\", line 537, in run\n",
      "    delete_terrain_and_osm_files()\n",
      "  File \"/Users/zeyuli/Desktop/Duke/0. Su23_Research/3DPathLoss/nc_raytracing/blender_test_command_line.py\", line 78, in delete_terrain_and_osm_files\n",
      "    raise e\n",
      "  File \"/Users/zeyuli/Desktop/Duke/0. Su23_Research/3DPathLoss/nc_raytracing/blender_test_command_line.py\", line 73, in delete_terrain_and_osm_files\n",
      "    delete_files_from_directory(folder_path_osm)\n",
      "  File \"/Users/zeyuli/Desktop/Duke/0. Su23_Research/3DPathLoss/nc_raytracing/blender_test_command_line.py\", line 93, in delete_files_from_directory\n",
      "    raise e\n",
      "  File \"/Users/zeyuli/Desktop/Duke/0. Su23_Research/3DPathLoss/nc_raytracing/blender_test_command_line.py\", line 83, in delete_files_from_directory\n",
      "    for filename in os.listdir(folder_path):\n",
      "FileNotFoundError: [Errno 2] No such file or directory: '/Users/zeyuli/Desktop/Duke/0. Su23_Research/Blender_stuff/Test_subprocess/Blender_download_files/osm'\n",
      "mitsuba-blender v0.1alpha registered (with mitsuba v3.0.1)\n",
      "Info: Deleted 2 data-block(s)\n",
      "\n",
      "\n",
      "Terrain download:  0.12729477882385254 seconds\n",
      "\n",
      "\n",
      "x min and max of terrain mesh:  -528.2150268554688 522.4771118164062\n",
      "y min and max of terrain mesh:  -593.0244140625 582.0149536132812\n",
      "\n",
      "terrainshape: 1080 1920\n",
      "[-63504. -63504. -63504. ... -63504. -63504. -63504.]\n",
      "5\n",
      "Downloading the file from http://tc319-srv1.egr.duke.edu:23412/api/map?bbox=-78.94259643554688,35.996498107910156,-78.93399810791016,36.00360107421875...\n",
      "Saving the file to /Users/zeyuli/Desktop/Duke/0. Su23_Research/Blender_stuff/Blender_download_files/osm/map_5.osm...\n",
      "Parsing OSM file /Users/zeyuli/Desktop/Duke/0. Su23_Research/Blender_stuff/Blender_download_files/osm/map_5.osm...\n",
      "Time for parsing OSM file: 0:00:00.093923\n",
      "Processing the parsed OSM data...\n",
      "The number of buildings: 88\n",
      "Time for processing of the parsed OSM data: 0:00:00.000023\n",
      "Creating meshes in Blender...\n",
      "Info: Removed 0 vertice(s)\n",
      "Time for mesh creation in Blender: 0:00:00.074139\n",
      "Total duration: 0:00:00.168117\n",
      "\n",
      "\n",
      "osm download:  2.490402936935425 seconds\n",
      "\n",
      "\n",
      "Scene File: /Users/zeyuli/Desktop/Duke/0. Su23_Research/Blender_stuff/Test_subprocess/Bl_xml_files/1_a3f9a614-1185-4fd1-a475-0f8418470ada/1_a3f9a614-1185-4fd1-a475-0f8418470ada.xml\n",
      "Scene Folder: /Users/zeyuli/Desktop/Duke/0. Su23_Research/Blender_stuff/Test_subprocess/Bl_xml_files/1_a3f9a614-1185-4fd1-a475-0f8418470ada\n",
      "Wrote scene files.\n",
      " /Users/zeyuli/Desktop/Duke/0. Su23_Research/Blender_stuff/Test_subprocess/Bl_xml_files/1_a3f9a614-1185-4fd1-a475-0f8418470ada/1_a3f9a614-1185-4fd1-a475-0f8418470ada.xml\n",
      "Info: Scene exported successfully!\n",
      "\n",
      "\n",
      "\n",
      "Raised error\n",
      "\n",
      "\n",
      "\n",
      "Traceback (most recent call last):\n",
      "  File \"/Users/zeyuli/Desktop/Duke/0. Su23_Research/3DPathLoss/nc_raytracing/blender_test_command_line.py\", line 545, in <module>\n",
      "    run(args.maxLon, args.minLon, args.maxLat, args.minLat, args.idx, args.building_to_area_ratio, use_path_osm='n')\n",
      "  File \"/Users/zeyuli/Desktop/Duke/0. Su23_Research/3DPathLoss/nc_raytracing/blender_test_command_line.py\", line 540, in run\n",
      "    raise e\n",
      "  File \"/Users/zeyuli/Desktop/Duke/0. Su23_Research/3DPathLoss/nc_raytracing/blender_test_command_line.py\", line 537, in run\n",
      "    delete_terrain_and_osm_files()\n",
      "  File \"/Users/zeyuli/Desktop/Duke/0. Su23_Research/3DPathLoss/nc_raytracing/blender_test_command_line.py\", line 78, in delete_terrain_and_osm_files\n",
      "    raise e\n",
      "  File \"/Users/zeyuli/Desktop/Duke/0. Su23_Research/3DPathLoss/nc_raytracing/blender_test_command_line.py\", line 73, in delete_terrain_and_osm_files\n",
      "    delete_files_from_directory(folder_path_osm)\n",
      "  File \"/Users/zeyuli/Desktop/Duke/0. Su23_Research/3DPathLoss/nc_raytracing/blender_test_command_line.py\", line 93, in delete_files_from_directory\n",
      "    raise e\n",
      "  File \"/Users/zeyuli/Desktop/Duke/0. Su23_Research/3DPathLoss/nc_raytracing/blender_test_command_line.py\", line 83, in delete_files_from_directory\n",
      "    for filename in os.listdir(folder_path):\n",
      "FileNotFoundError: [Errno 2] No such file or directory: '/Users/zeyuli/Desktop/Duke/0. Su23_Research/Blender_stuff/Test_subprocess/Blender_download_files/osm'\n",
      "\n",
      "\n",
      "\n",
      "\n",
      "\n",
      "\n",
      "Blender quit\n"
     ]
    },
    {
     "data": {
      "text/plain": "CompletedProcess(args=['/Users/zeyuli/blender-git/build_darwin/bin/Blender.app/Contents/MacOS/Blender', '--background', '--python', '/Users/zeyuli/Desktop/Duke/0. Su23_Research/3DPathLoss/nc_raytracing/blender_test_command_line.py', '--', '-i', '1', '-r', '-78.934000', '-l', '-78.942600', '-t', '36.003600', '-b', '35.996500', '-o', '20.2'], returncode=0)"
     },
     "execution_count": 22,
     "metadata": {},
     "output_type": "execute_result"
    }
   ],
   "source": [
    "import shlex\n",
    "import subprocess\n",
    "maxLonOut, minLonOut, maxLatOut, minLatOut = -78.9340, -78.9426, 36.0036, 35.9965\n",
    "subprocess.run(shlex.split('/Users/zeyuli/blender-git/build_darwin/bin/Blender.app/Contents/MacOS/Blender --background --python /Users/zeyuli/Desktop/Duke/0.\\ Su23_Research/3DPathLoss/nc_raytracing/blender_test_command_line.py -- -i 1 -r {:f} -l {:f} -t {:f} -b {:f} -o 20.2'.format(maxLonOut, minLonOut, maxLatOut, minLatOut)))"
   ],
   "metadata": {
    "collapsed": false,
    "ExecuteTime": {
     "end_time": "2023-06-21T19:59:31.270002Z",
     "start_time": "2023-06-21T19:59:19.636077Z"
    }
   }
  },
  {
   "cell_type": "code",
   "execution_count": 34,
   "outputs": [
    {
     "name": "stdout",
     "output_type": "stream",
     "text": [
      "[        nan         nan         nan         nan         nan -117.090034\n",
      "         nan -116.741905 -106.13501          nan         nan -119.45526\n",
      "         nan         nan         nan         nan         nan -110.50063\n",
      " -112.54663  -113.5974   -112.937546 -114.5365   -108.223    -106.735275\n",
      " -107.23319  -103.48735  -105.68677  -104.33653  -102.02213  -100.30285\n",
      " -100.5548    -97.142494  -97.35671   -96.010315  -95.53023   -93.74071\n",
      "  -91.37924   -90.58392   -89.02466   -85.344315  -83.66791   -80.71521\n",
      "  -79.15393   -77.027695  -73.235596  -68.832596  -63.447433  -57.111496\n",
      "  -47.29927   -37.65986   -14.33094   -19.272211  -28.013939  -34.645603\n",
      "  -39.22253   -43.321556  -46.961243  -49.70568   -52.714306  -56.044292\n",
      "  -60.298744  -64.45118   -75.83522          nan         nan -143.46365\n",
      "         nan -144.25203          nan         nan         nan         nan\n",
      "         nan         nan         nan         nan         nan         nan\n",
      "         nan -129.82837          nan -130.39641  -132.46837  -134.11801\n",
      "         nan         nan -121.17153          nan         nan         nan\n",
      "         nan         nan         nan         nan         nan         nan\n",
      "         nan         nan         nan         nan]\n",
      "[[  0   0   0 255]\n",
      " [  0   0   0 255]\n",
      " [  0   0   0 255]\n",
      " [  0   0   0 255]\n",
      " [  0   0   0 255]\n",
      " [  0   0   0 255]\n",
      " [  0   0   0 255]\n",
      " [  0   0   0 255]\n",
      " [  0   0   0 255]\n",
      " [  0   0   0 255]\n",
      " [  0   0   0 255]\n",
      " [  0   0   0 255]\n",
      " [  0   0   0 255]\n",
      " [  0   0   0 255]\n",
      " [  0   0   0 255]\n",
      " [  0   0   0 255]\n",
      " [  0   0   0 255]\n",
      " [  0   0   0 255]\n",
      " [  0   0   0 255]\n",
      " [  0   0   0 255]\n",
      " [  0   0   0 255]\n",
      " [  0   0   0 255]\n",
      " [  0   0   0 255]\n",
      " [  0   0   0 255]\n",
      " [  0   0   0 255]\n",
      " [  0   0   0 255]\n",
      " [  0   0   0 255]\n",
      " [  0   0   0 255]\n",
      " [  0   0   0 255]\n",
      " [  0   0   0 255]\n",
      " [  0   0   0 255]\n",
      " [  0   0   0 255]\n",
      " [  0   0   0 255]\n",
      " [  0   0   0 255]\n",
      " [  0   0   0 255]\n",
      " [  0   0   0 255]\n",
      " [  0   0   0 255]\n",
      " [  0   0   0 255]\n",
      " [  0   0   0 255]\n",
      " [  0   0   0 255]\n",
      " [  0   0   0 255]\n",
      " [  0   0   0 255]\n",
      " [  0   0   0 255]\n",
      " [  0   0   0 255]\n",
      " [  0   0   0 255]\n",
      " [  0   0   0 255]\n",
      " [  0   0   0 255]\n",
      " [  0   0   0 255]\n",
      " [  0   0   0 255]\n",
      " [  0   0   0 255]\n",
      " [  0   0   0 255]\n",
      " [  0   0   0 255]\n",
      " [  0   0   0 255]\n",
      " [  0   0   0 255]\n",
      " [  0   0   0 255]\n",
      " [  0   0   0 255]\n",
      " [  0   0   0 255]\n",
      " [  0   0   0 255]\n",
      " [  0   0   0 255]\n",
      " [  0   0   0 255]\n",
      " [  0   0   0 255]\n",
      " [  0   0   0 255]\n",
      " [  0   0   0 255]\n",
      " [  0   0   0 255]\n",
      " [  0   0   0 255]\n",
      " [  0   0   0 255]\n",
      " [  0   0   0 255]\n",
      " [  0   0   0 255]\n",
      " [  0   0   0 255]\n",
      " [  0   0   0 255]\n",
      " [  0   0   0 255]\n",
      " [  0   0   0 255]\n",
      " [  0   0   0 255]\n",
      " [  0   0   0 255]\n",
      " [  0   0   0 255]\n",
      " [  0   0   0 255]\n",
      " [  0   0   0 255]\n",
      " [  0   0   0 255]\n",
      " [  0   0   0 255]\n",
      " [  0   0   0 255]\n",
      " [  0   0   0 255]\n",
      " [  0   0   0 255]\n",
      " [  0   0   0 255]\n",
      " [  0   0   0 255]\n",
      " [  0   0   0 255]\n",
      " [  0   0   0 255]\n",
      " [  0   0   0 255]\n",
      " [  0   0   0 255]\n",
      " [  0   0   0 255]\n",
      " [  0   0   0 255]\n",
      " [  0   0   0 255]\n",
      " [  0   0   0 255]\n",
      " [  0   0   0 255]\n",
      " [  0   0   0 255]\n",
      " [  0   0   0 255]\n",
      " [  0   0   0 255]\n",
      " [  0   0   0 255]\n",
      " [  0   0   0 255]\n",
      " [  0   0   0 255]\n",
      " [  0   0   0 255]]\n"
     ]
    },
    {
     "data": {
      "text/plain": "<Figure size 640x480 with 1 Axes>",
      "image/png": "[encoded data removed]"
     },
     "metadata": {},
     "output_type": "display_data"
    }
   ],
   "source": [
    "import matplotlib.pyplot as plt\n",
    "temp_path = 'test_dir/534_b793be32-8dd9-4d30-8d5d-bf1d3b1a69a9.tiff'\n",
    "c = np.asarray(Image.open(temp_path))\n",
    "print(c[50, :])\n",
    "b = plt.imread(temp_path)\n",
    "plt.imshow(b)\n",
    "print(np.asarray(b)[50, :])"
   ],
   "metadata": {
    "collapsed": false,
    "ExecuteTime": {
     "end_time": "2023-06-22T17:16:34.006497Z",
     "start_time": "2023-06-22T17:16:33.863074Z"
    }
   }
  },
  {
   "cell_type": "code",
   "execution_count": 0,
   "outputs": [],
   "source": [
    "testing_ptr = open('test_dir/testing.txt', 'r')\n",
    "lines = testing_ptr.readlines()\n",
    "print(lines)"
   ],
   "metadata": {
    "collapsed": false
   }
  },
  {
   "cell_type": "code",
   "execution_count": 25,
   "outputs": [
    {
     "name": "stdout",
     "output_type": "stream",
     "text": [
      "asdf\n"
     ]
    }
   ],
   "source": [
    "jj = 'asdf.tiff'\n",
    "print(jj[0:-5])"
   ],
   "metadata": {
    "collapsed": false,
    "ExecuteTime": {
     "end_time": "2023-06-22T04:26:23.900331Z",
     "start_time": "2023-06-22T04:26:23.894251Z"
    }
   }
  },
  {
   "cell_type": "code",
   "execution_count": 39,
   "outputs": [
    {
     "name": "stdout",
     "output_type": "stream",
     "text": [
      "[[0. 0. 0. 0. 0. 0. 0. 0. 0. 0.]\n",
      " [0. 0. 0. 0. 0. 0. 0. 0. 0. 0.]\n",
      " [0. 0. 0. 0. 0. 0. 0. 0. 0. 0.]\n",
      " [0. 0. 0. 0. 0. 0. 0. 0. 0. 0.]\n",
      " [0. 0. 0. 0. 0. 0. 0. 0. 0. 0.]\n",
      " [0. 0. 0. 0. 0. 0. 0. 0. 0. 0.]\n",
      " [0. 0. 0. 0. 0. 0. 0. 0. 0. 0.]\n",
      " [0. 0. 0. 0. 0. 0. 0. 0. 0. 0.]\n",
      " [0. 0. 0. 0. 0. 0. 0. 0. 0. 0.]\n",
      " [0. 0. 0. 0. 0. 0. 0. 0. 0. 0.]]\n",
      "0.09411765 0.0\n"
     ]
    }
   ],
   "source": [
    "temp_path = 'test_dir/0_2f5eb2b8-578e-47c7-8b76-29baa0f06169.png'\n",
    "d = plt.imread(temp_path)\n",
    "d_arr = np.asarray(d)\n",
    "print(d_arr[45:55, 45:55])\n",
    "print(np.max(d_arr), np.min(d_arr))"
   ],
   "metadata": {
    "collapsed": false,
    "ExecuteTime": {
     "end_time": "2023-06-23T03:40:04.106614Z",
     "start_time": "2023-06-23T03:40:04.091056Z"
    }
   }
  },
  {
   "cell_type": "code",
   "execution_count": 38,
   "outputs": [
    {
     "name": "stdout",
     "output_type": "stream",
     "text": [
      "[[0.05490196 0.05490196 0.05490196 0.05490196 0.05490196 0.05490196\n",
      "  0.05490196 0.05490196 0.05490196 0.05490196]\n",
      " [0.05490196 0.05490196 0.05490196 0.05490196 0.05490196 0.05490196\n",
      "  0.05490196 0.05490196 0.05490196 0.05490196]\n",
      " [0.05490196 0.05490196 0.05490196 0.05490196 0.05490196 0.05490196\n",
      "  0.05490196 0.05490196 0.05490196 0.05490196]\n",
      " [0.05490196 0.05490196 0.05490196 0.05490196 0.05490196 0.05490196\n",
      "  0.05490196 0.05490196 0.05490196 0.05490196]\n",
      " [0.05490196 0.05490196 0.05490196 0.05490196 0.05490196 0.05490196\n",
      "  0.05490196 0.05490196 0.05490196 0.05490196]\n",
      " [0.05490196 0.05490196 0.05490196 0.05490196 0.05490196 0.05490196\n",
      "  0.05490196 0.05490196 0.05490196 0.05490196]\n",
      " [0.05490196 0.05490196 0.05490196 0.05490196 0.05490196 0.05490196\n",
      "  0.05490196 0.05490196 0.05490196 0.05490196]\n",
      " [0.05490196 0.05490196 0.05490196 0.05490196 0.05490196 0.05490196\n",
      "  0.05490196 0.05490196 0.05490196 0.05490196]\n",
      " [0.05490196 0.05490196 0.05490196 0.05490196 0.05490196 0.05490196\n",
      "  0.05490196 0.05490196 0.05490196 0.05490196]\n",
      " [0.05490196 0.05490196 0.05490196 0.05490196 0.05490196 0.05490196\n",
      "  0.05490196 0.05490196 0.05490196 0.05490196]]\n",
      "0.06666667 0.003921569\n"
     ]
    }
   ],
   "source": [
    "temp_path = 'test_dir/0_2f5eb2b8-578e-47c7-8b76-29baa0f06169_terrain.png'\n",
    "e = plt.imread(temp_path)\n",
    "e_arr = np.asarray(e)\n",
    "print(e_arr[45:55, 45:55])\n",
    "print(np.max(e_arr), np.min(e_arr))"
   ],
   "metadata": {
    "collapsed": false,
    "ExecuteTime": {
     "end_time": "2023-06-23T03:39:31.897360Z",
     "start_time": "2023-06-23T03:39:31.880220Z"
    }
   }
  },
  {
   "cell_type": "code",
   "execution_count": 69,
   "outputs": [
    {
     "name": "stdout",
     "output_type": "stream",
     "text": [
      "[[ 751.13636996 1727.33800871  960.19780273  655.37146034 1591.5024048 ]\n",
      " [ 554.2900865  1098.36270943 1533.51659555 1316.8966547  1780.12483635]\n",
      " [1164.34386758 1518.17769273  454.86826815 1429.88338394 1491.62822937]\n",
      " [ 964.90279692  571.69922303  949.8697983  1313.22282383 1817.49379753]\n",
      " [1121.07792907 1939.11816573 1496.02291021  181.08337162  175.26889887]]\n",
      "[[ 751 1727  960  655 1592]\n",
      " [ 554 1098 1534 1317 1780]\n",
      " [1164 1518  455 1430 1492]\n",
      " [ 965  572  950 1313 1817]\n",
      " [1121 1939 1496  181  175]]\n",
      "[[ 751 1727  960  655 1592]\n",
      " [ 554 1098 1534 1317 1780]\n",
      " [1164 1518  455 1430 1492]\n",
      " [ 965  572  950 1313 1817]\n",
      " [1121 1939 1496  181  175]]\n"
     ]
    }
   ],
   "source": [
    "rand_arr = np.random.rand(1000, 1000) * 2000\n",
    "print(rand_arr[0:5, 0:5])\n",
    "arr_int32 = np.round(rand_arr).astype(np.int32)\n",
    "print(arr_int32[0:5, 0:5])\n",
    "arr_int16 = arr_int32.astype(np.int16)\n",
    "print(arr_int16[0:5, 0:5])\n",
    "\n",
    "np.save('test_dir/test_16', arr_int16[::8, ::8])\n",
    "np.save('test_dir/test_32', arr_int32)"
   ],
   "metadata": {
    "collapsed": false,
    "ExecuteTime": {
     "end_time": "2023-06-25T04:57:01.571866Z",
     "start_time": "2023-06-25T04:57:01.540113Z"
    }
   }
  },
  {
   "cell_type": "code",
   "execution_count": 68,
   "outputs": [
    {
     "name": "stdout",
     "output_type": "stream",
     "text": [
      "['4_3d379bd3-23c3-4ab6-af30-203fb5167157.npy', '8_7a1b5657-48d1-439f-8721-4a126b06bd02.npy', '3_b7a0bbe5-1164-4f27-8219-fd66e3e01877.npy', '10_7bbc176d-803b-4c5c-b84a-8290862a9348.npy', '5_58041309-83e4-4d2b-bd74-47173fb63714.npy', '9_2185d27a-e09f-4888-b035-6fe8bc71762a.npy', '1_da28607c-ae4b-4d21-a966-efd1c6cd9cb3.npy', '0_4b9001da-b7c9-4ee0-8a89-67821bb928cc.npy', '2_af7e6f85-58cd-468e-bd8d-833ad4c40db4.npy']\n",
      "9\n",
      "[[0 0 0 0 0 0 0 0 0 0]\n",
      " [0 0 0 0 0 0 0 0 0 0]\n",
      " [0 0 0 0 0 0 0 0 0 0]\n",
      " [0 0 0 0 0 0 0 0 0 0]\n",
      " [0 0 0 0 0 0 0 0 0 0]\n",
      " [0 0 0 0 0 0 0 0 0 0]\n",
      " [0 0 0 0 0 0 0 0 0 0]\n",
      " [0 0 0 0 0 0 0 0 0 0]\n",
      " [0 0 0 0 0 0 0 0 0 0]]\n",
      "368928 0\n",
      "[[18 18 18 18 18]\n",
      " [18 18 18 18 18]\n",
      " [18 18 18 18 18]\n",
      " [18 18 18 18 18]\n",
      " [18 18 18 18 18]]\n"
     ]
    },
    {
     "data": {
      "text/plain": "<matplotlib.image.AxesImage at 0x7faf99d73610>"
     },
     "execution_count": 68,
     "metadata": {},
     "output_type": "execute_result"
    },
    {
     "data": {
      "text/plain": "<Figure size 640x480 with 1 Axes>",
      "image/png": "[encoded data removed]"
     },
     "metadata": {},
     "output_type": "display_data"
    }
   ],
   "source": [
    "import os\n",
    "building_path = '/Users/zeyuli/Desktop/Duke/0. Su23_Research/Blender_stuff/res/Bl_building_npy/'\n",
    "terrain_path = '/Users/zeyuli/Desktop/Duke/0. Su23_Research/Blender_stuff/res/Bl_terrain_npy/'\n",
    "\n",
    "arr_names = [f for f in os.listdir(building_path) if (os.path.isfile(building_path + f) and\n",
    "                                                      f != '.DS_Store')]\n",
    "\n",
    "print(arr_names)\n",
    "print(len(arr_names))\n",
    "\n",
    "building_arr = np.load(building_path + '0_f96f2893-4bc0-4c80-9848-ed399f4f8d6e.npy')\n",
    "terrain_arr = np.load(terrain_path + '0_f96f2893-4bc0-4c80-9848-ed399f4f8d6e.npy')\n",
    "print(building_arr[-10:-1, 0:10])\n",
    "print(np.argmax(building_arr), np.min(building_arr))\n",
    "print(terrain_arr[500:505, 500:505])\n",
    "plt.imshow(building_arr, cmap='gray')"
   ],
   "metadata": {
    "collapsed": false,
    "ExecuteTime": {
     "end_time": "2023-06-23T21:48:53.223673Z",
     "start_time": "2023-06-23T21:48:52.979392Z"
    }
   }
  },
  {
   "cell_type": "code",
   "execution_count": 64,
   "outputs": [
    {
     "name": "stdout",
     "output_type": "stream",
     "text": [
      "[[ 0  0  0 ...  0  0  0]\n",
      " [ 0  0  0 ...  0  0  0]\n",
      " [ 0  0  0 ...  0  0  0]\n",
      " ...\n",
      " [14 15 16 ...  0  0  0]\n",
      " [14 15 16 ...  0  0  0]\n",
      " [14 14 16 ...  0  0  0]]\n"
     ]
    }
   ],
   "source": [
    "building_short = building_arr[::20, ::20]\n",
    "print(building_short)"
   ],
   "metadata": {
    "collapsed": false,
    "ExecuteTime": {
     "end_time": "2023-06-23T17:26:31.498647Z",
     "start_time": "2023-06-23T17:26:31.485959Z"
    }
   }
  },
  {
   "cell_type": "code",
   "execution_count": 67,
   "outputs": [
    {
     "name": "stdout",
     "output_type": "stream",
     "text": [
      "[4, 5]\n"
     ]
    }
   ],
   "source": [
    "b = [1, 2, 3, 4, 5]\n",
    "print(b[-2:])"
   ],
   "metadata": {
    "collapsed": false,
    "ExecuteTime": {
     "end_time": "2023-06-23T20:22:05.164136Z",
     "start_time": "2023-06-23T20:22:05.156490Z"
    }
   }
  },
  {
   "cell_type": "code",
   "execution_count": null,
   "outputs": [],
   "source": [],
   "metadata": {
    "collapsed": false
   }
  }
 ],
 "metadata": {
  "kernelspec": {
   "display_name": "Python 3",
   "language": "python",
   "name": "python3"
  },
  "language_info": {
   "codemirror_mode": {
    "name": "ipython",
    "version": 2
   },
   "file_extension": ".py",
   "mimetype": "text/x-python",
   "name": "python",
   "nbconvert_exporter": "python",
   "pygments_lexer": "ipython2",
   "version": "2.7.6"
  }
 },
 "nbformat": 4,
 "nbformat_minor": 0
}
