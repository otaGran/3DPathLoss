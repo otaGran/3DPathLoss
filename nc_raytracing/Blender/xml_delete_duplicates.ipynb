{
 "cells": [
  {
   "cell_type": "code",
   "execution_count": 8,
   "metadata": {
    "collapsed": true,
    "ExecuteTime": {
     "end_time": "2023-08-11T11:01:45.864913Z",
     "start_time": "2023-08-11T11:01:45.859303Z"
    }
   },
   "outputs": [],
   "source": [
    "\"\"\"\n",
    "This Notebook is designed to re-write the XML files so that\n",
    "non-existent meshes/*.ply files specified within the XML\n",
    "file are deleted.\n",
    "\"\"\"\n",
    "\n",
    "import xml.etree.ElementTree as ET\n",
    "from dotenv import load_dotenv\n",
    "import os\n",
    "from os.path import join, dirname\n",
    "from blender_test_wraper import splitting_a_line\n",
    "\n",
    "load_dotenv(join('..', '.env'))\n",
    "BASE_PATH = os.environ.get('BASE_PATH')  # probably /dev/shm/res_plane/\n",
    "XML_PATH = 'Bl_xml_files/'\n",
    "\n",
    "# path containing all the fully-generated signal maps.\n",
    "BASE_PATH_SIONNA = '/home/yl826/3DPathLoss/nc_raytracing/cm_512_Aug10_7e6_isoTx/'"
   ]
  },
  {
   "cell_type": "code",
   "execution_count": 1,
   "outputs": [
    {
     "name": "stdout",
     "output_type": "stream",
     "text": [
      "/Users/zeyuli/Desktop/Duke/0. Su23_Research/Blender_stuff/res_plane/\n",
      "['0_ca290c79-7674-471b-85df-d24c59f989e7', '1000_08f52680-8afd-4e0a-b2fc-67e2cd2de31f', '1001_d3bcd342-5264-4225-91e4-8cb216e49479', '1002_040dffe2-8172-4924-8504-ee683dc5a063', '1003_343f05ce-4d42-46e1-bf19-03abd05e194f']\n"
     ]
    }
   ],
   "source": [
    "\n",
    "idx_uuid_sig_map = set([f.split('_')[0] + '_' + f.split('_')[1]\n",
    "                        for f in os.listdir(BASE_PATH_SIONNA)\n",
    "                        if os.path.isfile(BASE_PATH_SIONNA + f)])\n",
    "\n",
    "idx_uuid_fpath = join(BASE_PATH, 'step1.5.txt')\n",
    "f_ptr = open(idx_uuid_fpath, 'r')\n",
    "lines = f_ptr.readlines()\n",
    "f_ptr.close()\n",
    "\n",
    "idx_uuid_res_plane = set([splitting_a_line(line, uuid_incl='y')[-1] for line in lines])\n",
    "\n",
    "# set of idx_uuid with XML files that can't produce sig map due to error.\n",
    "bad_idx_uuid = idx_uuid_sig_map ^ idx_uuid_res_plane\n",
    "print(bad_idx_uuid[0:10], len(bad_idx_uuid))"
   ],
   "metadata": {
    "collapsed": false,
    "ExecuteTime": {
     "end_time": "2023-08-11T09:05:30.284962Z",
     "start_time": "2023-08-11T09:05:30.241696Z"
    }
   }
  },
  {
   "cell_type": "code",
   "execution_count": 9,
   "outputs": [],
   "source": [
    "# temp_idx_uuid = '6274_6097b38d-e60c-402f-a516-aad0b488e004'\n",
    "# temp_xml_file = join(BASE_PATH, XML_PATH, temp_idx_uuid, temp_idx_uuid) + '.xml'\n",
    "# print(xmlfile)"
   ],
   "metadata": {
    "collapsed": false,
    "ExecuteTime": {
     "end_time": "2023-08-11T11:01:49.127510Z",
     "start_time": "2023-08-11T11:01:49.118868Z"
    }
   }
  },
  {
   "cell_type": "code",
   "execution_count": 10,
   "outputs": [
    {
     "ename": "FileNotFoundError",
     "evalue": "[Errno 2] No such file or directory: '/Users/zeyuli/Desktop/Duke/0. Su23_Research/Blender_stuff/res_plane/Bl_xml_files/6274_6097b38d-e60c-402f-a516-aad0b488e004/6274_6097b38d-e60c-402f-a516-aad0b488e004.xml'",
     "output_type": "error",
     "traceback": [
      "\u001B[0;31m---------------------------------------------------------------------------\u001B[0m",
      "\u001B[0;31mFileNotFoundError\u001B[0m                         Traceback (most recent call last)",
      "Cell \u001B[0;32mIn[10], line 40\u001B[0m\n\u001B[1;32m     37\u001B[0m     tree\u001B[38;5;241m.\u001B[39mwrite(join(BASE_PATH, XML_PATH, idx_uuid, idx_uuid) \u001B[38;5;241m+\u001B[39m \u001B[38;5;124m'\u001B[39m\u001B[38;5;124m_new.xml\u001B[39m\u001B[38;5;124m'\u001B[39m)\n\u001B[1;32m     38\u001B[0m     \u001B[38;5;28;01mreturn\u001B[39;00m\n\u001B[0;32m---> 40\u001B[0m \u001B[43mcheck_xml_and_write\u001B[49m\u001B[43m(\u001B[49m\u001B[43mtemp_idx_uuid\u001B[49m\u001B[43m)\u001B[49m\n",
      "Cell \u001B[0;32mIn[10], line 3\u001B[0m, in \u001B[0;36mcheck_xml_and_write\u001B[0;34m(idx_uuid)\u001B[0m\n\u001B[1;32m      1\u001B[0m \u001B[38;5;28;01mdef\u001B[39;00m \u001B[38;5;21mcheck_xml_and_write\u001B[39m(idx_uuid):\n\u001B[1;32m      2\u001B[0m     xmlfile \u001B[38;5;241m=\u001B[39m join(BASE_PATH, XML_PATH, idx_uuid, idx_uuid) \u001B[38;5;241m+\u001B[39m \u001B[38;5;124m'\u001B[39m\u001B[38;5;124m.xml\u001B[39m\u001B[38;5;124m'\u001B[39m\n\u001B[0;32m----> 3\u001B[0m     tree \u001B[38;5;241m=\u001B[39m \u001B[43mET\u001B[49m\u001B[38;5;241;43m.\u001B[39;49m\u001B[43mparse\u001B[49m\u001B[43m(\u001B[49m\u001B[43mxmlfile\u001B[49m\u001B[43m)\u001B[49m\n\u001B[1;32m      4\u001B[0m     root \u001B[38;5;241m=\u001B[39m tree\u001B[38;5;241m.\u001B[39mgetroot()\n\u001B[1;32m      5\u001B[0m     meshes_list \u001B[38;5;241m=\u001B[39m [f \u001B[38;5;28;01mfor\u001B[39;00m f \u001B[38;5;129;01min\u001B[39;00m os\u001B[38;5;241m.\u001B[39mlistdir(join(BASE_PATH, XML_PATH, idx_uuid, \u001B[38;5;124m'\u001B[39m\u001B[38;5;124mmeshes/\u001B[39m\u001B[38;5;124m'\u001B[39m))]\n",
      "File \u001B[0;32m~/anaconda3/envs/3DPathLoss/lib/python3.10/xml/etree/ElementTree.py:1222\u001B[0m, in \u001B[0;36mparse\u001B[0;34m(source, parser)\u001B[0m\n\u001B[1;32m   1213\u001B[0m \u001B[38;5;250m\u001B[39m\u001B[38;5;124;03m\"\"\"Parse XML document into element tree.\u001B[39;00m\n\u001B[1;32m   1214\u001B[0m \n\u001B[1;32m   1215\u001B[0m \u001B[38;5;124;03m*source* is a filename or file object containing XML data,\u001B[39;00m\n\u001B[0;32m   (...)\u001B[0m\n\u001B[1;32m   1219\u001B[0m \n\u001B[1;32m   1220\u001B[0m \u001B[38;5;124;03m\"\"\"\u001B[39;00m\n\u001B[1;32m   1221\u001B[0m tree \u001B[38;5;241m=\u001B[39m ElementTree()\n\u001B[0;32m-> 1222\u001B[0m \u001B[43mtree\u001B[49m\u001B[38;5;241;43m.\u001B[39;49m\u001B[43mparse\u001B[49m\u001B[43m(\u001B[49m\u001B[43msource\u001B[49m\u001B[43m,\u001B[49m\u001B[43m \u001B[49m\u001B[43mparser\u001B[49m\u001B[43m)\u001B[49m\n\u001B[1;32m   1223\u001B[0m \u001B[38;5;28;01mreturn\u001B[39;00m tree\n",
      "File \u001B[0;32m~/anaconda3/envs/3DPathLoss/lib/python3.10/xml/etree/ElementTree.py:569\u001B[0m, in \u001B[0;36mElementTree.parse\u001B[0;34m(self, source, parser)\u001B[0m\n\u001B[1;32m    567\u001B[0m close_source \u001B[38;5;241m=\u001B[39m \u001B[38;5;28;01mFalse\u001B[39;00m\n\u001B[1;32m    568\u001B[0m \u001B[38;5;28;01mif\u001B[39;00m \u001B[38;5;129;01mnot\u001B[39;00m \u001B[38;5;28mhasattr\u001B[39m(source, \u001B[38;5;124m\"\u001B[39m\u001B[38;5;124mread\u001B[39m\u001B[38;5;124m\"\u001B[39m):\n\u001B[0;32m--> 569\u001B[0m     source \u001B[38;5;241m=\u001B[39m \u001B[38;5;28;43mopen\u001B[39;49m\u001B[43m(\u001B[49m\u001B[43msource\u001B[49m\u001B[43m,\u001B[49m\u001B[43m \u001B[49m\u001B[38;5;124;43m\"\u001B[39;49m\u001B[38;5;124;43mrb\u001B[39;49m\u001B[38;5;124;43m\"\u001B[39;49m\u001B[43m)\u001B[49m\n\u001B[1;32m    570\u001B[0m     close_source \u001B[38;5;241m=\u001B[39m \u001B[38;5;28;01mTrue\u001B[39;00m\n\u001B[1;32m    571\u001B[0m \u001B[38;5;28;01mtry\u001B[39;00m:\n",
      "\u001B[0;31mFileNotFoundError\u001B[0m: [Errno 2] No such file or directory: '/Users/zeyuli/Desktop/Duke/0. Su23_Research/Blender_stuff/res_plane/Bl_xml_files/6274_6097b38d-e60c-402f-a516-aad0b488e004/6274_6097b38d-e60c-402f-a516-aad0b488e004.xml'"
     ]
    }
   ],
   "source": [
    "def check_xml_and_write(idx_uuid):\n",
    "    xmlfile = join(BASE_PATH, XML_PATH, idx_uuid, idx_uuid) + '.xml'\n",
    "    tree = ET.parse(xmlfile)\n",
    "    root = tree.getroot()\n",
    "    meshes_list = [f for f in os.listdir(join(BASE_PATH, XML_PATH, idx_uuid, 'meshes/'))]\n",
    "\n",
    "    meshes_problem = []  # stores the indices in the tree where the mesh specified in XML doesn't exist as .ply\n",
    "    xml_all_shapes = root.findall('shape')  # only iterating through the shapes and not other fields\n",
    "    idx = 0\n",
    "    # finds all problematic shape indices\n",
    "    for item in xml_all_shapes:\n",
    "        for child in item:\n",
    "            mesh_name = child.get('value')\n",
    "            if mesh_name.split('/')[0] != 'meshes':\n",
    "                raise KeyError(str('mesh_name does not start with \"meshes/\"' + mesh_name))\n",
    "            if mesh_name.split('/')[1] not in meshes_list:\n",
    "                meshes_problem.append(idx)\n",
    "            break  # breaks since we only check the 'name' attribute in each shape entry\n",
    "        idx += 1\n",
    "    if len(meshes_problem) == 0:\n",
    "        print(\"Meshes don't have problems\")\n",
    "        return\n",
    "    ply_start_idx = 0\n",
    "    for item in root:  # finds the index in tree wrt root where the first shape is\n",
    "        if item.get('type') == 'ply':\n",
    "            print(ply_start_idx)\n",
    "            break\n",
    "        ply_start_idx += 1\n",
    "\n",
    "    meshes_problem = sorted(meshes_problem)\n",
    "    # actually removes the problematic shape entries\n",
    "    for diff_idx, prob_idx in enumerate(meshes_problem):\n",
    "        for child in root[prob_idx + ply_start_idx - diff_idx]:\n",
    "            print(child.get('value'))\n",
    "        root.remove(root[prob_idx + ply_start_idx - diff_idx])\n",
    "\n",
    "    tree.write(join(BASE_PATH, XML_PATH, idx_uuid, idx_uuid) + '_new.xml')\n",
    "    return\n",
    "\n",
    "\n",
    "for temp_idx_uuid in bad_idx_uuid:\n",
    "    check_xml_and_write(temp_idx_uuid)\n"
   ],
   "metadata": {
    "collapsed": false,
    "ExecuteTime": {
     "end_time": "2023-08-11T11:01:49.539436Z",
     "start_time": "2023-08-11T11:01:49.488852Z"
    }
   }
  },
  {
   "cell_type": "code",
   "execution_count": null,
   "outputs": [],
   "source": [],
   "metadata": {
    "collapsed": false
   }
  }
 ],
 "metadata": {
  "kernelspec": {
   "display_name": "Python 3",
   "language": "python",
   "name": "python3"
  },
  "language_info": {
   "codemirror_mode": {
    "name": "ipython",
    "version": 2
   },
   "file_extension": ".py",
   "mimetype": "text/x-python",
   "name": "python",
   "nbconvert_exporter": "python",
   "pygments_lexer": "ipython2",
   "version": "2.7.6"
  }
 },
 "nbformat": 4,
 "nbformat_minor": 0
}
