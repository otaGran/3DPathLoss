{
 "cells": [
  {
   "cell_type": "code",
   "execution_count": 14,
   "metadata": {
    "tags": [],
    "ExecuteTime": {
     "end_time": "2023-08-11T12:32:54.609868Z",
     "start_time": "2023-08-11T12:32:54.606082Z"
    }
   },
   "outputs": [],
   "source": [
    "\"\"\"\n",
    "This Notebook is designed to re-write the XML files so that\n",
    "non-existent meshes/*.ply files specified within the XML\n",
    "file are deleted:\n",
    "(<string name=\"filename\" value=\"meshes/element_001-itu_brick.ply\" />).\n",
    "It simultaneously checks for whether the material id:\n",
    "(<ref id=\"mat-itu_brick\" name=\"bsdf\" />)\n",
    "are properly defined. E.g. we dont want id=\"mat-roof\"\n",
    "\"\"\"\n",
    "\n",
    "import xml.etree.ElementTree as ET\n",
    "import os\n",
    "from os.path import join, dirname\n",
    "\n",
    "\n",
    "def splitting_a_line(lll, uuid_incl='n'):\n",
    "    lll = lll.replace('(', '')\n",
    "    lll = lll.replace(')', '')\n",
    "    lll = lll.replace('\\n', '')\n",
    "    lll = lll.split(',')\n",
    "    # file format: (minLon,maxLat,maxLon,minLat),percent,idx_uuid\n",
    "    if uuid_incl == 'y':\n",
    "        minLon, maxLat, maxLon, minLat, perc, idx_uuid = [k for k in lll]\n",
    "        return float(minLon), float(maxLat), float(maxLon), float(minLat), float(perc), idx_uuid\n",
    "    else:\n",
    "        minLon, maxLat, maxLon, minLat, perc = [float(k) for k in lll]\n",
    "        return minLon, maxLat, maxLon, minLat, perc\n",
    "\n",
    "\n",
    "BASE_PATH = '/home/yl826/res_plane/'  # probably /dev/shm/res_plane/\n",
    "# BASE_PATH = '/Users/zeyuli/Desktop/Duke/0. Su23_Research/Blender_stuff/res_plane_missing'\n",
    "XML_PATH = 'Bl_xml_files/'\n",
    "\n",
    "# path containing all the fully-generated signal maps.\n",
    "BASE_PATH_SIONNA = '/home/yl826/3DPathLoss/nc_raytracing/cm_512_Aug10_7e6_isoTx/'"
   ]
  },
  {
   "cell_type": "code",
   "execution_count": 16,
   "metadata": {
    "ExecuteTime": {
     "end_time": "2023-08-11T09:05:30.284962Z",
     "start_time": "2023-08-11T09:05:30.241696Z"
    },
    "collapsed": false,
    "jupyter": {
     "outputs_hidden": false
    },
    "tags": []
   },
   "outputs": [
    {
     "name": "stdout",
     "output_type": "stream",
     "text": [
      "15\n"
     ]
    }
   ],
   "source": [
    "\n",
    "idx_uuid_sig_map = set([f.split('_')[0] + '_' + f.split('_')[1]\n",
    "                        for f in os.listdir(BASE_PATH_SIONNA)\n",
    "                        if os.path.isfile(BASE_PATH_SIONNA + f)])\n",
    "\n",
    "idx_uuid_fpath = join(BASE_PATH, 'step1.5.txt')\n",
    "f_ptr = open(idx_uuid_fpath, 'r')\n",
    "lines = f_ptr.readlines()\n",
    "f_ptr.close()\n",
    "\n",
    "idx_uuid_res_plane = set([splitting_a_line(line, uuid_incl='y')[-1] for line in lines])\n",
    "\n",
    "# set of idx_uuid with XML files that can't produce sig map due to error.\n",
    "bad_idx_uuid = idx_uuid_sig_map ^ idx_uuid_res_plane\n",
    "print(len(bad_idx_uuid))"
   ]
  },
  {
   "cell_type": "code",
   "execution_count": 13,
   "metadata": {
    "ExecuteTime": {
     "end_time": "2023-08-11T11:01:49.127510Z",
     "start_time": "2023-08-11T11:01:49.118868Z"
    },
    "collapsed": false,
    "jupyter": {
     "outputs_hidden": false
    },
    "tags": []
   },
   "outputs": [
    {
     "name": "stdout",
     "output_type": "stream",
     "text": [
      "{'2198_a220f9e4-342e-45ca-8d7c-d200275a9db2', '1672_abfdb624-ac77-4a0b-9fc3-3122ac9dc381', '3883_58ad9053-838d-42b4-8069-5aa8f03094bc', '6231_80e39f72-8d27-4cc0-a4ff-4be83e986868', '840_80e6baee-8f3c-4df6-b180-c1ec7fbb6b63', '5164_9b428061-bfce-4681-b560-55c28c1673de', '2215_176c4ca6-811e-4125-b5b0-321c2aa40b1e', '1533_c393c8a8-642d-466e-98d2-40d41e9f3e4c', '4015_45aab618-ab6f-44a6-ae4a-056d16cc38ab', '6274_6097b38d-e60c-402f-a516-aad0b488e004', '6500_67805ca9-1a7e-4e38-b074-0485cede888c', '6292_03cf8cde-044f-45de-a3b1-7b48ab9b0b1b', '6170_54984b17-8cc5-468e-a0ed-b27be5a85c8d', '4024_005fee6b-a686-4e3c-9a4b-0711b706f2c7', '2599_35ee9842-cf05-4e63-84dc-d83569d6ef3c', '34_af418f85-58a3-4e3c-83ed-99e85f05448c', '6168_3358c2c4-d392-44b0-bc29-430f8720b146', '6221_aad5edf6-f281-4ebe-9ce7-0663dd010008', '6710_189f7567-2751-49e5-bdfe-ff58a9fd88a1', '5838_a39dd807-01eb-4d47-b6d4-fa27fbb74306', '55_f0f9b82d-6806-465e-b714-c9a1c239195d', '2755_f372895f-328b-49df-898e-e49928d32364', '5346_e20a7155-4663-45e0-9973-1e3de715bbae', '4678_371affc6-3b26-45c7-9107-e0682ff28b4b', '5098_8eda5973-adc4-44d9-94ad-39c5c6d29c22', '3587_037570c6-840a-4105-82e5-a7de0e0587fa', '3591_f9b113f7-a45e-4aea-9809-c45a0b29a6b0', '4008_c2aec338-2556-47da-b59d-4b7e0d2287c1', '738_729444b8-bd70-4cd3-a57c-d7175196677d', '83_dc467727-37d2-4caa-a5e2-da8c832223cb', '836_77ba6626-98f1-44ef-b209-14e05da9e7c7', '22_00da1e9a-af7d-4d2a-a197-9bf592ad3c42', '4081_2a2f5d10-c9da-485f-ad75-859170765121', '6554_f9b7e166-9474-4f31-8e51-abcc7b707dfd', '6300_18a3ba08-4623-4ff6-859e-9c171f6659ec', '40_3a0aa67c-1660-4d64-93f4-5c431c2ad7b6', '47_a6e78f82-7e59-4c54-8245-eb8a6907c27d'}\n"
     ]
    }
   ],
   "source": [
    "# temp_idx_uuid = '6274_6097b38d-e60c-402f-a516-aad0b488e004'\n",
    "# temp_xml_file = join(BASE_PATH, XML_PATH, temp_idx_uuid, temp_idx_uuid) + '.xml'\n",
    "# print(xmlfile)\n",
    "print(bad_idx_uuid)"
   ]
  },
  {
   "cell_type": "code",
   "execution_count": 24,
   "metadata": {
    "collapsed": false,
    "jupyter": {
     "outputs_hidden": false
    },
    "tags": [],
    "ExecuteTime": {
     "end_time": "2023-08-11T12:46:31.877394Z",
     "start_time": "2023-08-11T12:46:31.839322Z"
    }
   },
   "outputs": [
    {
     "name": "stdout",
     "output_type": "stream",
     "text": [
      "old id: mat-wall\n",
      "new id: mat-itu_brick\n",
      "old id: mat-roof\n",
      "new id: mat-itu_brick\n",
      "Meshes don't have problems\n",
      "6\n"
     ]
    }
   ],
   "source": [
    "def check_xml_and_write(idx_uuid):\n",
    "    accepted_materials = {'itu_brick', 'itu_plasterboard', 'itu_concrete'}\n",
    "    xmlfile = join(BASE_PATH, XML_PATH, idx_uuid, idx_uuid) + '.xml'\n",
    "    tree = ET.parse(xmlfile)\n",
    "    root = tree.getroot()\n",
    "    meshes_list = [f for f in os.listdir(join(BASE_PATH, XML_PATH, idx_uuid, 'meshes/'))]\n",
    "\n",
    "    meshes_problem = []  # stores the indices in the tree where the mesh specified in XML doesn't exist as .ply\n",
    "    xml_all_shapes = root.findall('shape')  # only iterating through the shapes and not other fields\n",
    "    idx = 0\n",
    "    changed_mat_name = False\n",
    "    # finds all problematic shape indices\n",
    "    for item in xml_all_shapes:\n",
    "        inner_idx = 0\n",
    "        for child in item:\n",
    "            mesh_name = child.get('value')\n",
    "            if inner_idx == 0:\n",
    "                if mesh_name.split('/')[0] != 'meshes':\n",
    "                    raise KeyError(str('mesh_name does not start with \"meshes/\"' + mesh_name))\n",
    "                if mesh_name.split('/')[1] not in meshes_list:\n",
    "                    meshes_problem.append(idx)\n",
    "            if inner_idx == 2:\n",
    "                old_id = str(child.get('id')).split('-')  # problematic ids will (hopefully) be: 'mat-wall' or 'mat-roof'\n",
    "                if old_id[1] in accepted_materials:\n",
    "                    continue\n",
    "                print('old id: ' + old_id[0] + '-' + old_id[1])\n",
    "                if old_id[1] != 'wall' and old_id[1] != 'roof':\n",
    "                    return KeyError('mat name is neither wall nor roof')\n",
    "                if old_id[1] == 'wall':\n",
    "                    child.set('id', 'mat-itu_brick')\n",
    "                if old_id[1] == 'roof':\n",
    "                    child.set('id', 'mat-itu_brick')\n",
    "                print('new id: ' + child.get('id'))\n",
    "                changed_mat_name = True\n",
    "            inner_idx += 1\n",
    "        idx += 1\n",
    "    if len(meshes_problem) == 0:\n",
    "        print(\"Meshes don't have problems\")\n",
    "    if not changed_mat_name:\n",
    "        print(\"Materials don't have any problems\")\n",
    "    if len(meshes_problem) == 0 and not changed_mat_name:\n",
    "        print('XML is fine, returning')\n",
    "        return\n",
    "    ply_start_idx = 0\n",
    "    for item in root:  # finds the index in tree wrt root where the first shape is\n",
    "        if item.get('type') == 'ply':\n",
    "            print(ply_start_idx)\n",
    "            break\n",
    "        ply_start_idx += 1\n",
    "\n",
    "    meshes_problem = sorted(meshes_problem)\n",
    "    # actually removes the problematic shape entries\n",
    "    for diff_idx, prob_idx in enumerate(meshes_problem):\n",
    "        for child in root[prob_idx + ply_start_idx - diff_idx]:\n",
    "            print(child.get('value'))\n",
    "            break\n",
    "        root.remove(root[prob_idx + ply_start_idx - diff_idx])\n",
    "\n",
    "    tree.write(join(BASE_PATH, XML_PATH, idx_uuid, idx_uuid) + '.xml')\n",
    "    return\n",
    "\n",
    "\n",
    "# for temp_idx_uuid in bad_idx_uuid:\n",
    "#     check_xml_and_write(temp_idx_uuid)\n",
    "check_xml_and_write(idx_uuid='840_80e6baee-8f3c-4df6-b180-c1ec7fbb6b63')"
   ]
  },
  {
   "cell_type": "code",
   "execution_count": null,
   "metadata": {
    "collapsed": false,
    "jupyter": {
     "outputs_hidden": false
    }
   },
   "outputs": [],
   "source": []
  }
 ],
 "metadata": {
  "kernelspec": {
   "display_name": "Python 3 (ipykernel)",
   "language": "python",
   "name": "python3"
  },
  "language_info": {
   "codemirror_mode": {
    "name": "ipython",
    "version": 3
   },
   "file_extension": ".py",
   "mimetype": "text/x-python",
   "name": "python",
   "nbconvert_exporter": "python",
   "pygments_lexer": "ipython3",
   "version": "3.8.0"
  }
 },
 "nbformat": 4,
 "nbformat_minor": 4
}
