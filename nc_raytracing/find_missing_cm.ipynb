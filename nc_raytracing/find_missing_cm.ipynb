{
 "cells": [
  {
   "cell_type": "code",
   "execution_count": 8,
   "id": "30e986d4-9b3b-4c2b-80ab-61f2fdbc7984",
   "metadata": {
    "tags": []
   },
   "outputs": [
    {
     "name": "stdout",
     "output_type": "stream",
     "text": [
      "['2324_175853f5-d501-4c51-ba85-9a3726aaef43', '2106_9e849623-65e8-40b3-9aab-6445194954cc', '2112_0293ff95-8482-4d24-b37b-06856e7536a5', '2280_1ede6c77-d809-414e-8e6d-c019a980182e', '3713_2b660433-9396-4d72-ba70-2d44ac34e2ee']\n"
     ]
    }
   ],
   "source": [
    "import os\n",
    "\n",
    "\n",
    "def splitting_a_line(lll, uuid_incl='n'):\n",
    "    lll = lll.replace('(', '')\n",
    "    lll = lll.replace(')', '')\n",
    "    lll = lll.replace('\\n', '')\n",
    "    lll = lll.split(',')\n",
    "    # file format: (minLon,maxLat,maxLon,minLat),percent,idx_uuid\n",
    "    if uuid_incl == 'y':\n",
    "        minLon, maxLat, maxLon, minLat, perc, idx_uuid = [k for k in lll]\n",
    "        return float(minLon), float(maxLat), float(maxLon), float(minLat), float(perc), idx_uuid\n",
    "    else:\n",
    "        if len(lll) == 5:\n",
    "            minLon, maxLat, maxLon, minLat, perc = [float(k) for k in lll]\n",
    "        if len(lll) == 6:\n",
    "            minLon, maxLat, maxLon, minLat, perc = [float(k) for k in lll[0:-1]]\n",
    "        return minLon, maxLat, maxLon, minLat, perc\n",
    "\n",
    "\n",
    "step15_ptr = open('/dev/shm/res_plane/step1.5.txt', 'r')\n",
    "lines = step15_ptr.readlines()\n",
    "step15_ptr.close()\n",
    "\n",
    "sionna_cm_path = '/dev/shm/coverage_maps_building_map_test_Jul4/'\n",
    "sionna_cm_files = [f[0:-4] for f in os.listdir(sionna_cm_path) if os.path.isfile(sionna_cm_path+f)]\n",
    "print(sionna_cm_files[0:5])\n",
    "missing_ptr = open('missing_cm.txt', 'w')\n",
    "for idx, line in enumerate(lines):\n",
    "    _,_,_,_,_, idx_uuid = splitting_a_line(lll=line, uuid_incl='y')\n",
    "    if str(idx_uuid) in sionna_cm_files:\n",
    "        continue\n",
    "    missing_ptr.write(line)"
   ]
  },
  {
   "cell_type": "code",
   "execution_count": null,
   "id": "4a9453a6-8ac3-46cb-a3e8-8010af6d70a3",
   "metadata": {},
   "outputs": [],
   "source": []
  }
 ],
 "metadata": {
  "kernelspec": {
   "display_name": "Python 3 (ipykernel)",
   "language": "python",
   "name": "python3"
  },
  "language_info": {
   "codemirror_mode": {
    "name": "ipython",
    "version": 3
   },
   "file_extension": ".py",
   "mimetype": "text/x-python",
   "name": "python",
   "nbconvert_exporter": "python",
   "pygments_lexer": "ipython3",
   "version": "3.8.0"
  }
 },
 "nbformat": 4,
 "nbformat_minor": 5
}
